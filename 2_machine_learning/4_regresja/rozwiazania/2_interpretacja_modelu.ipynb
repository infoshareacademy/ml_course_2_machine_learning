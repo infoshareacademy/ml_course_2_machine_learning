{
 "cells": [
  {
   "cell_type": "markdown",
   "metadata": {},
   "source": [
    "# Interpretacja modelu\n",
    "Zbiór danych: https://www.kaggle.com/datasets/fedesoriano/wind-speed-prediction-dataset\n",
    "\n",
    "Będziemy korzystać z tego samego zbioru danych."
   ]
  },
  {
   "cell_type": "code",
   "execution_count": 1,
   "metadata": {},
   "outputs": [],
   "source": [
    "from  sklearn.linear_model import LinearRegression\n",
    "import pandas as pd\n",
    "import numpy as np\n",
    "import os\n",
    "import matplotlib.pyplot as plt\n"
   ]
  },
  {
   "cell_type": "code",
   "execution_count": 2,
   "metadata": {},
   "outputs": [],
   "source": [
    "os.chdir('../')"
   ]
  },
  {
   "cell_type": "code",
   "execution_count": 3,
   "metadata": {},
   "outputs": [],
   "source": [
    "# puść ten kod, \n",
    "# jeżeli wywołujesz plik  w folderze rozwiąznaia, \n",
    "# a ramka danych znajduje się w folderze data\n",
    "import os \n",
    "os.chdir('../')"
   ]
  },
  {
   "cell_type": "code",
   "execution_count": 4,
   "metadata": {},
   "outputs": [],
   "source": [
    "# Wczytanie zbiorów z poprzednich zajęć\n",
    "train_x = pd.read_csv('data/wind_train_x.csv')\n",
    "test_x = pd.read_csv('data/wind_test_x.csv')\n",
    "train_y = pd.read_csv('data/wind_train_y.csv')\n",
    "test_y = pd.read_csv('data/wind_test_y.csv')"
   ]
  },
  {
   "cell_type": "code",
   "execution_count": 4,
   "metadata": {},
   "outputs": [],
   "source": [
    "del train_x['Unnamed: 0']\n",
    "del test_x['Unnamed: 0']\n",
    "del train_y['Unnamed: 0']\n",
    "del test_y['Unnamed: 0']"
   ]
  },
  {
   "cell_type": "code",
   "execution_count": 5,
   "metadata": {},
   "outputs": [],
   "source": [
    "# Estymacja modelu\n",
    "model = LinearRegression().fit(train_x,train_y)"
   ]
  },
  {
   "cell_type": "code",
   "execution_count": 10,
   "metadata": {},
   "outputs": [
    {
     "data": {
      "text/plain": [
       "array([[-2.30948604e+03,  1.70923724e-03, -1.09008918e-01,\n",
       "         1.12826303e+00,  5.43959525e-02, -4.02147966e-02,\n",
       "         1.41304788e-04,  2.68382408e-02]])"
      ]
     },
     "execution_count": 10,
     "metadata": {},
     "output_type": "execute_result"
    }
   ],
   "source": [
    "# współczynniki\n",
    "model.coef_"
   ]
  },
  {
   "cell_type": "code",
   "execution_count": 11,
   "metadata": {},
   "outputs": [
    {
     "data": {
      "text/plain": [
       "array(['RAIN_inverse', 'T.MAX_3', 'T.MAX_2', 'T.MAX', 'T.MAX_T.MIN',\n",
       "       'T.MIN_2', 'T.MIN_3', 'T.MIN'], dtype=object)"
      ]
     },
     "execution_count": 11,
     "metadata": {},
     "output_type": "execute_result"
    }
   ],
   "source": [
    "# Nazwy zmiennych\n",
    "model.feature_names_in_"
   ]
  },
  {
   "cell_type": "code",
   "execution_count": 13,
   "metadata": {},
   "outputs": [
    {
     "data": {
      "text/plain": [
       "np.float64(-2309.4860432702462)"
      ]
     },
     "execution_count": 13,
     "metadata": {},
     "output_type": "execute_result"
    }
   ],
   "source": [
    "# Jeden współczynnik\n",
    "model.coef_[0][0]"
   ]
  },
  {
   "cell_type": "code",
   "execution_count": null,
   "metadata": {},
   "outputs": [],
   "source": [
    "# rain_inverse = 1/ (rain+100)"
   ]
  },
  {
   "cell_type": "code",
   "execution_count": null,
   "metadata": {},
   "outputs": [],
   "source": []
  },
  {
   "cell_type": "code",
   "execution_count": 17,
   "metadata": {},
   "outputs": [
    {
     "name": "stdout",
     "output_type": "stream",
     "text": [
      "Wzrost wartosci zmiennej rain_inverse o jednostkę, powoduje spadek siły wiatru o 2309.4860432702462\n"
     ]
    }
   ],
   "source": [
    "# Interpretacja zmiennej 1/(rain+100)\n",
    "coef = model.coef_[0][0]\n",
    "print(f'Wzrost wartosci zmiennej rain_inverse o jednostkę, powoduje spadek siły wiatru o {abs(coef)}')\n"
   ]
  },
  {
   "cell_type": "code",
   "execution_count": 18,
   "metadata": {},
   "outputs": [
    {
     "data": {
      "text/plain": [
       "count    3716.000000\n",
       "mean        0.009889\n",
       "std         0.000181\n",
       "min         0.009132\n",
       "25%         0.009852\n",
       "50%         0.009990\n",
       "75%         0.010000\n",
       "max         0.010000\n",
       "Name: RAIN_inverse, dtype: float64"
      ]
     },
     "execution_count": 18,
     "metadata": {},
     "output_type": "execute_result"
    }
   ],
   "source": [
    "train_x['RAIN_inverse'].describe()"
   ]
  },
  {
   "cell_type": "code",
   "execution_count": 19,
   "metadata": {},
   "outputs": [],
   "source": [
    "df = pd.read_csv('data/wind_dataset.csv')"
   ]
  },
  {
   "cell_type": "code",
   "execution_count": 20,
   "metadata": {},
   "outputs": [
    {
     "data": {
      "text/plain": [
       "count    6574.000000\n",
       "mean        1.885169\n",
       "std         4.030529\n",
       "min         0.000000\n",
       "25%         0.000000\n",
       "50%         0.200000\n",
       "75%         2.000000\n",
       "max        67.000000\n",
       "Name: RAIN, dtype: float64"
      ]
     },
     "execution_count": 20,
     "metadata": {},
     "output_type": "execute_result"
    }
   ],
   "source": [
    "df['RAIN'].describe()"
   ]
  },
  {
   "cell_type": "code",
   "execution_count": 26,
   "metadata": {},
   "outputs": [],
   "source": [
    "# przy założeniu, że TMin = 0 , TMAX=0 \n",
    "rain = np.arange(0,67,step=1)\n",
    "rain_inverse = 1/(rain+100)\n",
    "y = rain_inverse * coef"
   ]
  },
  {
   "cell_type": "code",
   "execution_count": 27,
   "metadata": {},
   "outputs": [
    {
     "data": {
      "image/png": "[encoded data removed]",
      "text/plain": [
       "<Figure size 640x480 with 1 Axes>"
      ]
     },
     "metadata": {},
     "output_type": "display_data"
    }
   ],
   "source": [
    "plt.plot(rain, y)\n",
    "plt.show()"
   ]
  }
 ],
 "metadata": {
  "kernelspec": {
   "display_name": "Python 3",
   "language": "python",
   "name": "python3"
  },
  "language_info": {
   "codemirror_mode": {
    "name": "ipython",
    "version": 3
   },
   "file_extension": ".py",
   "mimetype": "text/x-python",
   "name": "python",
   "nbconvert_exporter": "python",
   "pygments_lexer": "ipython3",
   "version": "3.12.5"
  }
 },
 "nbformat": 4,
 "nbformat_minor": 2
}
