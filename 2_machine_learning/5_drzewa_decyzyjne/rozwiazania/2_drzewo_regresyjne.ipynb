{
 "cells": [
  {
   "cell_type": "markdown",
   "metadata": {},
   "source": [
    "# Drzewo regresyjne\n",
    "\n",
    "Wróćmy do przykładu pokazanego podczas lekcji z regresji liniowej.\n",
    "\n",
    "Zbiór danych: https://www.kaggle.com/datasets/fedesoriano/wind-speed-prediction-dataset\n",
    "\n",
    "Dokumentacja: https://scikit-learn.org/stable/modules/generated/sklearn.tree.DecisionTreeRegressor.html\n",
    "\n",
    "Parametry tylko dla regresji:\n",
    "\n",
    "criterion{“squared_error”, “friedman_mse”, “absolute_error”, “poisson”}, default=”squared_error”"
   ]
  },
  {
   "cell_type": "code",
   "execution_count": 1,
   "metadata": {},
   "outputs": [],
   "source": [
    "from  sklearn.tree import DecisionTreeRegressor\n",
    "import pandas as pd\n",
    "import numpy as np\n",
    "import os\n",
    "import matplotlib.pyplot as plt\n",
    "from sklearn.metrics import mean_absolute_error"
   ]
  },
  {
   "cell_type": "code",
   "execution_count": 2,
   "metadata": {},
   "outputs": [],
   "source": [
    "os.chdir('../')"
   ]
  },
  {
   "cell_type": "code",
   "execution_count": 3,
   "metadata": {},
   "outputs": [],
   "source": [
    "# puść ten kod, \n",
    "# jeżeli wywołujesz plik  w folderze rozwiąznaia, \n",
    "# a ramka danych znajduje się w folderze data\n",
    "import os \n",
    "os.chdir('../')"
   ]
  },
  {
   "cell_type": "code",
   "execution_count": 4,
   "metadata": {},
   "outputs": [],
   "source": [
    "# Wczytanie danych\n",
    "df = pd.read_csv(\"data/wind_dataset.csv\")"
   ]
  },
  {
   "cell_type": "code",
   "execution_count": null,
   "metadata": {},
   "outputs": [],
   "source": [
    "# nagłówek\n",
    "df.head()"
   ]
  },
  {
   "cell_type": "code",
   "execution_count": null,
   "metadata": {},
   "outputs": [],
   "source": [
    "# Typy danych\n",
    "df.info()"
   ]
  },
  {
   "cell_type": "code",
   "execution_count": 7,
   "metadata": {},
   "outputs": [],
   "source": [
    "# Zmiana typu daty\n",
    "df['DATE'] = pd.to_datetime(df['DATE'])"
   ]
  },
  {
   "cell_type": "code",
   "execution_count": 8,
   "metadata": {},
   "outputs": [],
   "source": [
    "# Dodamy kilka informacji o okresie w trakcie roku\n",
    "df['month'] = df['DATE'].dt.month\n",
    "df['quarter'] = df['DATE'].dt.quarter\n",
    "df['day'] = df['DATE'].dt.day"
   ]
  },
  {
   "cell_type": "code",
   "execution_count": 9,
   "metadata": {},
   "outputs": [],
   "source": [
    "# Podział na zbior treningowy i testowy wykonamy po datach\n",
    "# Często przyjmuje się założenie - uczymy na starszych danych, testujemy na nowszych\n",
    "threshold = df['DATE'].quantile(0.7)\n",
    "train = df[df['DATE']<=threshold].reset_index(drop=True)\n",
    "test = df[df['DATE']> threshold].reset_index(drop=True)"
   ]
  },
  {
   "cell_type": "code",
   "execution_count": null,
   "metadata": {},
   "outputs": [],
   "source": [
    "threshold"
   ]
  },
  {
   "cell_type": "code",
   "execution_count": null,
   "metadata": {},
   "outputs": [],
   "source": [
    "# kolumny\n",
    "df.columns"
   ]
  },
  {
   "cell_type": "code",
   "execution_count": 12,
   "metadata": {},
   "outputs": [],
   "source": [
    "# zmienne do modelu\n",
    "x_names = df.columns[2:]"
   ]
  },
  {
   "cell_type": "code",
   "execution_count": 13,
   "metadata": {},
   "outputs": [],
   "source": [
    "# Podział na zbiory\n",
    "train_x = train[x_names]\n",
    "test_x = test[x_names]\n",
    "train_y = train['WIND']\n",
    "test_y = test['WIND']"
   ]
  },
  {
   "cell_type": "code",
   "execution_count": 14,
   "metadata": {},
   "outputs": [],
   "source": [
    "# Estymacja modelu\n",
    "model = DecisionTreeRegressor(max_depth=10, min_samples_leaf=20, min_samples_split=30, ccp_alpha=0.1).fit(train_x,train_y)"
   ]
  },
  {
   "cell_type": "code",
   "execution_count": null,
   "metadata": {},
   "outputs": [],
   "source": [
    "# ważność zmiennych\n",
    "model.feature_importances_"
   ]
  },
  {
   "cell_type": "code",
   "execution_count": null,
   "metadata": {},
   "outputs": [],
   "source": [
    "# nazwy zmiennych\n",
    "model.feature_names_in_"
   ]
  },
  {
   "cell_type": "code",
   "execution_count": 17,
   "metadata": {},
   "outputs": [],
   "source": [
    "# Usunięcie zbędnych kolumn\n",
    "for i in ['IND','IND.1','IND.2','day']:\n",
    "    del train_x[i]\n",
    "    del test_x[i]\n"
   ]
  },
  {
   "cell_type": "code",
   "execution_count": 18,
   "metadata": {},
   "outputs": [],
   "source": [
    "# Estymacja modelu\n",
    "model = DecisionTreeRegressor(max_depth=10, min_samples_leaf=20, min_samples_split=30, ccp_alpha=0.1).fit(train_x,train_y)"
   ]
  },
  {
   "cell_type": "code",
   "execution_count": 19,
   "metadata": {},
   "outputs": [],
   "source": [
    "# predykcje\n",
    "train_pred = model.predict(train_x)\n",
    "test_pred= model.predict(test_x)\n",
    "total_pred = model.predict(df[model.feature_names_in_])"
   ]
  },
  {
   "cell_type": "code",
   "execution_count": null,
   "metadata": {},
   "outputs": [],
   "source": [
    "# Wykres rozrzutu\n",
    "plt.scatter(total_pred, df['WIND'])\n",
    "plt.plot(np.arange(0,df['WIND'].max()+1),np.arange(0,df['WIND'].max()+1),color='red')\n",
    "plt.show()"
   ]
  },
  {
   "cell_type": "code",
   "execution_count": null,
   "metadata": {},
   "outputs": [],
   "source": [
    "df['pred'] = total_pred\n",
    "df.groupby('pred')['WIND'].mean()"
   ]
  },
  {
   "cell_type": "code",
   "execution_count": null,
   "metadata": {},
   "outputs": [],
   "source": [
    "test['pred'] = test_pred\n",
    "test.groupby('pred')['WIND'].mean()"
   ]
  },
  {
   "cell_type": "markdown",
   "metadata": {},
   "source": [
    "Wykres rozrzutu wygląda na osi X jak skończona liczba punktów, co jest logiczne, z uwagi na skonczoną liczbę liści.\n",
    "\n",
    "Teraz narysujemy drzewo.\n",
    "\n",
    "dokumentacja: https://scikit-learn.org/1.5/modules/generated/sklearn.tree.plot_tree.html"
   ]
  },
  {
   "cell_type": "code",
   "execution_count": 23,
   "metadata": {},
   "outputs": [],
   "source": [
    "from sklearn.tree import plot_tree"
   ]
  },
  {
   "cell_type": "code",
   "execution_count": null,
   "metadata": {},
   "outputs": [],
   "source": [
    "# wykres drzewa\n",
    "plt.figure(figsize=[15,12])\n",
    "plot_tree(model, feature_names=model.feature_names_in_, filled=True)\n",
    "plt.show()"
   ]
  },
  {
   "cell_type": "code",
   "execution_count": 21,
   "metadata": {},
   "outputs": [],
   "source": []
  },
  {
   "cell_type": "code",
   "execution_count": null,
   "metadata": {},
   "outputs": [],
   "source": [
    "# MAE train\n",
    "mean_absolute_error(train_y, train_pred)"
   ]
  },
  {
   "cell_type": "code",
   "execution_count": null,
   "metadata": {},
   "outputs": [],
   "source": [
    "# MAE test\n",
    "mean_absolute_error(test_y, test_pred)"
   ]
  },
  {
   "cell_type": "code",
   "execution_count": 27,
   "metadata": {},
   "outputs": [],
   "source": [
    "# Stwórzmy model bez parametru ccp_alpha\n",
    "\n",
    "model_2 = DecisionTreeRegressor(max_depth=10, min_samples_leaf=20, min_samples_split=30).fit(train_x, train_y)"
   ]
  },
  {
   "cell_type": "code",
   "execution_count": 28,
   "metadata": {},
   "outputs": [],
   "source": [
    "# predykcje\n",
    "\n",
    "train_pred_2 = model_2.predict(train_x)\n",
    "test_pred_2 = model_2.predict(test_x) "
   ]
  },
  {
   "cell_type": "code",
   "execution_count": null,
   "metadata": {},
   "outputs": [],
   "source": [
    "# MAE train\n",
    "mean_absolute_error(train_y, train_pred_2)"
   ]
  },
  {
   "cell_type": "code",
   "execution_count": null,
   "metadata": {},
   "outputs": [],
   "source": [
    "# MAE test\n",
    "mean_absolute_error(test_y, test_pred_2)"
   ]
  },
  {
   "cell_type": "code",
   "execution_count": null,
   "metadata": {},
   "outputs": [],
   "source": [
    "# R2\n",
    "model_2.score(test_x,test_y)"
   ]
  },
  {
   "cell_type": "code",
   "execution_count": null,
   "metadata": {},
   "outputs": [],
   "source": [
    "# z modelu możemy odczytać parametry\n",
    "model.criterion"
   ]
  },
  {
   "cell_type": "code",
   "execution_count": null,
   "metadata": {},
   "outputs": [],
   "source": [
    "model_2.get_n_leaves()"
   ]
  },
  {
   "cell_type": "markdown",
   "metadata": {},
   "source": [
    "Chociaż na zbiorze treningowym błąd się zmniejszył, to na zbiorze testowym jest wyższy, lepiej wybrać mniej złożony model. \n",
    "Aby porównać model drzewa do regresji liniowe, Należałoby wytrenować i przetestować modele na tym samym zbiorze."
   ]
  },
  {
   "cell_type": "code",
   "execution_count": 34,
   "metadata": {},
   "outputs": [],
   "source": [
    "# porównanie z regresją liniową \n",
    "from sklearn.linear_model import LinearRegression\n",
    "linear_model = LinearRegression().fit(train.dropna()[model.feature_names_in_],train.dropna()['WIND'])"
   ]
  },
  {
   "cell_type": "code",
   "execution_count": 35,
   "metadata": {},
   "outputs": [],
   "source": [
    "# predykcje\n",
    "l_train_pred = linear_model.predict(train_x.dropna())\n",
    "l_test_pred = linear_model.predict(test_x.dropna())"
   ]
  },
  {
   "cell_type": "code",
   "execution_count": null,
   "metadata": {},
   "outputs": [],
   "source": [
    "# MAE test\n",
    "mean_absolute_error(test.dropna()['WIND'], l_test_pred)"
   ]
  },
  {
   "cell_type": "code",
   "execution_count": null,
   "metadata": {},
   "outputs": [],
   "source": []
  },
  {
   "cell_type": "code",
   "execution_count": null,
   "metadata": {},
   "outputs": [],
   "source": []
  }
 ],
 "metadata": {
  "kernelspec": {
   "display_name": "Python 3",
   "language": "python",
   "name": "python3"
  },
  "language_info": {
   "codemirror_mode": {
    "name": "ipython",
    "version": 3
   },
   "file_extension": ".py",
   "mimetype": "text/x-python",
   "name": "python",
   "nbconvert_exporter": "python",
   "pygments_lexer": "ipython3",
   "version": "3.12.5"
  }
 },
 "nbformat": 4,
 "nbformat_minor": 2
}
