{
 "cells": [
  {
   "cell_type": "markdown",
   "metadata": {},
   "source": [
    "# Drzewo klasyfikacyjne\n",
    "\n",
    "Wrócimy dziś do zbioru churn z projektu regresji logistycznej. Spróbujemy stworzyć rozwiązanie dla umów bezterminowych.\n",
    "\n",
    "Zbiór danych: https://www.kaggle.com/datasets/mehmetsabrikunt/internet-service-churn\n"
   ]
  },
  {
   "cell_type": "code",
   "execution_count": 1,
   "metadata": {},
   "outputs": [],
   "source": [
    "from  sklearn.tree import DecisionTreeClassifier\n",
    "import pandas as pd\n",
    "import numpy as np\n",
    "import os\n",
    "import matplotlib.pyplot as plt\n",
    "import math\n",
    "from sklearn.model_selection import train_test_split"
   ]
  },
  {
   "cell_type": "code",
   "execution_count": 2,
   "metadata": {},
   "outputs": [],
   "source": [
    "# Wyznaczenie entropii\n",
    "def entropia(y: int, n: int):\n",
    "    t = y+n\n",
    "    return - (y/t * math.log(y/t,2) +n/t * math.log(n/t,2))"
   ]
  },
  {
   "cell_type": "code",
   "execution_count": 3,
   "metadata": {},
   "outputs": [],
   "source": [
    "# Wyznaczenie indeksu giniego\n",
    "def gini_index(y: int, n: int):\n",
    "    t = y+n\n",
    "    return 1- ((y/t)**2 + (n/t)**2)"
   ]
  },
  {
   "cell_type": "code",
   "execution_count": 4,
   "metadata": {},
   "outputs": [
    {
     "data": {
      "text/plain": [
       "2.137424295738942e-05"
      ]
     },
     "execution_count": 4,
     "metadata": {},
     "output_type": "execute_result"
    }
   ],
   "source": [
    "entropia(100,0.0001)"
   ]
  },
  {
   "cell_type": "code",
   "execution_count": 5,
   "metadata": {},
   "outputs": [
    {
     "data": {
      "text/plain": [
       "0.0"
      ]
     },
     "execution_count": 5,
     "metadata": {},
     "output_type": "execute_result"
    }
   ],
   "source": [
    "gini_index(100,0)"
   ]
  },
  {
   "cell_type": "code",
   "execution_count": 6,
   "metadata": {},
   "outputs": [
    {
     "data": {
      "text/plain": [
       "1.0"
      ]
     },
     "execution_count": 6,
     "metadata": {},
     "output_type": "execute_result"
    }
   ],
   "source": [
    "entropia(50,50)"
   ]
  },
  {
   "cell_type": "code",
   "execution_count": 7,
   "metadata": {},
   "outputs": [
    {
     "data": {
      "text/plain": [
       "0.5"
      ]
     },
     "execution_count": 7,
     "metadata": {},
     "output_type": "execute_result"
    }
   ],
   "source": [
    "gini_index(50,50)"
   ]
  },
  {
   "cell_type": "code",
   "execution_count": 8,
   "metadata": {},
   "outputs": [],
   "source": [
    "# puść ten kod, \n",
    "# jeżeli wywołujesz plik  w folderze rozwiąznaia, \n",
    "# a ramka danych znajduje się w folderze data\n",
    "import os \n",
    "os.chdir('../')"
   ]
  },
  {
   "cell_type": "code",
   "execution_count": 9,
   "metadata": {},
   "outputs": [],
   "source": [
    "# Pobranie danych\n",
    "os.chdir('../')\n",
    "\n",
    "df = pd.read_csv('data/internet_service_churn.csv')"
   ]
  },
  {
   "cell_type": "code",
   "execution_count": 15,
   "metadata": {},
   "outputs": [
    {
     "data": {
      "text/html": [
       "<div>\n",
       "<style scoped>\n",
       "    .dataframe tbody tr th:only-of-type {\n",
       "        vertical-align: middle;\n",
       "    }\n",
       "\n",
       "    .dataframe tbody tr th {\n",
       "        vertical-align: top;\n",
       "    }\n",
       "\n",
       "    .dataframe thead th {\n",
       "        text-align: right;\n",
       "    }\n",
       "</style>\n",
       "<table border=\"1\" class=\"dataframe\">\n",
       "  <thead>\n",
       "    <tr style=\"text-align: right;\">\n",
       "      <th></th>\n",
       "      <th>id</th>\n",
       "      <th>is_tv_subscriber</th>\n",
       "      <th>is_movie_package_subscriber</th>\n",
       "      <th>subscription_age</th>\n",
       "      <th>bill_avg</th>\n",
       "      <th>reamining_contract</th>\n",
       "      <th>service_failure_count</th>\n",
       "      <th>download_avg</th>\n",
       "      <th>upload_avg</th>\n",
       "      <th>download_over_limit</th>\n",
       "      <th>churn</th>\n",
       "    </tr>\n",
       "  </thead>\n",
       "  <tbody>\n",
       "    <tr>\n",
       "      <th>0</th>\n",
       "      <td>15</td>\n",
       "      <td>1</td>\n",
       "      <td>0</td>\n",
       "      <td>11.95</td>\n",
       "      <td>25</td>\n",
       "      <td>0.14</td>\n",
       "      <td>0</td>\n",
       "      <td>8.4</td>\n",
       "      <td>2.3</td>\n",
       "      <td>0</td>\n",
       "      <td>0</td>\n",
       "    </tr>\n",
       "    <tr>\n",
       "      <th>1</th>\n",
       "      <td>18</td>\n",
       "      <td>0</td>\n",
       "      <td>0</td>\n",
       "      <td>8.22</td>\n",
       "      <td>0</td>\n",
       "      <td>NaN</td>\n",
       "      <td>0</td>\n",
       "      <td>0.0</td>\n",
       "      <td>0.0</td>\n",
       "      <td>0</td>\n",
       "      <td>1</td>\n",
       "    </tr>\n",
       "    <tr>\n",
       "      <th>2</th>\n",
       "      <td>23</td>\n",
       "      <td>1</td>\n",
       "      <td>0</td>\n",
       "      <td>8.91</td>\n",
       "      <td>16</td>\n",
       "      <td>0.00</td>\n",
       "      <td>0</td>\n",
       "      <td>13.7</td>\n",
       "      <td>0.9</td>\n",
       "      <td>0</td>\n",
       "      <td>1</td>\n",
       "    </tr>\n",
       "    <tr>\n",
       "      <th>3</th>\n",
       "      <td>27</td>\n",
       "      <td>0</td>\n",
       "      <td>0</td>\n",
       "      <td>6.87</td>\n",
       "      <td>21</td>\n",
       "      <td>NaN</td>\n",
       "      <td>1</td>\n",
       "      <td>0.0</td>\n",
       "      <td>0.0</td>\n",
       "      <td>0</td>\n",
       "      <td>1</td>\n",
       "    </tr>\n",
       "    <tr>\n",
       "      <th>4</th>\n",
       "      <td>34</td>\n",
       "      <td>0</td>\n",
       "      <td>0</td>\n",
       "      <td>6.39</td>\n",
       "      <td>0</td>\n",
       "      <td>NaN</td>\n",
       "      <td>0</td>\n",
       "      <td>0.0</td>\n",
       "      <td>0.0</td>\n",
       "      <td>0</td>\n",
       "      <td>1</td>\n",
       "    </tr>\n",
       "  </tbody>\n",
       "</table>\n",
       "</div>"
      ],
      "text/plain": [
       "   id  is_tv_subscriber  is_movie_package_subscriber  subscription_age  \\\n",
       "0  15                 1                            0             11.95   \n",
       "1  18                 0                            0              8.22   \n",
       "2  23                 1                            0              8.91   \n",
       "3  27                 0                            0              6.87   \n",
       "4  34                 0                            0              6.39   \n",
       "\n",
       "   bill_avg  reamining_contract  service_failure_count  download_avg  \\\n",
       "0        25                0.14                      0           8.4   \n",
       "1         0                 NaN                      0           0.0   \n",
       "2        16                0.00                      0          13.7   \n",
       "3        21                 NaN                      1           0.0   \n",
       "4         0                 NaN                      0           0.0   \n",
       "\n",
       "   upload_avg  download_over_limit  churn  \n",
       "0         2.3                    0      0  \n",
       "1         0.0                    0      1  \n",
       "2         0.9                    0      1  \n",
       "3         0.0                    0      1  \n",
       "4         0.0                    0      1  "
      ]
     },
     "execution_count": 15,
     "metadata": {},
     "output_type": "execute_result"
    }
   ],
   "source": [
    "# nagłówek\n",
    "df.head()"
   ]
  },
  {
   "cell_type": "code",
   "execution_count": 16,
   "metadata": {},
   "outputs": [],
   "source": [
    "# usunięcie braków danych dla download / upload \n",
    "df = df[~(df['download_avg'].isna())]"
   ]
  },
  {
   "cell_type": "code",
   "execution_count": 17,
   "metadata": {},
   "outputs": [],
   "source": [
    "# Sworzenie zmiennej czy umowa terminowa\n",
    "df['is_fixed_term'] = (~(df['reamining_contract'].isna())).astype(int)"
   ]
  },
  {
   "cell_type": "code",
   "execution_count": 18,
   "metadata": {},
   "outputs": [],
   "source": [
    "# Stworzenie zbioru dla umów beterminowych.\n",
    "\n",
    "df_indefinite = df[df['is_fixed_term']==0]"
   ]
  },
  {
   "cell_type": "code",
   "execution_count": 19,
   "metadata": {},
   "outputs": [
    {
     "data": {
      "text/plain": [
       "churn\n",
       "1    19719\n",
       "0     1799\n",
       "Name: count, dtype: int64"
      ]
     },
     "execution_count": 19,
     "metadata": {},
     "output_type": "execute_result"
    }
   ],
   "source": [
    "# liczba odejść w umowach bezterminowych\n",
    "df_indefinite.churn.value_counts()"
   ]
  },
  {
   "cell_type": "code",
   "execution_count": 22,
   "metadata": {},
   "outputs": [
    {
     "data": {
      "text/plain": [
       "churn\n",
       "1    0.916396\n",
       "0    0.083604\n",
       "Name: count, dtype: float64"
      ]
     },
     "execution_count": 22,
     "metadata": {},
     "output_type": "execute_result"
    }
   ],
   "source": [
    "# Udział\n",
    "df_indefinite.churn.value_counts()/df_indefinite.shape[0]"
   ]
  },
  {
   "cell_type": "markdown",
   "metadata": {},
   "source": [
    "Decyzji o pozostaniu mamy niespełna 9%. Można rozważyć takie próbkowanie, aby zwiększyć udział 0. Wtedy jednak nie możemy korzystać z wyników predykcji jak z prawdpodobieństwa. Na tym etapie, spróbujemy stworzyć model, bez zmieniania danych."
   ]
  },
  {
   "cell_type": "code",
   "execution_count": 23,
   "metadata": {},
   "outputs": [
    {
     "data": {
      "text/plain": [
       "id                             False\n",
       "is_tv_subscriber               False\n",
       "is_movie_package_subscriber    False\n",
       "subscription_age               False\n",
       "bill_avg                       False\n",
       "reamining_contract              True\n",
       "service_failure_count          False\n",
       "download_avg                   False\n",
       "upload_avg                     False\n",
       "download_over_limit            False\n",
       "churn                          False\n",
       "is_fixed_term                  False\n",
       "dtype: bool"
      ]
     },
     "execution_count": 23,
     "metadata": {},
     "output_type": "execute_result"
    }
   ],
   "source": [
    "df_indefinite.isna().max()"
   ]
  },
  {
   "cell_type": "code",
   "execution_count": 25,
   "metadata": {},
   "outputs": [
    {
     "data": {
      "text/plain": [
       "Index(['id', 'is_tv_subscriber', 'is_movie_package_subscriber',\n",
       "       'subscription_age', 'bill_avg', 'reamining_contract',\n",
       "       'service_failure_count', 'download_avg', 'upload_avg',\n",
       "       'download_over_limit', 'churn', 'is_fixed_term'],\n",
       "      dtype='object')"
      ]
     },
     "execution_count": 25,
     "metadata": {},
     "output_type": "execute_result"
    }
   ],
   "source": [
    "# kolumny\n",
    "df_indefinite.columns"
   ]
  },
  {
   "cell_type": "code",
   "execution_count": 30,
   "metadata": {},
   "outputs": [],
   "source": [
    "#wybranie zmiennych do modelu \n",
    "x_names = list(df_indefinite.columns[1:-2])"
   ]
  },
  {
   "cell_type": "code",
   "execution_count": 32,
   "metadata": {},
   "outputs": [],
   "source": [
    "del x_names[x_names.index('reamining_contract')]"
   ]
  },
  {
   "cell_type": "code",
   "execution_count": 33,
   "metadata": {},
   "outputs": [],
   "source": [
    "# Podział zbioru \n",
    "\n",
    "train_x, test_x, train_y, test_y = train_test_split(df_indefinite[x_names],df_indefinite['churn'], test_size=0.3, random_state=123)"
   ]
  },
  {
   "cell_type": "code",
   "execution_count": 34,
   "metadata": {},
   "outputs": [],
   "source": [
    "# Estymacja modelu\n",
    "model  = DecisionTreeClassifier().fit(train_x,train_y)"
   ]
  },
  {
   "cell_type": "code",
   "execution_count": 35,
   "metadata": {},
   "outputs": [
    {
     "data": {
      "text/plain": [
       "array([0.01684852, 0.02915652, 0.28635531, 0.1680284 , 0.02469105,\n",
       "       0.30725963, 0.15553193, 0.01212864])"
      ]
     },
     "execution_count": 35,
     "metadata": {},
     "output_type": "execute_result"
    }
   ],
   "source": [
    "# Ważność zmiennych\n",
    "model.feature_importances_"
   ]
  },
  {
   "cell_type": "code",
   "execution_count": 36,
   "metadata": {},
   "outputs": [
    {
     "data": {
      "text/html": [
       "<div>\n",
       "<style scoped>\n",
       "    .dataframe tbody tr th:only-of-type {\n",
       "        vertical-align: middle;\n",
       "    }\n",
       "\n",
       "    .dataframe tbody tr th {\n",
       "        vertical-align: top;\n",
       "    }\n",
       "\n",
       "    .dataframe thead th {\n",
       "        text-align: right;\n",
       "    }\n",
       "</style>\n",
       "<table border=\"1\" class=\"dataframe\">\n",
       "  <thead>\n",
       "    <tr style=\"text-align: right;\">\n",
       "      <th></th>\n",
       "      <th>name</th>\n",
       "      <th>importance</th>\n",
       "    </tr>\n",
       "  </thead>\n",
       "  <tbody>\n",
       "    <tr>\n",
       "      <th>5</th>\n",
       "      <td>download_avg</td>\n",
       "      <td>0.307260</td>\n",
       "    </tr>\n",
       "    <tr>\n",
       "      <th>2</th>\n",
       "      <td>subscription_age</td>\n",
       "      <td>0.286355</td>\n",
       "    </tr>\n",
       "    <tr>\n",
       "      <th>3</th>\n",
       "      <td>bill_avg</td>\n",
       "      <td>0.168028</td>\n",
       "    </tr>\n",
       "    <tr>\n",
       "      <th>6</th>\n",
       "      <td>upload_avg</td>\n",
       "      <td>0.155532</td>\n",
       "    </tr>\n",
       "    <tr>\n",
       "      <th>1</th>\n",
       "      <td>is_movie_package_subscriber</td>\n",
       "      <td>0.029157</td>\n",
       "    </tr>\n",
       "    <tr>\n",
       "      <th>4</th>\n",
       "      <td>service_failure_count</td>\n",
       "      <td>0.024691</td>\n",
       "    </tr>\n",
       "    <tr>\n",
       "      <th>0</th>\n",
       "      <td>is_tv_subscriber</td>\n",
       "      <td>0.016849</td>\n",
       "    </tr>\n",
       "    <tr>\n",
       "      <th>7</th>\n",
       "      <td>download_over_limit</td>\n",
       "      <td>0.012129</td>\n",
       "    </tr>\n",
       "  </tbody>\n",
       "</table>\n",
       "</div>"
      ],
      "text/plain": [
       "                          name  importance\n",
       "5                 download_avg    0.307260\n",
       "2             subscription_age    0.286355\n",
       "3                     bill_avg    0.168028\n",
       "6                   upload_avg    0.155532\n",
       "1  is_movie_package_subscriber    0.029157\n",
       "4        service_failure_count    0.024691\n",
       "0             is_tv_subscriber    0.016849\n",
       "7          download_over_limit    0.012129"
      ]
     },
     "execution_count": 36,
     "metadata": {},
     "output_type": "execute_result"
    }
   ],
   "source": [
    "# ładniejsza postać\n",
    "importances = pd.DataFrame(columns=['name','importance'])\n",
    "importances['name'] = model.feature_names_in_\n",
    "importances['importance'] = model.feature_importances_\n",
    "importances.sort_values(by='importance',ascending = False)\n"
   ]
  },
  {
   "cell_type": "code",
   "execution_count": 44,
   "metadata": {},
   "outputs": [
    {
     "data": {
      "text/plain": [
       "2    subscription_age\n",
       "3            bill_avg\n",
       "5        download_avg\n",
       "6          upload_avg\n",
       "Name: name, dtype: object"
      ]
     },
     "execution_count": 44,
     "metadata": {},
     "output_type": "execute_result"
    }
   ],
   "source": [
    "# usuńmy nieistotne zmienne\n",
    "x_names_2  =importances.loc[importances['importance']>0.05,'name']\n",
    "x_names_2"
   ]
  },
  {
   "cell_type": "code",
   "execution_count": 45,
   "metadata": {},
   "outputs": [],
   "source": [
    "train_x2 = train_x[x_names_2]\n",
    "test_x2 = test_x[x_names_2]"
   ]
  },
  {
   "cell_type": "code",
   "execution_count": 46,
   "metadata": {},
   "outputs": [],
   "source": [
    "# Estymacja modelu\n",
    "model_2 = DecisionTreeClassifier().fit(train_x2,train_y)"
   ]
  },
  {
   "cell_type": "code",
   "execution_count": null,
   "metadata": {},
   "outputs": [],
   "source": []
  },
  {
   "cell_type": "code",
   "execution_count": 47,
   "metadata": {},
   "outputs": [
    {
     "data": {
      "text/plain": [
       "array([0.30400808, 0.1858243 , 0.33520629, 0.17496134])"
      ]
     },
     "execution_count": 47,
     "metadata": {},
     "output_type": "execute_result"
    }
   ],
   "source": [
    "# Ważność zmiennych\n",
    "model_2.feature_importances_"
   ]
  },
  {
   "cell_type": "code",
   "execution_count": 49,
   "metadata": {},
   "outputs": [
    {
     "data": {
      "text/plain": [
       "array(['subscription_age', 'bill_avg', 'download_avg', 'upload_avg'],\n",
       "      dtype=object)"
      ]
     },
     "execution_count": 49,
     "metadata": {},
     "output_type": "execute_result"
    }
   ],
   "source": [
    "model_2.feature_names_in_"
   ]
  },
  {
   "cell_type": "code",
   "execution_count": 50,
   "metadata": {},
   "outputs": [],
   "source": [
    "# predykcje \n",
    "train_pred = model_2.predict(train_x2)\n",
    "test_pred = model_2.predict(test_x2)"
   ]
  },
  {
   "cell_type": "code",
   "execution_count": 51,
   "metadata": {},
   "outputs": [],
   "source": [
    "from sklearn.metrics import classification_report"
   ]
  },
  {
   "cell_type": "code",
   "execution_count": 52,
   "metadata": {},
   "outputs": [
    {
     "name": "stdout",
     "output_type": "stream",
     "text": [
      "              precision    recall  f1-score   support\n",
      "\n",
      "           0       1.00      1.00      1.00      1231\n",
      "           1       1.00      1.00      1.00     13831\n",
      "\n",
      "    accuracy                           1.00     15062\n",
      "   macro avg       1.00      1.00      1.00     15062\n",
      "weighted avg       1.00      1.00      1.00     15062\n",
      "\n"
     ]
    }
   ],
   "source": [
    "# classification report train\n",
    "print(classification_report(train_y,train_pred))"
   ]
  },
  {
   "cell_type": "code",
   "execution_count": 53,
   "metadata": {},
   "outputs": [
    {
     "name": "stdout",
     "output_type": "stream",
     "text": [
      "              precision    recall  f1-score   support\n",
      "\n",
      "           0       0.31      0.32      0.32       568\n",
      "           1       0.93      0.93      0.93      5888\n",
      "\n",
      "    accuracy                           0.88      6456\n",
      "   macro avg       0.62      0.63      0.62      6456\n",
      "weighted avg       0.88      0.88      0.88      6456\n",
      "\n"
     ]
    }
   ],
   "source": [
    "# classification report test\n",
    "print(classification_report(test_y,test_pred))"
   ]
  },
  {
   "cell_type": "markdown",
   "metadata": {},
   "source": [
    "Model jest przeuczony, postaramy się to zmienić zagłębiając się w hiperparametry modelu"
   ]
  },
  {
   "cell_type": "markdown",
   "metadata": {},
   "source": [
    "# Hiperparametry modelu\n",
    "\n",
    "Dokumentacja: https://scikit-learn.org/stable/modules/generated/sklearn.tree.DecisionTreeClassifier.html"
   ]
  },
  {
   "cell_type": "markdown",
   "metadata": {},
   "source": [
    "Hiperparametry modelu pomagają zwiększyć jakość modelu oraz zmniejszyć przeuczenie.\n",
    "\n",
    "Parametry do optymalizacji:\n",
    "- criterion{“gini”, “entropy”, “log_loss”}, default=”gini” - kryterium optymalizacji drzewa\n",
    "- splitter{“best”, “random”}, default=”best” - Sposób wyboru najlepszego podziału\n",
    "- max_depth int, default=None - maksymalna głębokość drzewa\n",
    "- min_samples_split int or float, default=2 - minimalna liczebność próby, aby dokonać kolejnego podziału\n",
    "- min_samples_leaf int or float, default=1 - minimalna liczebność próby w liściu.\n",
    "- min_weight_fraction_leaf float, default=0.0 - minimalny ważony udział z całości zbioru. Jeżeli nie ma wagi, to każdy rekord jest traktowany tak samo.\n",
    "- max_features int, float or {“sqrt”, “log2”}, default=None - liczba zmiennych rozważana przy każdym podziale.\n",
    "- random_state - ziarno losowania.\n",
    "- max_leaf_nodes int, default=None - maksymalna liczba liści\n",
    "- min_impurity_decrease float, default=0.0 - podział zostanie stworzony, jeżeli wartość criterion zmniejszy się o co najmniej podaną wartość.\n",
    "- class_weight dict, list of dict or “balanced”, default=None - wagi klas.\n",
    "- ccp_alpha non-negative float, default=0.0 - parametr złożoności drzewa. dla 0 nie ma przycięć. Im wyższa wartość tym mniej złożone drzewo.\n",
    "- monotonic_cstarray-like of int of shape (n_features), default=None - ustalenie zależności monotonicznej zmiennych."
   ]
  },
  {
   "cell_type": "code",
   "execution_count": 54,
   "metadata": {},
   "outputs": [],
   "source": [
    "# Dodajmy parametry zmniejszające złożoność drzewa\n",
    "model_2 = DecisionTreeClassifier(max_depth=15, min_samples_leaf=20).fit(train_x2,train_y)"
   ]
  },
  {
   "cell_type": "code",
   "execution_count": 55,
   "metadata": {},
   "outputs": [],
   "source": [
    "# predykcje \n",
    "train_pred = model_2.predict(train_x2)\n",
    "test_pred = model_2.predict(test_x2)\n"
   ]
  },
  {
   "cell_type": "code",
   "execution_count": 56,
   "metadata": {},
   "outputs": [
    {
     "name": "stdout",
     "output_type": "stream",
     "text": [
      "              precision    recall  f1-score   support\n",
      "\n",
      "           0       0.67      0.26      0.38      1231\n",
      "           1       0.94      0.99      0.96     13831\n",
      "\n",
      "    accuracy                           0.93     15062\n",
      "   macro avg       0.80      0.63      0.67     15062\n",
      "weighted avg       0.92      0.93      0.91     15062\n",
      "\n"
     ]
    }
   ],
   "source": [
    "# classification report train\n",
    "print(classification_report(train_y,train_pred))"
   ]
  },
  {
   "cell_type": "code",
   "execution_count": 57,
   "metadata": {},
   "outputs": [
    {
     "name": "stdout",
     "output_type": "stream",
     "text": [
      "              precision    recall  f1-score   support\n",
      "\n",
      "           0       0.54      0.20      0.29       568\n",
      "           1       0.93      0.98      0.95      5888\n",
      "\n",
      "    accuracy                           0.91      6456\n",
      "   macro avg       0.73      0.59      0.62      6456\n",
      "weighted avg       0.89      0.91      0.90      6456\n",
      "\n"
     ]
    }
   ],
   "source": [
    "# classification report test\n",
    "print(classification_report(test_y,test_pred))"
   ]
  },
  {
   "cell_type": "code",
   "execution_count": 58,
   "metadata": {},
   "outputs": [],
   "source": [
    "# Dodanie wagi do modelu\n",
    "model_3 = DecisionTreeClassifier(max_depth=20, min_samples_leaf=25, min_impurity_decrease=0.03, class_weight={1: 1, 0:10}).fit(train_x2,train_y)"
   ]
  },
  {
   "cell_type": "code",
   "execution_count": 59,
   "metadata": {},
   "outputs": [],
   "source": [
    "# predykcje \n",
    "train_pred = model_3.predict(train_x2)\n",
    "test_pred = model_3.predict(test_x2)"
   ]
  },
  {
   "cell_type": "code",
   "execution_count": 60,
   "metadata": {},
   "outputs": [
    {
     "name": "stdout",
     "output_type": "stream",
     "text": [
      "              precision    recall  f1-score   support\n",
      "\n",
      "           0       0.16      0.94      0.27      1231\n",
      "           1       0.99      0.55      0.70     13831\n",
      "\n",
      "    accuracy                           0.58     15062\n",
      "   macro avg       0.57      0.74      0.48     15062\n",
      "weighted avg       0.92      0.58      0.67     15062\n",
      "\n"
     ]
    }
   ],
   "source": [
    "# classification report train\n",
    "print(classification_report(train_y,train_pred))"
   ]
  },
  {
   "cell_type": "code",
   "execution_count": 61,
   "metadata": {},
   "outputs": [
    {
     "name": "stdout",
     "output_type": "stream",
     "text": [
      "              precision    recall  f1-score   support\n",
      "\n",
      "           0       0.16      0.93      0.28       568\n",
      "           1       0.99      0.54      0.70      5888\n",
      "\n",
      "    accuracy                           0.57      6456\n",
      "   macro avg       0.57      0.73      0.49      6456\n",
      "weighted avg       0.91      0.57      0.66      6456\n",
      "\n"
     ]
    }
   ],
   "source": [
    "# classification report test\n",
    "print(classification_report(test_y,test_pred))"
   ]
  },
  {
   "cell_type": "markdown",
   "metadata": {},
   "source": [
    "Stworzenie modelu z ograniczeniami spowodowało zmniejszenie przeuczenia, jednak jakość predykcji dla 0 jest znacząco niższa. Stąd dodanie wag dla klas, które poprawiło jakość. "
   ]
  }
 ],
 "metadata": {
  "kernelspec": {
   "display_name": "Python 3",
   "language": "python",
   "name": "python3"
  },
  "language_info": {
   "codemirror_mode": {
    "name": "ipython",
    "version": 3
   },
   "file_extension": ".py",
   "mimetype": "text/x-python",
   "name": "python",
   "nbconvert_exporter": "python",
   "pygments_lexer": "ipython3",
   "version": "3.12.5"
  }
 },
 "nbformat": 4,
 "nbformat_minor": 2
}
