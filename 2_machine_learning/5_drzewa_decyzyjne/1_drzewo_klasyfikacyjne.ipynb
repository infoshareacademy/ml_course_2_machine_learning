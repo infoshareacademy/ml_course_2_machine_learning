{
 "cells": [
  {
   "cell_type": "markdown",
   "metadata": {},
   "source": [
    "# Drzewo klasyfikacyjne\n",
    "\n",
    "Wrócimy dziś do zbioru churn z projektu regresji logistycznej. Spróbujemy stworzyć rozwiązanie dla umów bezterminowych.\n",
    "\n",
    "Zbiór danych: https://www.kaggle.com/datasets/mehmetsabrikunt/internet-service-churn\n"
   ]
  },
  {
   "cell_type": "code",
   "execution_count": 1,
   "metadata": {},
   "outputs": [],
   "source": [
    "from  sklearn.tree import DecisionTreeClassifier\n",
    "import pandas as pd\n",
    "import numpy as np\n",
    "import os\n",
    "import matplotlib.pyplot as plt\n",
    "import math\n",
    "from sklearn.model_selection import train_test_split"
   ]
  },
  {
   "cell_type": "code",
   "execution_count": null,
   "metadata": {},
   "outputs": [],
   "source": [
    "# Wyznaczenie entropii\n",
    "def entropia(y: int, n: int):\n",
    "    pass"
   ]
  },
  {
   "cell_type": "code",
   "execution_count": null,
   "metadata": {},
   "outputs": [],
   "source": [
    "# Wyznaczenie indeksu giniego\n",
    "def gini_index(y: int, n: int):\n",
    "    pass"
   ]
  },
  {
   "cell_type": "code",
   "execution_count": 2,
   "metadata": {},
   "outputs": [],
   "source": [
    "# Pobranie danych\n",
    "os.chdir('../')\n",
    "\n",
    "df = pd.read_csv('data/internet_service_churn.csv')"
   ]
  },
  {
   "cell_type": "code",
   "execution_count": null,
   "metadata": {},
   "outputs": [],
   "source": [
    "# nagłówek\n"
   ]
  },
  {
   "cell_type": "code",
   "execution_count": 4,
   "metadata": {},
   "outputs": [],
   "source": [
    "# usunięcie braków danych dla download / upload \n",
    "df = df[~(df['download_avg'].isna())]"
   ]
  },
  {
   "cell_type": "code",
   "execution_count": 5,
   "metadata": {},
   "outputs": [],
   "source": [
    "# Sworzenie zmiennej czy umowa terminowa\n",
    "df['is_fixed_term'] = (~(df['reamining_contract'].isna())).astype(int)"
   ]
  },
  {
   "cell_type": "code",
   "execution_count": 6,
   "metadata": {},
   "outputs": [],
   "source": [
    "# Stworzenie zbioru dla umów beterminowych.\n",
    "\n",
    "df_indefinite = df[df['is_fixed_term']==0]"
   ]
  },
  {
   "cell_type": "code",
   "execution_count": null,
   "metadata": {},
   "outputs": [],
   "source": [
    "# liczba odejść w umowach bezterminowych\n",
    "df_indefinite.churn.value_counts()"
   ]
  },
  {
   "cell_type": "code",
   "execution_count": null,
   "metadata": {},
   "outputs": [],
   "source": [
    "# Udział\n"
   ]
  },
  {
   "cell_type": "markdown",
   "metadata": {},
   "source": [
    "Decyzji o pozostaniu mamy niespełna 9%. Można rozważyć takie próbkowanie, aby zwiększyć udział 0. Wtedy jednak nie możemy korzystać z wyników predykcji jak z prawdpodobieństwa. Na tym etapie, spróbujemy stworzyć model, bez zmieniania danych."
   ]
  },
  {
   "cell_type": "code",
   "execution_count": null,
   "metadata": {},
   "outputs": [],
   "source": [
    "# kolumny"
   ]
  },
  {
   "cell_type": "code",
   "execution_count": 10,
   "metadata": {},
   "outputs": [],
   "source": [
    "#wybranie zmiennych do modelu \n"
   ]
  },
  {
   "cell_type": "code",
   "execution_count": 11,
   "metadata": {},
   "outputs": [],
   "source": [
    "# Podział zbioru \n",
    "\n",
    "train_x, test_x, train_y, test_y = train_test_split(df_indefinite[x_names],df_indefinite['churn'], test_size=0.3, random_state=123)"
   ]
  },
  {
   "cell_type": "code",
   "execution_count": 13,
   "metadata": {},
   "outputs": [],
   "source": [
    "# Estymacja modelu\n"
   ]
  },
  {
   "cell_type": "code",
   "execution_count": null,
   "metadata": {},
   "outputs": [],
   "source": [
    "# Ważność zmiennych\n"
   ]
  },
  {
   "cell_type": "code",
   "execution_count": null,
   "metadata": {},
   "outputs": [],
   "source": [
    "# ładniejsza postać\n"
   ]
  },
  {
   "cell_type": "code",
   "execution_count": null,
   "metadata": {},
   "outputs": [],
   "source": [
    "# usuńmy nieistotne zmienne\n"
   ]
  },
  {
   "cell_type": "code",
   "execution_count": 17,
   "metadata": {},
   "outputs": [],
   "source": [
    "train_x2 = train_x[x_names_2]\n",
    "test_x2 = test_x[x_names_2]"
   ]
  },
  {
   "cell_type": "code",
   "execution_count": 18,
   "metadata": {},
   "outputs": [],
   "source": [
    "# Estymacja modelu\n"
   ]
  },
  {
   "cell_type": "code",
   "execution_count": null,
   "metadata": {},
   "outputs": [],
   "source": [
    "# Ważność zmiennych\n"
   ]
  },
  {
   "cell_type": "code",
   "execution_count": 20,
   "metadata": {},
   "outputs": [],
   "source": [
    "# predykcje \n"
   ]
  },
  {
   "cell_type": "code",
   "execution_count": 21,
   "metadata": {},
   "outputs": [],
   "source": [
    "from sklearn.metrics import classification_report"
   ]
  },
  {
   "cell_type": "code",
   "execution_count": null,
   "metadata": {},
   "outputs": [],
   "source": [
    "# classification report train"
   ]
  },
  {
   "cell_type": "code",
   "execution_count": null,
   "metadata": {},
   "outputs": [],
   "source": [
    "# classification report train\n"
   ]
  },
  {
   "cell_type": "markdown",
   "metadata": {},
   "source": [
    "Model jest przeuczony, postaramy się to zmienić zagłębiając się w hiperparametry modelu"
   ]
  },
  {
   "cell_type": "markdown",
   "metadata": {},
   "source": [
    "# Hiperparametry modelu\n",
    "\n",
    "Dokumentacja: https://scikit-learn.org/stable/modules/generated/sklearn.tree.DecisionTreeClassifier.html"
   ]
  },
  {
   "cell_type": "markdown",
   "metadata": {},
   "source": [
    "Hiperparametry modelu pomagają zwiększyć jakość modelu oraz zmniejszyć przeuczenie.\n",
    "\n",
    "Parametry do optymalizacji:\n",
    "- criterion{“gini”, “entropy”, “log_loss”}, default=”gini” - kryterium optymalizacji drzewa\n",
    "- splitter{“best”, “random”}, default=”best” - Sposób wyboru najlepszego podziału\n",
    "- max_depth int, default=None - maksymalna głębokość drzewa\n",
    "- min_samples_split int or float, default=2 - minimalna liczebność próby, aby dokonać kolejnego podziału\n",
    "- min_samples_leaf int or float, default=1 - minimalna liczebność próby w liściu.\n",
    "- min_weight_fraction_leaf float, default=0.0 - minimalny ważony udział z całości zbioru. Jeżeli nie ma wagi, to każdy rekord jest traktowany tak samo.\n",
    "- max_features int, float or {“sqrt”, “log2”}, default=None - liczba zmiennych rozważana przy każdym podziale.\n",
    "- random_state - ziarno losowania.\n",
    "- max_leaf_nodes int, default=None - maksymalna liczba liści\n",
    "- min_impurity_decrease float, default=0.0 - podział zostanie stworzony, jeżeli wartość criterion zmniejszy się o co najmniej podaną wartość.\n",
    "- class_weight dict, list of dict or “balanced”, default=None - wagi klas.\n",
    "- ccp_alpha non-negative float, default=0.0 - parametr złożoności drzewa. dla 0 nie ma przycięć. Im wyższa wartość tym mniej złożone drzewo.\n",
    "- monotonic_cstarray-like of int of shape (n_features), default=None - ustalenie zależności monotonicznej zmiennych."
   ]
  },
  {
   "cell_type": "code",
   "execution_count": 24,
   "metadata": {},
   "outputs": [],
   "source": [
    "# Dodajmy parametry zmniejszające złożoność drzewa\n"
   ]
  },
  {
   "cell_type": "code",
   "execution_count": 25,
   "metadata": {},
   "outputs": [],
   "source": [
    "# predykcje \n"
   ]
  },
  {
   "cell_type": "code",
   "execution_count": null,
   "metadata": {},
   "outputs": [],
   "source": [
    "# classification report train\n",
    "print(classification_report(train_y,train_pred))"
   ]
  },
  {
   "cell_type": "code",
   "execution_count": null,
   "metadata": {},
   "outputs": [],
   "source": [
    "# classification report test\n",
    "print(classification_report(test_y,test_pred))"
   ]
  },
  {
   "cell_type": "code",
   "execution_count": 28,
   "metadata": {},
   "outputs": [],
   "source": [
    "# Dodanie wagi do modelu\n"
   ]
  },
  {
   "cell_type": "code",
   "execution_count": 29,
   "metadata": {},
   "outputs": [],
   "source": [
    "# predykcje \n"
   ]
  },
  {
   "cell_type": "code",
   "execution_count": null,
   "metadata": {},
   "outputs": [],
   "source": [
    "# classification report train\n",
    "print(classification_report(train_y,train_pred))"
   ]
  },
  {
   "cell_type": "code",
   "execution_count": null,
   "metadata": {},
   "outputs": [],
   "source": [
    "# classification report test\n",
    "print(classification_report(test_y,test_pred))"
   ]
  },
  {
   "cell_type": "markdown",
   "metadata": {},
   "source": [
    "Stworzenie modelu z ograniczeniami spowodowało zmniejszenie przeuczenia, jednak jakość predykcji dla 0 jest znacząco niższa. Stąd dodanie wag dla klas, które poprawiło jakość. "
   ]
  }
 ],
 "metadata": {
  "kernelspec": {
   "display_name": "Python 3",
   "language": "python",
   "name": "python3"
  },
  "language_info": {
   "codemirror_mode": {
    "name": "ipython",
    "version": 3
   },
   "file_extension": ".py",
   "mimetype": "text/x-python",
   "name": "python",
   "nbconvert_exporter": "python",
   "pygments_lexer": "ipython3",
   "version": "3.12.5"
  }
 },
 "nbformat": 4,
 "nbformat_minor": 2
}
