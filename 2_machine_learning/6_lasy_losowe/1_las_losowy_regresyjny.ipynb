{
 "cells": [
  {
   "cell_type": "markdown",
   "metadata": {},
   "source": [
    "# Las losowy regresyjny\n",
    "\n",
    "Dokumentacja: https://scikit-learn.org/stable/modules/generated/sklearn.ensemble.RandomForestRegressor.html\n",
    "\n",
    "Parametry:\n",
    "\n",
    "1. Te same, które mamy w drzewach:\n",
    "- criterion{“squared_error”, “absolute_error”, “friedman_mse”, “poisson”},, default=squared_error - kryterium optymalizacji drzewa\n",
    "- splitter{“best”, “random”}, default=”best” - Sposób wyboru najlepszego podziału\n",
    "- max_depth int, default=None - maksymalna głębokość drzewa\n",
    "- min_samples_split int or float, default=2 - minimalna liczebność próby, aby dokonać kolejnego podziału\n",
    "- min_samples_leaf int or float, default=1 - minimalna liczebność próby w liściu.\n",
    "- min_weight_fraction_leaf float, default=0.0 - minimalny ważony udział z całości zbioru. Jeżeli nie ma wagi, to każdy rekord jest traktowany tak samo.\n",
    "- max_features int, float or {“sqrt”, “log2”}, default=None - liczba zmiennych rozważana przy każdym podziale.\n",
    "- max_leaf_nodes int, default=None - maksymalna liczba liści\n",
    "- min_impurity_decrease float, default=0.0 - podział zostanie stworzony, jeżeli wartość criterion zmniejszy się o co najmniej podaną wartość.\n",
    "- random_state - ziarno losowania.\n",
    "- class_weight dict, list of dict or “balanced”, default=None - wagi klas.\n",
    "- ccp_alpha non-negative float, default=0.0 - parametr złożoności drzewa. dla 0 nie ma przycięć. Im wyższa wartość tym mniej złożone drzewo.\n",
    "- monotonic_cst array-like of int of shape (n_features), default=None - ustalenie zależności monotonicznej zmiennych.\n",
    "\n",
    "2. Nowe parametry:\n",
    "- n_estimators int, default=100 - liczba drzew w modelu.\n",
    "- bootstrap bool, default=True - czy ma zostać użyta metoda pootstrap do tworzenia drzew. Jeżeli nie, za każdym razem będzie użyty cały zbiór.\n",
    "- max_samples int or float, default=None - wielkość próbki bootstrap do wyznaczenia jednego drzewa.\n",
    "- oob_score bool or callable, default=False - Używalne tylko, gdy bootstrap = True, użycie out-of-bag próbek do wyznaczenia oceny.\n",
    "- n_jobs int, default=None - Liczba równoległych procesów przy trenowaniu. None oznacza 1, a -1 maksymalna liczba.\n",
    "- verbose int, default=0 - kontrola szczegółowości outputów w trakcie estymacji.\n",
    "- warm_start bool, default=False - dla True przy ponownym fitowaniu, użyje wcześniejszych iteracji, czyli nie będzie tworzyć nowego modelu od początku.\n"
   ]
  },
  {
   "cell_type": "markdown",
   "metadata": {},
   "source": [
    "Zbiór danych https://www.kaggle.com/datasets/kukuroo3/flight-price-predict-competition-format\n",
    "\n",
    "Cel: Przewidzenie ceny biletu lotniczego. Może być przydatny w kilku sytuacjach. Na przykład stworzenie aplikacji, gdzie użytkownicy będą sprawdzać jaka powinna być cena biletu lub kiedy kupić, aby cena była najkorzystniejsza. Może być tez użyta przez linie lotnicze do ustalania cen na podstawie rekomendacji modelu lub prawdopodobnych cen konkurencji."
   ]
  },
  {
   "cell_type": "code",
   "execution_count": 1,
   "metadata": {},
   "outputs": [],
   "source": [
    "from  sklearn.ensemble import RandomForestRegressor\n",
    "import pandas as pd\n",
    "import numpy as np\n",
    "import os\n",
    "import matplotlib.pyplot as plt"
   ]
  },
  {
   "cell_type": "code",
   "execution_count": 2,
   "metadata": {},
   "outputs": [],
   "source": [
    "# Przeniesienie do głównego folderu z \"2_machine_learning\"\n",
    "os.chdir('../')"
   ]
  },
  {
   "cell_type": "code",
   "execution_count": 3,
   "metadata": {},
   "outputs": [],
   "source": [
    "# Załadowanie danych\n",
    "train_x = pd.read_csv('data/flights_prices/X_train.csv')\n",
    "train_y = pd.read_csv('data/flights_prices/y_train.csv')\n",
    "test_x = pd.read_csv('data/flights_prices/X_test.csv')\n",
    "test_y = pd.read_csv('data/flights_prices/y_test.csv')"
   ]
  },
  {
   "cell_type": "code",
   "execution_count": null,
   "metadata": {},
   "outputs": [],
   "source": [
    "# nagłówek\n"
   ]
  },
  {
   "cell_type": "code",
   "execution_count": null,
   "metadata": {},
   "outputs": [],
   "source": [
    "# Złączenie zbioru do data preprocessingu\n"
   ]
  },
  {
   "cell_type": "code",
   "execution_count": null,
   "metadata": {},
   "outputs": [],
   "source": [
    "# Sprawdzenie czy oba zbiory mają te same kolumny\n"
   ]
  },
  {
   "cell_type": "code",
   "execution_count": 13,
   "metadata": {},
   "outputs": [],
   "source": [
    "# stworzenie wejsciowego dfa"
   ]
  },
  {
   "cell_type": "code",
   "execution_count": null,
   "metadata": {},
   "outputs": [],
   "source": [
    "# describe"
   ]
  },
  {
   "cell_type": "code",
   "execution_count": null,
   "metadata": {},
   "outputs": [],
   "source": [
    "# nagłówek"
   ]
  },
  {
   "cell_type": "code",
   "execution_count": 18,
   "metadata": {},
   "outputs": [],
   "source": [
    "# kolumny kategoryczne\n"
   ]
  },
  {
   "cell_type": "code",
   "execution_count": null,
   "metadata": {},
   "outputs": [],
   "source": [
    "# value counts\n"
   ]
  },
  {
   "cell_type": "markdown",
   "metadata": {},
   "source": [
    "Wnioski:\n",
    "\n",
    "1. airline - ma 2 główne wartości. Stworzymy zmienną is_vistara.\n",
    "2. flight - zbyt dużo różnych wartości.\n",
    "3. source_city - należy przekodować.\n",
    "4. departure_time - należy przekodować oraz złączyć kategorie \"Night\" oraz \"Late_Night\" \n",
    "5. stops - stworzymy jedną zmienną \"is_zero_stops\"\n",
    "6. arrival_time - należy przekodować.\n",
    "7. destination_city - należy przekodować."
   ]
  },
  {
   "cell_type": "code",
   "execution_count": null,
   "metadata": {},
   "outputs": [],
   "source": [
    "# 1\n"
   ]
  },
  {
   "cell_type": "code",
   "execution_count": null,
   "metadata": {},
   "outputs": [],
   "source": [
    "# 4 - złączenie dwóch kategorii\n"
   ]
  },
  {
   "cell_type": "code",
   "execution_count": null,
   "metadata": {},
   "outputs": [],
   "source": [
    "# 5\n"
   ]
  },
  {
   "cell_type": "markdown",
   "metadata": {},
   "source": [
    "## Enkodowanie zmiennych\n",
    "\n",
    "Zmienne można enkodować z kategorycznych na liczbowe na wiele sposób. Będziemy je poznawać głównie w części poświęconej zaawansowanym zagadnieniom Machine Learning. \n",
    "\n",
    "Jedną z podstawowych form enkodowania jest <b> one hot encoding </b>, który polega na stworzeniu osobnej zmiennej dla każdej kategorii. Na przykład enkodując zmienną departure_time uzyskamy 5 zmiennych:\n",
    "1. departure_time_Morning\n",
    "2. departure_time_Evening\n",
    "3. departure_time_Early_Morning\n",
    "4. departure_time_Night\n",
    "5. departure_time_Afternoon\n",
    "\n",
    "Dla danego wiersza, tylko jedna zmienna będzie równa 1 (ta, która odpowiada wartości zmiennej kateorycznej)\n",
    "\n",
    "<b> WAŻNE </b> \n",
    "\n",
    "W praktyce jedną zmienną się usuwa, ponieważ będzie ona miała wartość 1, kiedy pozostałe będą równe 0. Gdybyśmy jednej zmiennej nie usunęli, mielibyśmy współliniowość.\n"
   ]
  },
  {
   "cell_type": "code",
   "execution_count": 27,
   "metadata": {},
   "outputs": [],
   "source": [
    "# one hot encoding\n",
    "df = pd.get_dummies(data=df, columns = ['departure_time','source_city','arrival_time','destination_city'], drop_first=True,dtype=int)"
   ]
  },
  {
   "cell_type": "code",
   "execution_count": 80,
   "metadata": {},
   "outputs": [],
   "source": [
    "# Model\n"
   ]
  },
  {
   "cell_type": "code",
   "execution_count": null,
   "metadata": {},
   "outputs": [],
   "source": [
    "# wyciągnięcie jednego drzewa\n"
   ]
  },
  {
   "cell_type": "code",
   "execution_count": null,
   "metadata": {},
   "outputs": [],
   "source": [
    "# Ważność zmiennych\n"
   ]
  },
  {
   "cell_type": "code",
   "execution_count": null,
   "metadata": {},
   "outputs": [],
   "source": [
    "# OOB score"
   ]
  },
  {
   "cell_type": "code",
   "execution_count": null,
   "metadata": {},
   "outputs": [],
   "source": [
    "# R2 train\n"
   ]
  },
  {
   "cell_type": "code",
   "execution_count": null,
   "metadata": {},
   "outputs": [],
   "source": [
    "# R2 test\n"
   ]
  },
  {
   "cell_type": "code",
   "execution_count": 84,
   "metadata": {},
   "outputs": [],
   "source": [
    "# Predykcja na całym zbiorze\n"
   ]
  },
  {
   "cell_type": "code",
   "execution_count": null,
   "metadata": {},
   "outputs": [],
   "source": [
    "# Wykres rozrzutu\n"
   ]
  },
  {
   "cell_type": "markdown",
   "metadata": {},
   "source": [
    "Model jest stabilny, metryka R2 jest na przeciętnym poziomie, należałoby dokonać analizy innych metryk błędu i zdecydować czy model spełnia założenia. Na tym etapie można też pomyśleć o optymalizacji parametrów modelu, co sprawdzimy dla modelu klasyfikacyjnego."
   ]
  }
 ],
 "metadata": {
  "kernelspec": {
   "display_name": "Python 3",
   "language": "python",
   "name": "python3"
  },
  "language_info": {
   "codemirror_mode": {
    "name": "ipython",
    "version": 3
   },
   "file_extension": ".py",
   "mimetype": "text/x-python",
   "name": "python",
   "nbconvert_exporter": "python",
   "pygments_lexer": "ipython3",
   "version": "3.12.5"
  }
 },
 "nbformat": 4,
 "nbformat_minor": 2
}
