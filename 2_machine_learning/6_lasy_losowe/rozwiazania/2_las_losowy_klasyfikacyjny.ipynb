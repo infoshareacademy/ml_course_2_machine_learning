{
 "cells": [
  {
   "cell_type": "markdown",
   "metadata": {},
   "source": [
    "# Las losowy klasyfikacyjny\n",
    "\n",
    "Wróćmy do problemu churn.\n",
    "\n",
    "Zbiór danych: https://www.kaggle.com/datasets/mehmetsabrikunt/internet-service-churn\n",
    "\n",
    "Tym razem nie będziemy dzielić zbioru na różne typy. Zobaczymy, czy stworzenie jednego modelu da nam dobre wyniki."
   ]
  },
  {
   "cell_type": "code",
   "execution_count": 1,
   "metadata": {},
   "outputs": [],
   "source": [
    "from  sklearn.ensemble import RandomForestClassifier\n",
    "import pandas as pd\n",
    "import numpy as np\n",
    "import os\n",
    "import matplotlib.pyplot as plt\n",
    "from sklearn.model_selection import train_test_split\n",
    "from sklearn.metrics import roc_auc_score, roc_curve"
   ]
  },
  {
   "cell_type": "code",
   "execution_count": 2,
   "metadata": {},
   "outputs": [],
   "source": [
    "# puść ten kod, \n",
    "# jeżeli wywołujesz plik  w folderze rozwiąznaia, \n",
    "# a ramka danych znajduje się w folderze data\n",
    "import os \n",
    "os.chdir('../')"
   ]
  },
  {
   "cell_type": "code",
   "execution_count": 3,
   "metadata": {},
   "outputs": [],
   "source": [
    "# Pobranie danych\n",
    "os.chdir('../')\n",
    "\n",
    "df = pd.read_csv('data/internet_service_churn.csv')"
   ]
  },
  {
   "cell_type": "code",
   "execution_count": 3,
   "metadata": {},
   "outputs": [
    {
     "data": {
      "text/html": [
       "<div>\n",
       "<style scoped>\n",
       "    .dataframe tbody tr th:only-of-type {\n",
       "        vertical-align: middle;\n",
       "    }\n",
       "\n",
       "    .dataframe tbody tr th {\n",
       "        vertical-align: top;\n",
       "    }\n",
       "\n",
       "    .dataframe thead th {\n",
       "        text-align: right;\n",
       "    }\n",
       "</style>\n",
       "<table border=\"1\" class=\"dataframe\">\n",
       "  <thead>\n",
       "    <tr style=\"text-align: right;\">\n",
       "      <th></th>\n",
       "      <th>id</th>\n",
       "      <th>is_tv_subscriber</th>\n",
       "      <th>is_movie_package_subscriber</th>\n",
       "      <th>subscription_age</th>\n",
       "      <th>bill_avg</th>\n",
       "      <th>reamining_contract</th>\n",
       "      <th>service_failure_count</th>\n",
       "      <th>download_avg</th>\n",
       "      <th>upload_avg</th>\n",
       "      <th>download_over_limit</th>\n",
       "      <th>churn</th>\n",
       "    </tr>\n",
       "  </thead>\n",
       "  <tbody>\n",
       "    <tr>\n",
       "      <th>0</th>\n",
       "      <td>15</td>\n",
       "      <td>1</td>\n",
       "      <td>0</td>\n",
       "      <td>11.95</td>\n",
       "      <td>25</td>\n",
       "      <td>0.14</td>\n",
       "      <td>0</td>\n",
       "      <td>8.4</td>\n",
       "      <td>2.3</td>\n",
       "      <td>0</td>\n",
       "      <td>0</td>\n",
       "    </tr>\n",
       "    <tr>\n",
       "      <th>1</th>\n",
       "      <td>18</td>\n",
       "      <td>0</td>\n",
       "      <td>0</td>\n",
       "      <td>8.22</td>\n",
       "      <td>0</td>\n",
       "      <td>NaN</td>\n",
       "      <td>0</td>\n",
       "      <td>0.0</td>\n",
       "      <td>0.0</td>\n",
       "      <td>0</td>\n",
       "      <td>1</td>\n",
       "    </tr>\n",
       "    <tr>\n",
       "      <th>2</th>\n",
       "      <td>23</td>\n",
       "      <td>1</td>\n",
       "      <td>0</td>\n",
       "      <td>8.91</td>\n",
       "      <td>16</td>\n",
       "      <td>0.00</td>\n",
       "      <td>0</td>\n",
       "      <td>13.7</td>\n",
       "      <td>0.9</td>\n",
       "      <td>0</td>\n",
       "      <td>1</td>\n",
       "    </tr>\n",
       "    <tr>\n",
       "      <th>3</th>\n",
       "      <td>27</td>\n",
       "      <td>0</td>\n",
       "      <td>0</td>\n",
       "      <td>6.87</td>\n",
       "      <td>21</td>\n",
       "      <td>NaN</td>\n",
       "      <td>1</td>\n",
       "      <td>0.0</td>\n",
       "      <td>0.0</td>\n",
       "      <td>0</td>\n",
       "      <td>1</td>\n",
       "    </tr>\n",
       "    <tr>\n",
       "      <th>4</th>\n",
       "      <td>34</td>\n",
       "      <td>0</td>\n",
       "      <td>0</td>\n",
       "      <td>6.39</td>\n",
       "      <td>0</td>\n",
       "      <td>NaN</td>\n",
       "      <td>0</td>\n",
       "      <td>0.0</td>\n",
       "      <td>0.0</td>\n",
       "      <td>0</td>\n",
       "      <td>1</td>\n",
       "    </tr>\n",
       "  </tbody>\n",
       "</table>\n",
       "</div>"
      ],
      "text/plain": [
       "   id  is_tv_subscriber  is_movie_package_subscriber  subscription_age  \\\n",
       "0  15                 1                            0             11.95   \n",
       "1  18                 0                            0              8.22   \n",
       "2  23                 1                            0              8.91   \n",
       "3  27                 0                            0              6.87   \n",
       "4  34                 0                            0              6.39   \n",
       "\n",
       "   bill_avg  reamining_contract  service_failure_count  download_avg  \\\n",
       "0        25                0.14                      0           8.4   \n",
       "1         0                 NaN                      0           0.0   \n",
       "2        16                0.00                      0          13.7   \n",
       "3        21                 NaN                      1           0.0   \n",
       "4         0                 NaN                      0           0.0   \n",
       "\n",
       "   upload_avg  download_over_limit  churn  \n",
       "0         2.3                    0      0  \n",
       "1         0.0                    0      1  \n",
       "2         0.9                    0      1  \n",
       "3         0.0                    0      1  \n",
       "4         0.0                    0      1  "
      ]
     },
     "execution_count": 3,
     "metadata": {},
     "output_type": "execute_result"
    }
   ],
   "source": [
    "# nagłówek\n",
    "df.head()"
   ]
  },
  {
   "cell_type": "code",
   "execution_count": 4,
   "metadata": {},
   "outputs": [],
   "source": [
    "# dodanie zmiennej czy umowa terminow\n",
    "df['is_fixed_term'] = (~(df['reamining_contract'].isna())).astype(int)"
   ]
  },
  {
   "cell_type": "code",
   "execution_count": 6,
   "metadata": {},
   "outputs": [
    {
     "data": {
      "text/plain": [
       "['is_tv_subscriber',\n",
       " 'is_movie_package_subscriber',\n",
       " 'subscription_age',\n",
       " 'bill_avg',\n",
       " 'reamining_contract',\n",
       " 'service_failure_count',\n",
       " 'download_avg',\n",
       " 'upload_avg',\n",
       " 'download_over_limit',\n",
       " 'is_fixed_term']"
      ]
     },
     "execution_count": 6,
     "metadata": {},
     "output_type": "execute_result"
    }
   ],
   "source": [
    "# kolumny X\n",
    "x_names = [i for i  in df.columns[1:] if i!='churn']\n",
    "x_names"
   ]
  },
  {
   "cell_type": "code",
   "execution_count": 7,
   "metadata": {},
   "outputs": [],
   "source": [
    "# Podział zbioru \n",
    "\n",
    "train_x, test_x, train_y, test_y = train_test_split(df[x_names],df['churn'], test_size=0.2, random_state=123)"
   ]
  },
  {
   "cell_type": "code",
   "execution_count": 8,
   "metadata": {},
   "outputs": [],
   "source": [
    "# Podział zbioru na walidacyjny\n",
    "train_x, valid_x, train_y, valid_y = train_test_split(train_x, train_y, test_size=0.2,random_state=123)"
   ]
  },
  {
   "cell_type": "markdown",
   "metadata": {},
   "source": [
    "## Optymalizacja modelu\n",
    "\n",
    "Optymalizacja modelu polega na znalezieniu najlepszych parametrów (optymalizując przy tym wybraną metrykę ewaluacyjną).\n",
    "\n",
    "W Pythonie jest dostępnych wiele bibliotek i funkcji, które wspomagają optymalizację. Będą one szerzej omawiane w bloku dotyczącym optymalizacji.\n",
    "\n",
    "Aby dobrze zrozumieć proces optymalizacji, pierwszą napiszemy sami.\n",
    "\n",
    "Najprostsza wersja optymalizacji, to przejście przez wszystkie wskazane parametry.\n",
    "\n",
    "Dobrą praktyką (jeżeli posiadamy dostatecznie duży zbiór danych) jest wydzielenie zbioru walidacyjnego. Na zbiorze testowym wybierzemy najlepsze parametry i potwierdzimy je na zbiorze walidacyjnym."
   ]
  },
  {
   "cell_type": "code",
   "execution_count": 21,
   "metadata": {},
   "outputs": [
    {
     "name": "stdout",
     "output_type": "stream",
     "text": [
      "End of iteration. The best score is equal to 0.9319266689726738\n",
      "End of iteration. The best score is equal to 0.9319266689726738\n",
      "End of iteration. The best score is equal to 0.9324109304738845\n",
      "End of iteration. The best score is equal to 0.9375994465582843\n",
      "End of iteration. The best score is equal to 0.9375994465582843\n",
      "End of iteration. The best score is equal to 0.9375994465582843\n",
      "End of iteration. The best score is equal to 0.9386371497751643\n",
      "End of iteration. The best score is equal to 0.9386371497751643\n",
      "End of iteration. The best score is equal to 0.9386371497751643\n"
     ]
    }
   ],
   "source": [
    "# Optymalizacja dwóch parametrów:\n",
    "max_depth = [3,10,20]\n",
    "n_estimators = [50,100,500]\n",
    "\n",
    "best_score = None\n",
    "best_params = {}\n",
    "best_model = None\n",
    "for md in max_depth:\n",
    "    for ne in n_estimators:\n",
    "        model = RandomForestClassifier(max_depth=md, n_estimators=ne, min_samples_leaf=10).fit(train_x,train_y)\n",
    "        score = model.score(test_x, test_y)\n",
    "        if best_score is None or best_score < score:\n",
    "            best_score = score\n",
    "            best_params = {'max_depth': md, 'n_estimators': ne}\n",
    "            best_model = model\n",
    "        print(f'End of iteration. The best score is equal to {best_score}')\n",
    "\n"
   ]
  },
  {
   "cell_type": "markdown",
   "metadata": {},
   "source": [
    "### Ewaluacja modelu\n",
    "Ocenę przeprowadzimy na zbiorze walidacyjnym."
   ]
  },
  {
   "cell_type": "code",
   "execution_count": 10,
   "metadata": {},
   "outputs": [],
   "source": [
    "# Stworzymy zmienną z typem umowy\n",
    "def type_of_agreement(time_to_end, threshold=90.0/365):\n",
    "    if np.isnan(time_to_end):\n",
    "        return 'indefinite'\n",
    "    elif time_to_end <=threshold:\n",
    "        return 'ending soon'\n",
    "    else: \n",
    "        return 'long time to end'\n"
   ]
  },
  {
   "cell_type": "code",
   "execution_count": 22,
   "metadata": {},
   "outputs": [],
   "source": [
    "# train \n",
    "train = train_x.copy()\n",
    "train['churn'] = train_y.copy()\n",
    "train['type'] = train.loc[:,'reamining_contract'].apply(lambda x: type_of_agreement(x))\n",
    "train['pred'] = best_model.predict(train[best_model.feature_names_in_])\n",
    "train['pred_proba'] = best_model.predict_proba(train[best_model.feature_names_in_])[:,1]"
   ]
  },
  {
   "cell_type": "code",
   "execution_count": 23,
   "metadata": {},
   "outputs": [],
   "source": [
    "# test\n",
    "test = test_x.copy()\n",
    "test['churn'] = test_y.copy()\n",
    "test['type'] = test.loc[:,'reamining_contract'].apply(lambda x: type_of_agreement(x))\n",
    "test['pred'] = best_model.predict(test[best_model.feature_names_in_])\n",
    "test['pred_proba'] = best_model.predict_proba(test[best_model.feature_names_in_])[:,1]"
   ]
  },
  {
   "cell_type": "code",
   "execution_count": 24,
   "metadata": {},
   "outputs": [],
   "source": [
    "# valid\n",
    "valid = valid_x.copy()\n",
    "valid['churn'] = valid_y.copy()\n",
    "valid['type'] = valid.loc[:,'reamining_contract'].apply(lambda x: type_of_agreement(x))\n",
    "valid['pred'] = best_model.predict(valid[best_model.feature_names_in_])\n",
    "valid['pred_proba'] = best_model.predict_proba(valid[best_model.feature_names_in_])[:,1]"
   ]
  },
  {
   "cell_type": "code",
   "execution_count": 60,
   "metadata": {},
   "outputs": [],
   "source": []
  },
  {
   "cell_type": "code",
   "execution_count": 27,
   "metadata": {},
   "outputs": [
    {
     "name": "stdout",
     "output_type": "stream",
     "text": [
      "AUC train: 0.992, AUC test: 0.98, AUC valid: 0.98\n"
     ]
    }
   ],
   "source": [
    "# Pole pod krzywą roc\n",
    "auc_train = round(roc_auc_score(train['churn'],train['pred_proba']),3)\n",
    "auc_test = round(roc_auc_score(test['churn'],test['pred_proba']),3)\n",
    "auc_valid = round(roc_auc_score(valid['churn'],valid['pred_proba']),3)\n",
    "print(f'AUC train: {auc_train}, AUC test: {auc_test}, AUC valid: {auc_valid}')"
   ]
  },
  {
   "cell_type": "code",
   "execution_count": 28,
   "metadata": {},
   "outputs": [],
   "source": [
    "# Przygotwanie danych do wykresu\n",
    "fpr_train ,tpr_train, thresholds_train = roc_curve(train['churn'],train['pred_proba'])\n",
    "fpr_test ,tpr_test, thresholds_test = roc_curve(test['churn'],test['pred_proba'])\n",
    "fpr_valid ,tpr_valid, thresholds_valid = roc_curve(valid['churn'],valid['pred_proba'])\n",
    "\n"
   ]
  },
  {
   "cell_type": "code",
   "execution_count": 29,
   "metadata": {},
   "outputs": [
    {
     "data": {
      "image/png": "[encoded data removed]",
      "text/plain": [
       "<Figure size 640x480 with 1 Axes>"
      ]
     },
     "metadata": {},
     "output_type": "display_data"
    }
   ],
   "source": [
    "# Wykres\n",
    "plt.plot(fpr_train, tpr_train, label='train')\n",
    "plt.plot(fpr_test,tpr_test, label = 'test')\n",
    "plt.plot(fpr_valid,tpr_valid, label='valid')\n",
    "plt.plot(np.arange(0,1,0.01),np.arange(0,1,0.01),'--')\n",
    "plt.legend()\n",
    "plt.title('Krzywa ROC')\n",
    "plt.show()"
   ]
  },
  {
   "cell_type": "markdown",
   "metadata": {},
   "source": [
    "#### Ocena modelu w grupach"
   ]
  },
  {
   "cell_type": "code",
   "execution_count": 30,
   "metadata": {},
   "outputs": [
    {
     "data": {
      "text/plain": [
       "array(['soon ending', 'indefinite', 'long time to end'], dtype=object)"
      ]
     },
     "execution_count": 30,
     "metadata": {},
     "output_type": "execute_result"
    }
   ],
   "source": [
    "train.type.unique()"
   ]
  },
  {
   "cell_type": "code",
   "execution_count": 31,
   "metadata": {},
   "outputs": [
    {
     "name": "stdout",
     "output_type": "stream",
     "text": [
      "Results for soon ending\n",
      "AUC train: 0.999, AUC test: 0.994, AUC valid: 0.993\n",
      "\n",
      "\n",
      "Results for indefinite\n",
      "AUC train: 0.952, AUC test: 0.89, AUC valid: 0.892\n",
      "\n",
      "\n",
      "Results for long time to end\n",
      "AUC train: 0.973, AUC test: 0.868, AUC valid: 0.854\n",
      "\n",
      "\n"
     ]
    }
   ],
   "source": [
    "# Pole pod krzywą roc\n",
    "for i in train.type.unique():\n",
    "    print(f'Results for {i}')\n",
    "    auc_train = round(roc_auc_score(train.loc[train['type']==i,'churn'],train.loc[train['type']==i,'pred_proba']),3)\n",
    "    auc_test = round(roc_auc_score(test.loc[test['type']==i,'churn'], test.loc[test['type']==i,'pred_proba']),3)\n",
    "    auc_valid = round(roc_auc_score(valid.loc[valid['type']==i,'churn'],valid.loc[valid['type']==i,'pred_proba']),3)\n",
    "    print(f'AUC train: {auc_train}, AUC test: {auc_test}, AUC valid: {auc_valid}')\n",
    "    print('\\n')\n",
    "\n"
   ]
  }
 ],
 "metadata": {
  "kernelspec": {
   "display_name": "Python 3",
   "language": "python",
   "name": "python3"
  },
  "language_info": {
   "codemirror_mode": {
    "name": "ipython",
    "version": 3
   },
   "file_extension": ".py",
   "mimetype": "text/x-python",
   "name": "python",
   "nbconvert_exporter": "python",
   "pygments_lexer": "ipython3",
   "version": "3.12.5"
  }
 },
 "nbformat": 4,
 "nbformat_minor": 2
}
