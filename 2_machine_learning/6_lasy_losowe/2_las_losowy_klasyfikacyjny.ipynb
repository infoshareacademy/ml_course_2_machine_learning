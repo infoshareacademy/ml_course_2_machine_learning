{
 "cells": [
  {
   "cell_type": "markdown",
   "metadata": {},
   "source": [
    "# Las losowy klasyfikacyjny\n",
    "\n",
    "Wróćmy do problemu churn.\n",
    "\n",
    "Zbiór danych: https://www.kaggle.com/datasets/mehmetsabrikunt/internet-service-churn\n",
    "\n",
    "Tym razem nie będziemy dzielić zbioru na różne typy. Zobaczymy, czy stworzenie jednego modelu da nam dobre wyniki."
   ]
  },
  {
   "cell_type": "code",
   "execution_count": 1,
   "metadata": {},
   "outputs": [],
   "source": [
    "from  sklearn.ensemble import RandomForestClassifier\n",
    "import pandas as pd\n",
    "import numpy as np\n",
    "import os\n",
    "import matplotlib.pyplot as plt\n",
    "from sklearn.model_selection import train_test_split\n",
    "from sklearn.metrics import roc_auc_score, roc_curve"
   ]
  },
  {
   "cell_type": "code",
   "execution_count": 2,
   "metadata": {},
   "outputs": [],
   "source": [
    "# Pobranie danych\n",
    "os.chdir('../')\n",
    "\n",
    "df = pd.read_csv('data/internet_service_churn.csv')"
   ]
  },
  {
   "cell_type": "code",
   "execution_count": null,
   "metadata": {},
   "outputs": [],
   "source": [
    "# nagłówek\n"
   ]
  },
  {
   "cell_type": "code",
   "execution_count": 16,
   "metadata": {},
   "outputs": [],
   "source": [
    "# dodanie zmiennej czy umowa terminow\n"
   ]
  },
  {
   "cell_type": "code",
   "execution_count": null,
   "metadata": {},
   "outputs": [],
   "source": [
    "# kolumny X\n"
   ]
  },
  {
   "cell_type": "code",
   "execution_count": 20,
   "metadata": {},
   "outputs": [],
   "source": [
    "# Podział zbioru \n",
    "\n",
    "train_x, test_x, train_y, test_y = train_test_split(df[x_names],df['churn'], test_size=0.2, random_state=123)"
   ]
  },
  {
   "cell_type": "code",
   "execution_count": 21,
   "metadata": {},
   "outputs": [],
   "source": [
    "# Podział zbioru na walidacyjny"
   ]
  },
  {
   "cell_type": "markdown",
   "metadata": {},
   "source": [
    "## Optymalizacja modelu\n",
    "\n",
    "Optymalizacja modelu polega na znalezieniu najlepszych parametrów (optymalizując przy tym wybraną metrykę ewaluacyjną).\n",
    "\n",
    "W Pythonie jest dostępnych wiele bibliotek i funkcji, które wspomagają optymalizację. Będą one szerzej omawiane w bloku dotyczącym optymalizacji.\n",
    "\n",
    "Aby dobrze zrozumieć proces optymalizacji, pierwszą napiszemy sami.\n",
    "\n",
    "Najprostsza wersja optymalizacji, to przejście przez wszystkie wskazane parametry.\n",
    "\n",
    "Dobrą praktyką (jeżeli posiadamy dostatecznie duży zbiór danych) jest wydzielenie zbioru walidacyjnego. Na zbiorze testowym wybierzemy najlepsze parametry i potwierdzimy je na zbiorze walidacyjnym."
   ]
  },
  {
   "cell_type": "code",
   "execution_count": null,
   "metadata": {},
   "outputs": [],
   "source": [
    "# Optymalizacja dwóch parametrów:\n",
    "max_depth = [3,10,20]\n",
    "n_estimators = [50,100,500]\n"
   ]
  },
  {
   "cell_type": "markdown",
   "metadata": {},
   "source": [
    "### Ewaluacja modelu\n",
    "Ocenę przeprowadzimy na zbiorze walidacyjnym."
   ]
  },
  {
   "cell_type": "code",
   "execution_count": 50,
   "metadata": {},
   "outputs": [],
   "source": [
    "# Stworzymy zmienną z typem umowy"
   ]
  },
  {
   "cell_type": "code",
   "execution_count": 57,
   "metadata": {},
   "outputs": [],
   "source": [
    "# train \n"
   ]
  },
  {
   "cell_type": "code",
   "execution_count": 58,
   "metadata": {},
   "outputs": [],
   "source": [
    "# test\n"
   ]
  },
  {
   "cell_type": "code",
   "execution_count": 59,
   "metadata": {},
   "outputs": [],
   "source": [
    "# valid\n"
   ]
  },
  {
   "cell_type": "code",
   "execution_count": 60,
   "metadata": {},
   "outputs": [],
   "source": []
  },
  {
   "cell_type": "code",
   "execution_count": null,
   "metadata": {},
   "outputs": [],
   "source": [
    "# Pole pod krzywą roc\n"
   ]
  },
  {
   "cell_type": "code",
   "execution_count": 62,
   "metadata": {},
   "outputs": [],
   "source": [
    "# Przygotwanie danych do wykresu\n",
    "\n",
    "\n"
   ]
  },
  {
   "cell_type": "code",
   "execution_count": null,
   "metadata": {},
   "outputs": [],
   "source": [
    "# Wykres\n"
   ]
  },
  {
   "cell_type": "markdown",
   "metadata": {},
   "source": [
    "#### Ocena modelu w grupach"
   ]
  },
  {
   "cell_type": "code",
   "execution_count": null,
   "metadata": {},
   "outputs": [],
   "source": [
    "# Pole pod krzywą roc\n"
   ]
  }
 ],
 "metadata": {
  "kernelspec": {
   "display_name": "Python 3",
   "language": "python",
   "name": "python3"
  },
  "language_info": {
   "codemirror_mode": {
    "name": "ipython",
    "version": 3
   },
   "file_extension": ".py",
   "mimetype": "text/x-python",
   "name": "python",
   "nbconvert_exporter": "python",
   "pygments_lexer": "ipython3",
   "version": "3.12.5"
  }
 },
 "nbformat": 4,
 "nbformat_minor": 2
}
