{
 "cells": [
  {
   "cell_type": "markdown",
   "metadata": {},
   "source": [
    "# Lightgbm\n",
    "\n",
    "Dokumentacja: https://lightgbm.readthedocs.io/en/stable/\n",
    "\n",
    "Zbiór danych https://www.kaggle.com/datasets/kukuroo3/flight-price-predict-competition-format\n",
    "\n",
    "Cel: Przewidzenie ceny biletu lotniczego. Może być przydatny w kilku sytuacjach. Na przykład stworzenie aplikacji, gdzie użytkownicy będą sprawdzać jaka powinna być cena biletu lub kiedy kupić, aby cena była najkorzystniejsza. Może być tez użyta przez linie lotnicze do ustalania cen na podstawie rekomendacji modelu lub prawdopodobnych cen konkurencji."
   ]
  },
  {
   "cell_type": "code",
   "execution_count": 2,
   "metadata": {},
   "outputs": [],
   "source": [
    "# instalacja\n",
    "#pip install lightgbm"
   ]
  },
  {
   "cell_type": "code",
   "execution_count": 3,
   "metadata": {},
   "outputs": [],
   "source": [
    "import pandas as pd\n",
    "import os\n",
    "import lightgbm as lgb\n",
    "from itertools import product\n",
    "from sklearn.metrics import r2_score"
   ]
  },
  {
   "cell_type": "code",
   "execution_count": 4,
   "metadata": {},
   "outputs": [],
   "source": [
    "# Przeniesienie do głównego folderu z \"2_machine_learning\"\n",
    "os.chdir('../')"
   ]
  },
  {
   "cell_type": "code",
   "execution_count": 5,
   "metadata": {},
   "outputs": [],
   "source": [
    "# Załadowanie danych\n",
    "train_x = pd.read_csv('data/flights_prices/X_train.csv')\n",
    "train_y = pd.read_csv('data/flights_prices/y_train.csv')\n",
    "test_x = pd.read_csv('data/flights_prices/X_test.csv')\n",
    "test_y = pd.read_csv('data/flights_prices/y_test.csv')"
   ]
  },
  {
   "cell_type": "code",
   "execution_count": 6,
   "metadata": {},
   "outputs": [],
   "source": [
    "# data preprocessing train\n",
    "train_x['is_vistara'] = (train_x['airline']=='Vistara').astype(int)\n",
    "train_x['is_zero_stops'] = (train_x['stops']=='zero').astype(int)\n",
    "train_x.loc[train_x['departure_time']=='Late_Night','departure_time'] = 'Night'\n",
    "train_x = pd.get_dummies(data=train_x, columns = ['departure_time','source_city','arrival_time','destination_city'], drop_first=True,dtype=int)\n"
   ]
  },
  {
   "cell_type": "code",
   "execution_count": 7,
   "metadata": {},
   "outputs": [],
   "source": [
    "# data preprocessing test\n",
    "test_x['is_vistara'] = (test_x['airline']=='Vistara').astype(int)\n",
    "test_x['is_zero_stops'] = (test_x['stops']=='zero').astype(int)\n",
    "test_x.loc[test_x['departure_time']=='Late_Night','departure_time'] = 'Night'\n",
    "test_x = pd.get_dummies(data=test_x, columns = ['departure_time','source_city','arrival_time','destination_city'], drop_first=True,dtype=int)"
   ]
  },
  {
   "cell_type": "markdown",
   "metadata": {},
   "source": [
    "## Modelowanie funkcją LGBMRegressor"
   ]
  },
  {
   "cell_type": "code",
   "execution_count": 9,
   "metadata": {},
   "outputs": [],
   "source": [
    "# zmienne numeryczne i kategoryczne\n",
    "numerical_features = ['duration', 'days_left']\n",
    "cat_features = ['is_vistara', 'is_zero_stops',\n",
    "       'departure_time_Early_Morning', 'departure_time_Evening',\n",
    "       'departure_time_Morning', 'departure_time_Night', 'source_city_Chennai',\n",
    "       'source_city_Delhi', 'source_city_Hyderabad', 'source_city_Kolkata',\n",
    "       'source_city_Mumbai', 'arrival_time_Early_Morning',\n",
    "       'arrival_time_Evening', 'arrival_time_Late_Night',\n",
    "       'arrival_time_Morning', 'arrival_time_Night',\n",
    "       'destination_city_Chennai', 'destination_city_Delhi',\n",
    "       'destination_city_Hyderabad', 'destination_city_Kolkata',\n",
    "       'destination_city_Mumbai']"
   ]
  },
  {
   "cell_type": "code",
   "execution_count": null,
   "metadata": {},
   "outputs": [],
   "source": [
    "# Estymacja modelu\n"
   ]
  },
  {
   "cell_type": "code",
   "execution_count": null,
   "metadata": {},
   "outputs": [],
   "source": [
    "# ważność zmiennych\n"
   ]
  },
  {
   "cell_type": "code",
   "execution_count": null,
   "metadata": {},
   "outputs": [],
   "source": [
    "# zmienne wejsciowe\n"
   ]
  },
  {
   "cell_type": "code",
   "execution_count": null,
   "metadata": {},
   "outputs": [],
   "source": [
    "# predykcje\n"
   ]
  },
  {
   "cell_type": "markdown",
   "metadata": {},
   "source": [
    "## Modelowanie funkcją train"
   ]
  },
  {
   "cell_type": "code",
   "execution_count": 14,
   "metadata": {},
   "outputs": [],
   "source": [
    "# użycie lgb.Dataset - optymalizacja przeliczeń. Można użyć tez starnardowego podejścia (ramki pandas)\n"
   ]
  },
  {
   "cell_type": "code",
   "execution_count": null,
   "metadata": {},
   "outputs": [],
   "source": [
    "# estymacja modelu\n"
   ]
  },
  {
   "cell_type": "code",
   "execution_count": 16,
   "metadata": {},
   "outputs": [],
   "source": [
    "# metody i atrybuty"
   ]
  },
  {
   "cell_type": "markdown",
   "metadata": {},
   "source": [
    "### Optymalizacja hiperparametrów i kroswalidacja\n",
    "\n",
    "Zoptymalizujemy model z uwagi na objective, learning_rate oraz max_depth drzewa."
   ]
  },
  {
   "cell_type": "code",
   "execution_count": 43,
   "metadata": {},
   "outputs": [],
   "source": [
    "# lista parametrów\n",
    "obj = ['regression','regression_l1','huber','mape','tweedie']\n",
    "lr= [0.01,0.3,0.8]\n",
    "max_depth = [3,10,15]"
   ]
  },
  {
   "cell_type": "code",
   "execution_count": 22,
   "metadata": {},
   "outputs": [],
   "source": [
    "# funkcja ewaluacyjna\n"
   ]
  },
  {
   "cell_type": "code",
   "execution_count": null,
   "metadata": {},
   "outputs": [],
   "source": [
    "# iloczyn kartezjanski\n"
   ]
  },
  {
   "cell_type": "code",
   "execution_count": null,
   "metadata": {},
   "outputs": [],
   "source": [
    "# znalezienie najlepszego modelu \n"
   ]
  },
  {
   "cell_type": "code",
   "execution_count": null,
   "metadata": {},
   "outputs": [],
   "source": [
    "# najlepsze parametry\n"
   ]
  },
  {
   "cell_type": "code",
   "execution_count": null,
   "metadata": {},
   "outputs": [],
   "source": [
    "# booster"
   ]
  },
  {
   "cell_type": "code",
   "execution_count": null,
   "metadata": {},
   "outputs": [],
   "source": [
    "# modele cv"
   ]
  },
  {
   "cell_type": "code",
   "execution_count": 38,
   "metadata": {},
   "outputs": [],
   "source": [
    "# predykcje\n"
   ]
  },
  {
   "cell_type": "code",
   "execution_count": 39,
   "metadata": {},
   "outputs": [],
   "source": [
    "# finalna predykcja\n"
   ]
  },
  {
   "cell_type": "code",
   "execution_count": null,
   "metadata": {},
   "outputs": [],
   "source": [
    "# Ocena\n"
   ]
  }
 ],
 "metadata": {
  "kernelspec": {
   "display_name": "Python 3",
   "language": "python",
   "name": "python3"
  },
  "language_info": {
   "codemirror_mode": {
    "name": "ipython",
    "version": 3
   },
   "file_extension": ".py",
   "mimetype": "text/x-python",
   "name": "python",
   "nbconvert_exporter": "python",
   "pygments_lexer": "ipython3",
   "version": "3.12.5"
  }
 },
 "nbformat": 4,
 "nbformat_minor": 2
}
