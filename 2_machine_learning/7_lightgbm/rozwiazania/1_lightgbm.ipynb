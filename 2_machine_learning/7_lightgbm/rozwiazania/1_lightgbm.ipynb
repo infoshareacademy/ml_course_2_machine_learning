{
 "cells": [
  {
   "cell_type": "markdown",
   "metadata": {},
   "source": [
    "# Lightgbm\n",
    "\n",
    "Dokumentacja: https://lightgbm.readthedocs.io/en/stable/\n",
    "\n",
    "Zbiór danych https://www.kaggle.com/datasets/kukuroo3/flight-price-predict-competition-format\n",
    "\n",
    "Cel: Przewidzenie ceny biletu lotniczego. Może być przydatny w kilku sytuacjach. Na przykład stworzenie aplikacji, gdzie użytkownicy będą sprawdzać jaka powinna być cena biletu lub kiedy kupić, aby cena była najkorzystniejsza. Może być tez użyta przez linie lotnicze do ustalania cen na podstawie rekomendacji modelu lub prawdopodobnych cen konkurencji."
   ]
  },
  {
   "cell_type": "code",
   "execution_count": 2,
   "metadata": {},
   "outputs": [],
   "source": [
    "# instalacja\n",
    "#pip install lightgbm"
   ]
  },
  {
   "cell_type": "code",
   "execution_count": 1,
   "metadata": {},
   "outputs": [],
   "source": [
    "import pandas as pd\n",
    "import os\n",
    "import lightgbm as lgb\n",
    "from itertools import product\n",
    "from sklearn.metrics import r2_score"
   ]
  },
  {
   "cell_type": "code",
   "execution_count": 2,
   "metadata": {},
   "outputs": [],
   "source": [
    "# Przeniesienie do głównego folderu z \"2_machine_learning\"\n",
    "os.chdir('../')"
   ]
  },
  {
   "cell_type": "code",
   "execution_count": 3,
   "metadata": {},
   "outputs": [],
   "source": [
    "# puść ten kod, \n",
    "# jeżeli wywołujesz plik  w folderze rozwiąznaia, \n",
    "# a ramka danych znajduje się w folderze data\n",
    "import os \n",
    "os.chdir('../')"
   ]
  },
  {
   "cell_type": "code",
   "execution_count": 4,
   "metadata": {},
   "outputs": [],
   "source": [
    "# Załadowanie danych\n",
    "train_x = pd.read_csv('data/flights_prices/X_train.csv')\n",
    "train_y = pd.read_csv('data/flights_prices/y_train.csv')\n",
    "test_x = pd.read_csv('data/flights_prices/X_test.csv')\n",
    "test_y = pd.read_csv('data/flights_prices/y_test.csv')"
   ]
  },
  {
   "cell_type": "code",
   "execution_count": 4,
   "metadata": {},
   "outputs": [],
   "source": [
    "# data preprocessing train\n",
    "train_x['is_vistara'] = (train_x['airline']=='Vistara').astype(int)\n",
    "train_x['is_zero_stops'] = (train_x['stops']=='zero').astype(int)\n",
    "train_x.loc[train_x['departure_time']=='Late_Night','departure_time'] = 'Night'\n",
    "train_x = pd.get_dummies(data=train_x, columns = ['departure_time','source_city','arrival_time','destination_city'], drop_first=True,dtype=int)\n"
   ]
  },
  {
   "cell_type": "code",
   "execution_count": 5,
   "metadata": {},
   "outputs": [],
   "source": [
    "# data preprocessing test\n",
    "test_x['is_vistara'] = (test_x['airline']=='Vistara').astype(int)\n",
    "test_x['is_zero_stops'] = (test_x['stops']=='zero').astype(int)\n",
    "test_x.loc[test_x['departure_time']=='Late_Night','departure_time'] = 'Night'\n",
    "test_x = pd.get_dummies(data=test_x, columns = ['departure_time','source_city','arrival_time','destination_city'], drop_first=True,dtype=int)"
   ]
  },
  {
   "cell_type": "markdown",
   "metadata": {},
   "source": [
    "## Modelowanie funkcją LGBMRegressor"
   ]
  },
  {
   "cell_type": "code",
   "execution_count": 6,
   "metadata": {},
   "outputs": [],
   "source": [
    "# zmienne numeryczne i kategoryczne\n",
    "numerical_features = ['duration', 'days_left']\n",
    "cat_features = ['is_vistara', 'is_zero_stops',\n",
    "       'departure_time_Early_Morning', 'departure_time_Evening',\n",
    "       'departure_time_Morning', 'departure_time_Night', 'source_city_Chennai',\n",
    "       'source_city_Delhi', 'source_city_Hyderabad', 'source_city_Kolkata',\n",
    "       'source_city_Mumbai', 'arrival_time_Early_Morning',\n",
    "       'arrival_time_Evening', 'arrival_time_Late_Night',\n",
    "       'arrival_time_Morning', 'arrival_time_Night',\n",
    "       'destination_city_Chennai', 'destination_city_Delhi',\n",
    "       'destination_city_Hyderabad', 'destination_city_Kolkata',\n",
    "       'destination_city_Mumbai']"
   ]
  },
  {
   "cell_type": "code",
   "execution_count": null,
   "metadata": {},
   "outputs": [],
   "source": [
    "# Estymacja modelu\n",
    "model_1  = lgb.LGBMRegressor().fit(train_x[cat_features+numerical_features], train_y['price'],categorical_feature=cat_features)"
   ]
  },
  {
   "cell_type": "code",
   "execution_count": null,
   "metadata": {},
   "outputs": [],
   "source": [
    "# ważność zmiennych\n",
    "model_1.feature_importances_\n"
   ]
  },
  {
   "cell_type": "code",
   "execution_count": null,
   "metadata": {},
   "outputs": [],
   "source": [
    "# zmienne wejsciowe\n",
    "model_1.feature_names_in_\n"
   ]
  },
  {
   "cell_type": "code",
   "execution_count": null,
   "metadata": {},
   "outputs": [],
   "source": [
    "# predykcje\n",
    "pred_train = model_1.predict(train_x[cat_features+numerical_features])\n",
    "pred_train"
   ]
  },
  {
   "cell_type": "markdown",
   "metadata": {},
   "source": [
    "## Modelowanie funkcją train"
   ]
  },
  {
   "cell_type": "code",
   "execution_count": 15,
   "metadata": {},
   "outputs": [],
   "source": [
    "# użycie lgb.Dataset - optymalizacja przeliczeń. Można użyć tez starnardowego podejścia (ramki pandas)\n",
    "train_lgb = lgb.Dataset(data=train_x[cat_features+numerical_features], label = train_y['price'],\n",
    "                        categorical_feature=cat_features,free_raw_data=False)"
   ]
  },
  {
   "cell_type": "code",
   "execution_count": null,
   "metadata": {},
   "outputs": [],
   "source": [
    "# estymacja modelu\n",
    "model_2 = lgb.train(train_set=train_lgb,params={})"
   ]
  },
  {
   "cell_type": "code",
   "execution_count": null,
   "metadata": {},
   "outputs": [],
   "source": [
    "# metody i atrybuty\n",
    "model_2.feature_importance()"
   ]
  },
  {
   "cell_type": "code",
   "execution_count": null,
   "metadata": {},
   "outputs": [],
   "source": [
    "model_2.feature_name()"
   ]
  },
  {
   "cell_type": "markdown",
   "metadata": {},
   "source": [
    "### Optymalizacja hiperparametrów i kroswalidacja\n",
    "\n",
    "Zoptymalizujemy model z uwagi na objective, learning_rate oraz max_depth drzewa."
   ]
  },
  {
   "cell_type": "code",
   "execution_count": 21,
   "metadata": {},
   "outputs": [],
   "source": [
    "# lista parametrów\n",
    "obj = ['regression','regression_l1','huber','mape','tweedie']\n",
    "lr= [0.01,0.3,0.8]\n",
    "max_depth = [3,10,15]"
   ]
  },
  {
   "cell_type": "code",
   "execution_count": 23,
   "metadata": {},
   "outputs": [],
   "source": [
    "# funkcja ewaluacyjna\n",
    "def lgb_r2(preds, eval_data):\n",
    "    y_true = eval_data.get_label()\n",
    "    r2 = r2_score(y_true, preds)\n",
    "    return 'r2', r2, True"
   ]
  },
  {
   "cell_type": "code",
   "execution_count": null,
   "metadata": {},
   "outputs": [],
   "source": [
    "# iloczyn kartezjanski\n",
    "product_of_all = product(obj,lr, max_depth)\n",
    "r2 = []\n",
    "params = []\n",
    "models = []\n",
    "for o,l,m in product_of_all:\n",
    "    print(f'create model for {o}, lr: {l}, max depth: {m}')\n",
    "    model_o = lgb.cv(train_set= train_lgb,\n",
    "                     params={'objective': o,\n",
    "                             'learning_rate': l,\n",
    "                             'max_depth': m,\n",
    "                             'num_leaves':100,\n",
    "                             'n_estimators':200}\n",
    "                    , nfold=3,\n",
    "                    feval=lgb_r2,\n",
    "                    return_cvbooster=True,\n",
    "                    stratified=False)\n",
    "    r2.append(model_o['valid r2-mean'][-1])\n",
    "    params.append([o,l,m])\n",
    "    models.append(model_o)"
   ]
  },
  {
   "cell_type": "code",
   "execution_count": null,
   "metadata": {},
   "outputs": [],
   "source": [
    "# znalezienie najlepszego modelu \n",
    "print(max(r2))"
   ]
  },
  {
   "cell_type": "code",
   "execution_count": 27,
   "metadata": {},
   "outputs": [],
   "source": [
    "model_final = models[r2.index(max(r2))]"
   ]
  },
  {
   "cell_type": "code",
   "execution_count": null,
   "metadata": {},
   "outputs": [],
   "source": [
    "# najlepsze parametry\n",
    "params[r2.index(max(r2))]"
   ]
  },
  {
   "cell_type": "code",
   "execution_count": null,
   "metadata": {},
   "outputs": [],
   "source": [
    "model_final"
   ]
  },
  {
   "cell_type": "code",
   "execution_count": null,
   "metadata": {},
   "outputs": [],
   "source": [
    "# booster\n",
    "model_final['cvbooster']"
   ]
  },
  {
   "cell_type": "code",
   "execution_count": null,
   "metadata": {},
   "outputs": [],
   "source": [
    "# modele cv\n",
    "model_final['cvbooster'].boosters"
   ]
  },
  {
   "cell_type": "code",
   "execution_count": 32,
   "metadata": {},
   "outputs": [],
   "source": [
    "# predykcje\n",
    "train_pred = pd.DataFrame()\n",
    "test_pred  = pd.DataFrame()\n",
    "for i in range(len(model_final['cvbooster'].boosters)):\n",
    "    mod_i  = model_final['cvbooster'].boosters[i]\n",
    "    train_pred[f'pred_cv_{i}'] = mod_i.predict(train_x[mod_i.feature_name()])\n",
    "    test_pred[f'pred_cv_{i}'] = mod_i.predict(test_x[mod_i.feature_name()])"
   ]
  },
  {
   "cell_type": "code",
   "execution_count": 33,
   "metadata": {},
   "outputs": [
    {
     "data": {
      "text/html": [
       "<div>\n",
       "<style scoped>\n",
       "    .dataframe tbody tr th:only-of-type {\n",
       "        vertical-align: middle;\n",
       "    }\n",
       "\n",
       "    .dataframe tbody tr th {\n",
       "        vertical-align: top;\n",
       "    }\n",
       "\n",
       "    .dataframe thead th {\n",
       "        text-align: right;\n",
       "    }\n",
       "</style>\n",
       "<table border=\"1\" class=\"dataframe\">\n",
       "  <thead>\n",
       "    <tr style=\"text-align: right;\">\n",
       "      <th></th>\n",
       "      <th>pred_cv_0</th>\n",
       "      <th>pred_cv_1</th>\n",
       "      <th>pred_cv_2</th>\n",
       "    </tr>\n",
       "  </thead>\n",
       "  <tbody>\n",
       "    <tr>\n",
       "      <th>0</th>\n",
       "      <td>69208.289515</td>\n",
       "      <td>69259.137899</td>\n",
       "      <td>66773.936838</td>\n",
       "    </tr>\n",
       "    <tr>\n",
       "      <th>1</th>\n",
       "      <td>52391.045490</td>\n",
       "      <td>52281.602145</td>\n",
       "      <td>52449.758523</td>\n",
       "    </tr>\n",
       "    <tr>\n",
       "      <th>2</th>\n",
       "      <td>64801.014723</td>\n",
       "      <td>62778.532570</td>\n",
       "      <td>63884.708055</td>\n",
       "    </tr>\n",
       "    <tr>\n",
       "      <th>3</th>\n",
       "      <td>49173.766594</td>\n",
       "      <td>51376.623041</td>\n",
       "      <td>53391.314664</td>\n",
       "    </tr>\n",
       "    <tr>\n",
       "      <th>4</th>\n",
       "      <td>52082.311820</td>\n",
       "      <td>44751.486064</td>\n",
       "      <td>49032.182149</td>\n",
       "    </tr>\n",
       "    <tr>\n",
       "      <th>...</th>\n",
       "      <td>...</td>\n",
       "      <td>...</td>\n",
       "      <td>...</td>\n",
       "    </tr>\n",
       "    <tr>\n",
       "      <th>5693</th>\n",
       "      <td>61467.985888</td>\n",
       "      <td>58014.931168</td>\n",
       "      <td>61037.387167</td>\n",
       "    </tr>\n",
       "    <tr>\n",
       "      <th>5694</th>\n",
       "      <td>59663.373066</td>\n",
       "      <td>60748.255038</td>\n",
       "      <td>58942.717578</td>\n",
       "    </tr>\n",
       "    <tr>\n",
       "      <th>5695</th>\n",
       "      <td>51766.791679</td>\n",
       "      <td>51699.694693</td>\n",
       "      <td>51236.734207</td>\n",
       "    </tr>\n",
       "    <tr>\n",
       "      <th>5696</th>\n",
       "      <td>44338.389878</td>\n",
       "      <td>46511.177904</td>\n",
       "      <td>50258.328529</td>\n",
       "    </tr>\n",
       "    <tr>\n",
       "      <th>5697</th>\n",
       "      <td>60516.492770</td>\n",
       "      <td>60448.549090</td>\n",
       "      <td>59970.224631</td>\n",
       "    </tr>\n",
       "  </tbody>\n",
       "</table>\n",
       "<p>5698 rows × 3 columns</p>\n",
       "</div>"
      ],
      "text/plain": [
       "         pred_cv_0     pred_cv_1     pred_cv_2\n",
       "0     69208.289515  69259.137899  66773.936838\n",
       "1     52391.045490  52281.602145  52449.758523\n",
       "2     64801.014723  62778.532570  63884.708055\n",
       "3     49173.766594  51376.623041  53391.314664\n",
       "4     52082.311820  44751.486064  49032.182149\n",
       "...            ...           ...           ...\n",
       "5693  61467.985888  58014.931168  61037.387167\n",
       "5694  59663.373066  60748.255038  58942.717578\n",
       "5695  51766.791679  51699.694693  51236.734207\n",
       "5696  44338.389878  46511.177904  50258.328529\n",
       "5697  60516.492770  60448.549090  59970.224631\n",
       "\n",
       "[5698 rows x 3 columns]"
      ]
     },
     "execution_count": 33,
     "metadata": {},
     "output_type": "execute_result"
    }
   ],
   "source": [
    "train_pred"
   ]
  },
  {
   "cell_type": "code",
   "execution_count": 34,
   "metadata": {},
   "outputs": [],
   "source": [
    "# finalna predykcja\n",
    "train_pred['pred'] = train_pred.mean(axis=1)\n",
    "test_pred['pred'] = test_pred.mean(axis=1)"
   ]
  },
  {
   "cell_type": "code",
   "execution_count": 35,
   "metadata": {},
   "outputs": [
    {
     "data": {
      "text/plain": [
       "0.7060464571993972"
      ]
     },
     "execution_count": 35,
     "metadata": {},
     "output_type": "execute_result"
    }
   ],
   "source": [
    "# Ocena\n",
    "r2_score(test_y['price'], test_pred['pred'])"
   ]
  }
 ],
 "metadata": {
  "kernelspec": {
   "display_name": "Python 3",
   "language": "python",
   "name": "python3"
  },
  "language_info": {
   "codemirror_mode": {
    "name": "ipython",
    "version": 3
   },
   "file_extension": ".py",
   "mimetype": "text/x-python",
   "name": "python",
   "nbconvert_exporter": "python",
   "pygments_lexer": "ipython3",
   "version": "3.12.5"
  }
 },
 "nbformat": 4,
 "nbformat_minor": 2
}
