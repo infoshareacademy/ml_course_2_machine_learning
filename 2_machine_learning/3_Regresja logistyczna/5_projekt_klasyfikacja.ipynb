{
 "cells": [
  {
   "cell_type": "markdown",
   "metadata": {},
   "source": [
    "# Projekt klasyfikacja\n",
    "\n",
    "Projekt klasyfikacyjny będzie polegać na stworzeniu modelu regresji logistycznej dla analizy churn. \n",
    "Cel biznesowy: Zaprognozowanie klientów chcących zrezygnować z usług, w celu szybszej reakcji i przedstawieniu konkurencyjnej oferty, co zmniejszy odsetek odejść.\n",
    "\n",
    "Kroki do realizacji:\n",
    "1. Wczytanie i przejrzenie danych.\n",
    "2. Analiza braków danych.\n",
    "3. Zbadaj udział odejść dla umów terminowych i bezterminowych (podpowiedź: umowy na czas nieokreślony mają wartość reamining_contract pustą)\n",
    "4. Stwórz model dla kontraktów terminowych. Wykonaj poniższe kroki:\n",
    "    - Selekcja zmiennych.\n",
    "    - Badanie outlierów.\n",
    "    - Wydzielenie zbioru treningowego i testowego.\n",
    "    - Stworzenie modelu regresji logistycznej.\n",
    "    - Ocena modelu.\n",
    "\n",
    "Zbiór danych: https://www.kaggle.com/datasets/mehmetsabrikunt/internet-service-churn\n",
    "\n",
    "Zmienne w zbiorze:\n",
    "- id - unikalny klucz\n",
    "- is_tv_subscriber - czy klient ma wykupiony pakiet telewizji? (1-tak/0-nie)\n",
    "- is_movie_package_subscriber - czy klient ma pakiet filmowy? (1-tak/0-nie)\n",
    "- subscription_age - liczba lat, od kiedy klient ma usługi firmy.\n",
    "- bill_avg - średnia kwota rachunku z ostatinch 3 miesięcy.\n",
    "- reamining_contract - ile czasu pozostało do końca umowy. W przypadku wartości pustej, nie ma umowy terminowej.\n",
    "- service_failure_count - liczba telefonów klienta w celu zgłodzenia awarii.\n",
    "- download_avg - średnie zużycie internetu w ostatnich 3 miesiącach.\n",
    "- upload_avg - średnie upload w ostatnich 3 miesiącach.\n",
    "- download_over_limit - zmienna informująca o pobieraniu powyżej limitu\n",
    "- churn - 1 oznacza, że klient anulował usługi."
   ]
  },
  {
   "cell_type": "code",
   "execution_count": 1,
   "metadata": {},
   "outputs": [],
   "source": [
    "import pandas as pd\n",
    "import os"
   ]
  },
  {
   "cell_type": "code",
   "execution_count": 2,
   "metadata": {},
   "outputs": [],
   "source": [
    "# Pobranie danych\n",
    "os.chdir('../')\n",
    "\n",
    "df = pd.read_csv('data/internet_service_churn.csv')"
   ]
  },
  {
   "cell_type": "code",
   "execution_count": 3,
   "metadata": {},
   "outputs": [
    {
     "data": {
      "text/plain": [
       "Index(['id', 'is_tv_subscriber', 'is_movie_package_subscriber',\n",
       "       'subscription_age', 'bill_avg', 'reamining_contract',\n",
       "       'service_failure_count', 'download_avg', 'upload_avg',\n",
       "       'download_over_limit', 'churn'],\n",
       "      dtype='object')"
      ]
     },
     "execution_count": 3,
     "metadata": {},
     "output_type": "execute_result"
    }
   ],
   "source": [
    "df.columns"
   ]
  }
 ],
 "metadata": {
  "kernelspec": {
   "display_name": "Python 3",
   "language": "python",
   "name": "python3"
  },
  "language_info": {
   "codemirror_mode": {
    "name": "ipython",
    "version": 3
   },
   "file_extension": ".py",
   "mimetype": "text/x-python",
   "name": "python",
   "nbconvert_exporter": "python",
   "pygments_lexer": "ipython3",
   "version": "3.12.5"
  }
 },
 "nbformat": 4,
 "nbformat_minor": 2
}
