{
 "cells": [
  {
   "cell_type": "markdown",
   "metadata": {},
   "source": [
    "# Regresja logistyczna\n",
    "Do estymacji modeli będziemy używać pakietu scikit-learn \n",
    "https://scikit-learn.org/stable/install.html"
   ]
  },
  {
   "cell_type": "code",
   "execution_count": null,
   "metadata": {},
   "outputs": [],
   "source": [
    "\n",
    "#pip install scikit-learn"
   ]
  },
  {
   "cell_type": "code",
   "execution_count": null,
   "metadata": {},
   "outputs": [],
   "source": [
    "# Instalacja scikit-learn\n",
    "#!python -m pip install scikit-learn"
   ]
  },
  {
   "cell_type": "code",
   "execution_count": 1,
   "metadata": {},
   "outputs": [],
   "source": [
    "# Import wymaganych bibliotek\n",
    "from  sklearn.linear_model import LogisticRegression\n",
    "import pandas as pd\n",
    "import numpy as np\n",
    "import os\n",
    "import matplotlib.pyplot as plt\n",
    "import seaborn as sns"
   ]
  },
  {
   "cell_type": "markdown",
   "metadata": {},
   "source": [
    "## Zbiór danych \n",
    "https://www.kaggle.com/datasets/erdemtaha/cancer-data\n",
    "\n",
    "Będziemy pracować na zbiorze danych dotyczącym raka piersi.\n",
    "\n",
    "### Problem biznesowy:\n",
    "Zadanie będzie polegać na zaprognozowaniu czy dana pacjentka ma raka piersi łagodnego czy złośliwego.\n",
    "Rozwiązanie to powinno wspomóc lekarzy, w celu zmniejszenia umieralności."
   ]
  },
  {
   "cell_type": "code",
   "execution_count": null,
   "metadata": {},
   "outputs": [],
   "source": [
    "# Sprawdzenie ścieżki\n",
    "os.getcwd()"
   ]
  },
  {
   "cell_type": "code",
   "execution_count": 2,
   "metadata": {},
   "outputs": [],
   "source": [
    "# Katalog nadrzędny\n",
    "os.chdir('../')"
   ]
  },
  {
   "cell_type": "code",
   "execution_count": null,
   "metadata": {},
   "outputs": [],
   "source": [
    "# Ponowne sprawdzenie ścieżki\n",
    "os.getcwd()"
   ]
  },
  {
   "cell_type": "code",
   "execution_count": 4,
   "metadata": {},
   "outputs": [],
   "source": [
    "# puść ten kod, \n",
    "# jeżeli wywołujesz plik  w folderze rozwiąznaia, \n",
    "# a ramka danych znajduje się w folderze data\n",
    "import os \n",
    "os.chdir('../')"
   ]
  },
  {
   "cell_type": "code",
   "execution_count": 5,
   "metadata": {},
   "outputs": [],
   "source": [
    "# Pobranie danych\n",
    "\n",
    "df = pd.read_csv('data/Cancer_Data.csv')"
   ]
  },
  {
   "cell_type": "markdown",
   "metadata": {},
   "source": [
    "## Eksploracja danych"
   ]
  },
  {
   "cell_type": "code",
   "execution_count": null,
   "metadata": {},
   "outputs": [],
   "source": [
    "# Nagłówek\n",
    "df.head()"
   ]
  },
  {
   "cell_type": "code",
   "execution_count": 12,
   "metadata": {},
   "outputs": [],
   "source": [
    "# usunięcie ostatniej zmiennej\n",
    "del df['Unnamed: 32']"
   ]
  },
  {
   "cell_type": "code",
   "execution_count": null,
   "metadata": {},
   "outputs": [],
   "source": [
    "# typy danych\n",
    "df.info()"
   ]
  },
  {
   "cell_type": "markdown",
   "metadata": {},
   "source": [
    "Wszystkie zmienne poza targetem (diagnosis) są numeryczne. Scikit-learn, nawet w przypadku zmiennych kategorycznych, wymaga ich przekodowania."
   ]
  },
  {
   "cell_type": "code",
   "execution_count": null,
   "metadata": {},
   "outputs": [],
   "source": [
    "# sprawdzenie braków danych\n",
    "df.isna().max()"
   ]
  },
  {
   "cell_type": "markdown",
   "metadata": {},
   "source": [
    "Chcemy modelować zjawisko wykrywania nowotworu złośliwego, więc jako 1 oznaczymy właśnie ten typ choroby."
   ]
  },
  {
   "cell_type": "code",
   "execution_count": null,
   "metadata": {},
   "outputs": [],
   "source": [
    "# Liczebność kategorii zmiennej celu\n",
    "df['diagnosis'].value_counts()"
   ]
  },
  {
   "cell_type": "code",
   "execution_count": 14,
   "metadata": {},
   "outputs": [],
   "source": [
    "# Enkodowanie zmiennej celu\n",
    "df['target'] = (df['diagnosis']== 'M').astype(int)"
   ]
  },
  {
   "cell_type": "code",
   "execution_count": null,
   "metadata": {},
   "outputs": [],
   "source": [
    "# badanie korelacji\n",
    "df[df.columns[2:]].corr(method='spearman')['target'].sort_values()"
   ]
  },
  {
   "cell_type": "markdown",
   "metadata": {},
   "source": [
    "W przypadku zmiennych kategorycznych należy użyć korelacji rang spearmana. Kilka zmiennych ma niską wartość korelacji, jednak jest sporo z korelacją co najmniej 0.7. Sprawdźmy czy korelacja pomiedzy zmiennymi nie jest zbyt wysoka.\n"
   ]
  },
  {
   "cell_type": "code",
   "execution_count": null,
   "metadata": {},
   "outputs": [],
   "source": [
    "# Macierz korelacji\n",
    "plt.figure(figsize = (17,15))\n",
    "sns.heatmap(round(df[df.columns[2:]].corr(method='spearman').sort_values(by='target'),2), annot=True, linewidths=0.1)\n",
    "plt.show()"
   ]
  },
  {
   "cell_type": "code",
   "execution_count": null,
   "metadata": {},
   "outputs": [],
   "source": [
    "# Korelacja z najistotniejszą zmienną..\n",
    "plt.figure(figsize = (6,8))\n",
    "sns.heatmap(round(df[df.columns[2:]].corr(method='spearman').sort_values(by='target'),2)[['target','perimeter_worst']], annot=True, linewidths=0.1)\n",
    "plt.show()"
   ]
  },
  {
   "cell_type": "code",
   "execution_count": null,
   "metadata": {},
   "outputs": [],
   "source": [
    "# ...i kolejną...\n",
    "plt.figure(figsize = (6,8))\n",
    "sns.heatmap(round(df[df.columns[2:]].corr(method='spearman').sort_values(by='target'),2)[['target','perimeter_worst','perimeter_se']], annot=True, linewidths=0.1)\n",
    "plt.show()"
   ]
  },
  {
   "cell_type": "code",
   "execution_count": null,
   "metadata": {},
   "outputs": [],
   "source": [
    "# ...i kolejną...\n",
    "plt.figure(figsize = (6,8))\n",
    "sns.heatmap(round(df[df.columns[2:]].corr(method='spearman').sort_values(by='target'),2)[['target','perimeter_worst','perimeter_se','compactness_worst']], annot=True, linewidths=0.1)\n",
    "plt.show()"
   ]
  },
  {
   "cell_type": "code",
   "execution_count": null,
   "metadata": {},
   "outputs": [],
   "source": [
    "# ...i jeszcze jedną\n",
    "plt.figure(figsize = (6,8))\n",
    "sns.heatmap(round(df[df.columns[2:]].corr(method='spearman').sort_values(by='target'),2)[['target','perimeter_worst','perimeter_se','compactness_worst', 'concave points_se']], annot=True, linewidths=0.1)\n",
    "plt.show()"
   ]
  },
  {
   "cell_type": "code",
   "execution_count": 38,
   "metadata": {},
   "outputs": [],
   "source": [
    "# Finalne zmienne w modelu\n",
    "x_names = ['perimeter_worst','perimeter_se','compactness_worst', 'concave points_se','texture_worst']"
   ]
  },
  {
   "cell_type": "markdown",
   "metadata": {},
   "source": [
    "## Badanie outlierów\n",
    "Podstawową metodą badania outlierów jest użycie rozstępu międzykwartylowego. Powinniśmy uzyskać te same wartości, które są widoczne na box-plotach. Teoria mówi, że metoda działa dobrze dla rozkładów normalnych. Często jednak nie sprawdza się tego założenia, o ile nie mamy mocno skośnego rozkładu. W powyższych zmiennych histogramy przypominają kształtem rozkład normalny.\n",
    "\n",
    "Przypomnienie:\n",
    "$BW = [Q1 − 1.5 × IQR, Q3 + 1.5 × IQR]$, gdzie $IQR = Q3 – Q1$\n",
    "\n",
    "Outlier to wartość wykraczająca poza obszar BW. Niekiedy wartość 1.5 ustala się na wyższą\n"
   ]
  },
  {
   "cell_type": "code",
   "execution_count": 67,
   "metadata": {},
   "outputs": [],
   "source": [
    "# Napiszemy funkcję do znajdowania outlierów\n",
    "def find_outliers(x, a= 1.5):\n",
    "    q1,q3 = np.quantile(x,[0.25,0.75])\n",
    "    iqr = q3 - q1\n",
    "    x_min = q1 - a * iqr\n",
    "    x_max = q3 + a * iqr\n",
    "    return (x< x_min) | (x > x_max)"
   ]
  },
  {
   "cell_type": "code",
   "execution_count": null,
   "metadata": {},
   "outputs": [],
   "source": [
    "# Sprawdzenie funkcji\n",
    "find_outliers(df.texture_mean)"
   ]
  },
  {
   "cell_type": "code",
   "execution_count": null,
   "metadata": {},
   "outputs": [],
   "source": [
    "def find_outliers(x, a= 1.5):\n",
    "    q1,q3 = np.quantile(x,[0.25,0.75])\n",
    "    iqr = q3 - q1\n",
    "    x_min = q1 - a * iqr\n",
    "    x_max = q3 + a * iqr\n",
    "    return (x< x_min) | (x > x_max)"
   ]
  },
  {
   "cell_type": "code",
   "execution_count": 69,
   "metadata": {},
   "outputs": [],
   "source": [
    "# Znalezienie outlierów dla wytypowanych zmiennych\n",
    "outliers_names = []\n",
    "for i in x_names:\n",
    "    df[f'{i}_outlier'] = find_outliers(df[i])\n",
    "    outliers_names.append(f'{i}_outlier')"
   ]
  },
  {
   "cell_type": "code",
   "execution_count": 70,
   "metadata": {},
   "outputs": [],
   "source": [
    "# wyznaczenie finalnej zmiennej z outlierami\n",
    "df['outlier_total'] = df[outliers_names].max(axis=1)"
   ]
  },
  {
   "cell_type": "code",
   "execution_count": null,
   "metadata": {},
   "outputs": [],
   "source": [
    "# Liczebność\n",
    "df['outlier_total'].value_counts()"
   ]
  },
  {
   "cell_type": "markdown",
   "metadata": {},
   "source": [
    "## Podział zbioru na trening i test\n",
    "Używamy tylko jednego modelu, więc zbiór walidacyjny nie jest potrzebny. Dodatkowo, zbiór jest niewielki, więc byłoby utrudnione, aby wydzielić 3 zbiory\n",
    "Do wyznaczenia zbioru treningowego i testowego użyjemy funkcji train_test_split\n",
    "\n",
    "Dokumentacja: https://scikit-learn.org/stable/modules/generated/sklearn.model_selection.train_test_split.html"
   ]
  },
  {
   "cell_type": "code",
   "execution_count": 72,
   "metadata": {},
   "outputs": [],
   "source": [
    "from sklearn.model_selection import train_test_split"
   ]
  },
  {
   "cell_type": "code",
   "execution_count": 73,
   "metadata": {},
   "outputs": [],
   "source": [
    "# definicja X i y\n",
    "X = df.loc[~(df.outlier_total),x_names]\n",
    "y = df.loc[~(df.outlier_total),'target']"
   ]
  },
  {
   "cell_type": "code",
   "execution_count": 74,
   "metadata": {},
   "outputs": [],
   "source": [
    "# Funkcja zwraca 4 objekty. W argumentach używamy test_size lub train_size, który najczęsciej jest udziałem. random_state ustala ziarno losowania, aby wyniki było powtarzalne\n",
    "train_x, test_x, train_y, test_y = train_test_split(X,y, test_size=0.3, random_state=123)"
   ]
  },
  {
   "cell_type": "code",
   "execution_count": null,
   "metadata": {},
   "outputs": [],
   "source": [
    "train_x.head()"
   ]
  },
  {
   "cell_type": "code",
   "execution_count": 77,
   "metadata": {},
   "outputs": [],
   "source": [
    "# Zapisanie zbiorów na potrzeby przyszłych zajęć\n",
    "train_x.to_csv('data/cancer_train_x.csv')\n",
    "test_x.to_csv('data/cancer_test_x.csv')\n",
    "train_y.to_csv('data/cancer_train_y.csv')\n",
    "test_y.to_csv('data/cancer_test_y.csv')"
   ]
  },
  {
   "cell_type": "markdown",
   "metadata": {},
   "source": [
    "## Modelowanie\n",
    "Dokumentacja: https://scikit-learn.org/stable/modules/generated/sklearn.linear_model.LogisticRegression.html"
   ]
  },
  {
   "cell_type": "code",
   "execution_count": 78,
   "metadata": {},
   "outputs": [],
   "source": [
    "# Stworzenie objektu modelu\n",
    "model_1 = LogisticRegression()"
   ]
  },
  {
   "cell_type": "code",
   "execution_count": null,
   "metadata": {},
   "outputs": [],
   "source": [
    "# Estymacja \n",
    "model_1.fit(train_x,train_y)"
   ]
  },
  {
   "cell_type": "markdown",
   "metadata": {},
   "source": [
    "## Ocena jakości\n"
   ]
  },
  {
   "cell_type": "code",
   "execution_count": 80,
   "metadata": {},
   "outputs": [],
   "source": [
    "# predykcje\n",
    "train_pred = model_1.predict(train_x)\n",
    "test_pred = model_1.predict(test_x)"
   ]
  },
  {
   "cell_type": "code",
   "execution_count": 81,
   "metadata": {},
   "outputs": [],
   "source": [
    "from sklearn.metrics import confusion_matrix, accuracy_score"
   ]
  },
  {
   "cell_type": "code",
   "execution_count": null,
   "metadata": {},
   "outputs": [],
   "source": [
    "# Confusion matrix train\n",
    "confusion_matrix(train_y, train_pred)"
   ]
  },
  {
   "cell_type": "code",
   "execution_count": null,
   "metadata": {},
   "outputs": [],
   "source": [
    "# Confusion matrix test\n",
    "confusion_matrix(test_y, test_pred)"
   ]
  },
  {
   "cell_type": "code",
   "execution_count": null,
   "metadata": {},
   "outputs": [],
   "source": [
    "# Accuracy train\n",
    "accuracy_score(train_y,train_pred)"
   ]
  },
  {
   "cell_type": "code",
   "execution_count": null,
   "metadata": {},
   "outputs": [],
   "source": [
    "# Accuracy test\n",
    "accuracy_score(test_y, test_pred)"
   ]
  },
  {
   "cell_type": "markdown",
   "metadata": {},
   "source": [
    "Jakość modelu jest bardzo wysoka i stabilna. W kolejnym kroku należy zastanowić się nad celem biznesowym, aby wybrać najlepszą metrykę."
   ]
  }
 ],
 "metadata": {
  "kernelspec": {
   "display_name": "Python 3",
   "language": "python",
   "name": "python3"
  },
  "language_info": {
   "codemirror_mode": {
    "name": "ipython",
    "version": 3
   },
   "file_extension": ".py",
   "mimetype": "text/x-python",
   "name": "python",
   "nbconvert_exporter": "python",
   "pygments_lexer": "ipython3",
   "version": "3.12.5"
  }
 },
 "nbformat": 4,
 "nbformat_minor": 2
}
