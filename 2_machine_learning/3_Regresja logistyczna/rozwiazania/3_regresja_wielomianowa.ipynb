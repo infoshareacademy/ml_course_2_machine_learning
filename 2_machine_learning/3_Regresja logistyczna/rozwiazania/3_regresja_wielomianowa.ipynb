{
 "cells": [
  {
   "cell_type": "markdown",
   "metadata": {},
   "source": [
    "# Regresja logistyczna wielomianowa\n",
    "\n",
    "Model regresji logistycznej, dla targetu z więcej niż dwiema kategoriami.\n",
    "\n",
    "Zbiór danych: https://www.kaggle.com/datasets/atefehmirnaseri/cell-phone-price"
   ]
  },
  {
   "cell_type": "code",
   "execution_count": 1,
   "metadata": {},
   "outputs": [],
   "source": [
    "# Import wymaganych bibliotek\n",
    "from  sklearn.linear_model import LogisticRegression\n",
    "import pandas as pd\n",
    "import numpy as np\n",
    "import os\n",
    "import matplotlib.pyplot as plt\n",
    "import seaborn as sns\n",
    "os.chdir('../')"
   ]
  },
  {
   "cell_type": "code",
   "execution_count": 2,
   "metadata": {},
   "outputs": [],
   "source": [
    "# puść ten kod, \n",
    "# jeżeli wywołujesz plik  w folderze rozwiąznaia, \n",
    "# a ramka danych znajduje się w folderze data\n",
    "import os \n",
    "os.chdir('../')"
   ]
  },
  {
   "cell_type": "code",
   "execution_count": 3,
   "metadata": {},
   "outputs": [],
   "source": [
    "df = pd.read_csv('data/CellPhone.csv')"
   ]
  },
  {
   "cell_type": "markdown",
   "metadata": {},
   "source": [
    "## Problem biznesowy\n",
    "Model służący do wyceny telefonów komórkowych (przypisanie do jednej z 4 kategorii cenowych). Model może być wykorzystywanych w obrocie telefonami używanymi. Usprawnia wycenę oraz sprawia, że jest ona dokładniejsza, przez co można szybciej znaleźć nowego nabywcę i zoptymalizować zyski.\n",
    "Cel szczegółowy: zwiększenie zysków, poprzez precyzyjną wycenę wykupu."
   ]
  },
  {
   "cell_type": "markdown",
   "metadata": {},
   "source": [
    "## Data preprocessing"
   ]
  },
  {
   "cell_type": "code",
   "execution_count": null,
   "metadata": {},
   "outputs": [],
   "source": [
    "# Nagłówek\n",
    "df.head()"
   ]
  },
  {
   "cell_type": "code",
   "execution_count": 7,
   "metadata": {},
   "outputs": [],
   "source": [
    "pd.set_option('display.max_columns',None)"
   ]
  },
  {
   "cell_type": "code",
   "execution_count": null,
   "metadata": {},
   "outputs": [],
   "source": [
    "# podsumowanie zmiennych\n",
    "df.describe()"
   ]
  },
  {
   "cell_type": "code",
   "execution_count": null,
   "metadata": {},
   "outputs": [],
   "source": [
    "# Liczebności klas\n",
    "df.price_range.value_counts()"
   ]
  },
  {
   "cell_type": "markdown",
   "metadata": {},
   "source": [
    "Kategorie są równoliczne, więc zbiór jest zbilansowany, nie musimy się więc tym martwić.\n",
    "### Analiza relacji z targetem"
   ]
  },
  {
   "cell_type": "code",
   "execution_count": null,
   "metadata": {},
   "outputs": [],
   "source": [
    "df.info()"
   ]
  },
  {
   "cell_type": "code",
   "execution_count": 12,
   "metadata": {},
   "outputs": [],
   "source": [
    "# Lista potencjalnych X\n",
    "x_names = df.columns[:-1]"
   ]
  },
  {
   "cell_type": "code",
   "execution_count": 13,
   "metadata": {},
   "outputs": [],
   "source": [
    "# target name\n",
    "target_name = 'price_range'"
   ]
  },
  {
   "cell_type": "code",
   "execution_count": null,
   "metadata": {},
   "outputs": [],
   "source": [
    "for i in x_names:\n",
    "    print(\"#########################\")\n",
    "    print(f'Start analysis for {i}')\n",
    "    print(df.groupby(target_name).describe()[i])\n",
    "    fig, ax = plt.subplots(ncols=2, nrows =1 )\n",
    "    sns.kdeplot(ax = ax[0], data = df, x= i, hue = target_name, fill = True, common_norm= False)\n",
    "    sns.boxplot(ax = ax[1], data= df, y = i, hue = target_name, fill = True)\n",
    "    plt.show()\n",
    "    print(f'End analysis for {i}')\n",
    "    print(\"#########################\")"
   ]
  },
  {
   "cell_type": "markdown",
   "metadata": {},
   "source": [
    "Największe różnicowanie widzimy dla zmiennej 'ram'. Kilka zmiennych wykazują pewnie różnice, szczególnie pomiędzy kategorią 0 i 3 np. 'battery_power', 'talk_time' oraz 'px_width' . \n",
    "Część zmiennych ma skończoną liczbę kategorii, więc potraktujemy je jako zmienne kategoryczne\n"
   ]
  },
  {
   "cell_type": "code",
   "execution_count": 20,
   "metadata": {},
   "outputs": [],
   "source": [
    "# Stworzenie słownika z liczbą unikalnyc wartości\n",
    "unique_numbers = {i: len(df[i].unique()) for i in x_names}"
   ]
  },
  {
   "cell_type": "code",
   "execution_count": null,
   "metadata": {},
   "outputs": [],
   "source": [
    "unique_numbers"
   ]
  },
  {
   "cell_type": "code",
   "execution_count": 65,
   "metadata": {},
   "outputs": [],
   "source": [
    "# Zmienne z liczbą kategorii <=10\n",
    "low_number_of_cat = pd.Series(unique_numbers.values())<=10"
   ]
  },
  {
   "cell_type": "code",
   "execution_count": null,
   "metadata": {},
   "outputs": [],
   "source": [
    "# Wyciągnięcie indeksów\n",
    "idx = list(low_number_of_cat[low_number_of_cat==True].index)\n",
    "idx"
   ]
  },
  {
   "cell_type": "code",
   "execution_count": 64,
   "metadata": {},
   "outputs": [],
   "source": [
    "# Nazwy zmiennych\n",
    "x_names_cat = pd.Series(unique_numbers.keys())[idx]"
   ]
  },
  {
   "cell_type": "code",
   "execution_count": 66,
   "metadata": {},
   "outputs": [],
   "source": [
    "df['denominator'] = 1"
   ]
  },
  {
   "cell_type": "code",
   "execution_count": null,
   "metadata": {},
   "outputs": [],
   "source": [
    "for i in x_names_cat:\n",
    "    print(f'Analysis for {i}')\n",
    "    pivot_summary = pd.pivot_table(data = df, index = i, columns = target_name, aggfunc='sum', margins=True)['denominator']\n",
    "    df_percentage = round(pivot_summary / pivot_summary.loc['All',:],2).reset_index()\n",
    "    print(df_percentage)\n",
    "    print(f'End analysis for {i} \\n')"
   ]
  },
  {
   "cell_type": "markdown",
   "metadata": {},
   "source": [
    "Zmienne mają bardzo zbliżony udział poszczególnych kategorii cen w danych wartościach. Jedynie możemy wytypować jedną zmienną: 'four_g'."
   ]
  },
  {
   "cell_type": "code",
   "execution_count": 76,
   "metadata": {},
   "outputs": [],
   "source": [
    "x_names_final = ['ram','battery_power', 'talk_time' , 'px_width', 'four_g']"
   ]
  },
  {
   "cell_type": "markdown",
   "metadata": {},
   "source": [
    "### VIF index\n",
    "Do sprawdzenia współliniowości można użyć indeksu VIF. Bada on wielowymiarową korelację pomiędzy zmiennymi.\n",
    "Ogólnie VIF powyżej wartości 5 sugeruje wysoką współliniowość i potrzebę usunięcia zmiennej.\n",
    "\n",
    "Więcej informacji: https://www.geeksforgeeks.org/detecting-multicollinearity-with-vif-python/\n"
   ]
  },
  {
   "cell_type": "code",
   "execution_count": null,
   "metadata": {},
   "outputs": [],
   "source": [
    "#pip install statsmodels"
   ]
  },
  {
   "cell_type": "code",
   "execution_count": 78,
   "metadata": {},
   "outputs": [],
   "source": [
    "from statsmodels.stats.outliers_influence import variance_inflation_factor"
   ]
  },
  {
   "cell_type": "code",
   "execution_count": null,
   "metadata": {},
   "outputs": [],
   "source": [
    "for i in range(len(x_names_final)):\n",
    "    vif = variance_inflation_factor(df[x_names_final],i)\n",
    "    print(f'{x_names_final[i]}: {vif}')"
   ]
  },
  {
   "cell_type": "code",
   "execution_count": 105,
   "metadata": {},
   "outputs": [],
   "source": [
    "x_names_final = ['ram', 'talk_time' , 'px_width', 'four_g']"
   ]
  },
  {
   "cell_type": "code",
   "execution_count": null,
   "metadata": {},
   "outputs": [],
   "source": [
    "for i in range(len(x_names_final)):\n",
    "    vif = variance_inflation_factor(df[x_names_final],i)\n",
    "    print(f'{x_names_final[i]}: {vif}')"
   ]
  },
  {
   "cell_type": "markdown",
   "metadata": {},
   "source": [
    "## Modelowanie"
   ]
  },
  {
   "cell_type": "code",
   "execution_count": 88,
   "metadata": {},
   "outputs": [],
   "source": [
    "from sklearn.model_selection import train_test_split"
   ]
  },
  {
   "cell_type": "code",
   "execution_count": 106,
   "metadata": {},
   "outputs": [],
   "source": [
    "# definicja X i y\n",
    "X = df.loc[:,x_names_final]\n",
    "y = df.loc[:,target_name]"
   ]
  },
  {
   "cell_type": "code",
   "execution_count": 107,
   "metadata": {},
   "outputs": [],
   "source": [
    "train_x, test_x, train_y, test_y = train_test_split(X,y,test_size=0.4, random_state=123)"
   ]
  },
  {
   "cell_type": "code",
   "execution_count": 109,
   "metadata": {},
   "outputs": [],
   "source": [
    "# Stworzenie objektu + estymacja\n",
    "model_1 = LogisticRegression(max_iter=20000).fit(train_x,train_y)"
   ]
  },
  {
   "cell_type": "code",
   "execution_count": 110,
   "metadata": {},
   "outputs": [],
   "source": [
    "# predykcje\n",
    "train_pred = model_1.predict(train_x)\n",
    "test_pred = model_1.predict(test_x)"
   ]
  },
  {
   "cell_type": "code",
   "execution_count": null,
   "metadata": {},
   "outputs": [],
   "source": [
    "train_pred"
   ]
  },
  {
   "cell_type": "code",
   "execution_count": null,
   "metadata": {},
   "outputs": [],
   "source": [
    "# Prawdopodobieństwo\n",
    "train_pred_proba = model_1.predict_proba(train_x)\n",
    "train_pred_proba"
   ]
  },
  {
   "cell_type": "code",
   "execution_count": 114,
   "metadata": {},
   "outputs": [],
   "source": [
    "from sklearn.metrics import accuracy_score"
   ]
  },
  {
   "cell_type": "code",
   "execution_count": null,
   "metadata": {},
   "outputs": [],
   "source": [
    "# Accuracy train\n",
    "accuracy_score(train_y, train_pred)"
   ]
  },
  {
   "cell_type": "code",
   "execution_count": null,
   "metadata": {},
   "outputs": [],
   "source": [
    "# Accuracy test\n",
    "accuracy_score(test_y, test_pred)"
   ]
  }
 ],
 "metadata": {
  "kernelspec": {
   "display_name": "Python 3",
   "language": "python",
   "name": "python3"
  },
  "language_info": {
   "codemirror_mode": {
    "name": "ipython",
    "version": 3
   },
   "file_extension": ".py",
   "mimetype": "text/x-python",
   "name": "python",
   "nbconvert_exporter": "python",
   "pygments_lexer": "ipython3",
   "version": "3.12.5"
  }
 },
 "nbformat": 4,
 "nbformat_minor": 2
}
