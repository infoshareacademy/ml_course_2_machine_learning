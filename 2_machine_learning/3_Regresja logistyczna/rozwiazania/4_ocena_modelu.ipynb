{
 "cells": [
  {
   "cell_type": "markdown",
   "metadata": {},
   "source": [
    "# Ocena modelu\n",
    "## Zbiór danych \n",
    "https://www.kaggle.com/datasets/erdemtaha/cancer-data \n",
    "\n",
    "Będziemy pracować na zbiorze danych dotyczącym raka piersi."
   ]
  },
  {
   "cell_type": "code",
   "execution_count": 1,
   "metadata": {},
   "outputs": [],
   "source": [
    "# Import wymaganych bibliotek\n",
    "from  sklearn.linear_model import LogisticRegression\n",
    "import pandas as pd\n",
    "import numpy as np\n",
    "import os\n",
    "import matplotlib.pyplot as plt\n",
    "import seaborn as sns"
   ]
  },
  {
   "cell_type": "code",
   "execution_count": 2,
   "metadata": {},
   "outputs": [],
   "source": [
    "# puść ten kod, \n",
    "# jeżeli wywołujesz plik  w folderze rozwiąznaia, \n",
    "# a ramka danych znajduje się w folderze data\n",
    "import os \n",
    "os.chdir('../')"
   ]
  },
  {
   "cell_type": "code",
   "execution_count": 3,
   "metadata": {},
   "outputs": [],
   "source": [
    "# Pobranie danych\n",
    "os.chdir('../')\n",
    "\n",
    "df = pd.read_csv('data/Cancer_Data.csv')\n",
    "train_x = pd.read_csv('data/cancer_train_x.csv').iloc[:,1:]\n",
    "test_x = pd.read_csv('data/cancer_test_x.csv').iloc[:,1:]\n",
    "train_y = pd.read_csv('data/cancer_train_y.csv')['target']\n",
    "test_y = pd.read_csv('data/cancer_test_y.csv')['target']"
   ]
  },
  {
   "cell_type": "markdown",
   "metadata": {},
   "source": [
    "## Estymacja modelu"
   ]
  },
  {
   "cell_type": "code",
   "execution_count": 3,
   "metadata": {},
   "outputs": [],
   "source": [
    "# Stworzenie obiektu modelu\n",
    "model_1 = LogisticRegression()"
   ]
  },
  {
   "cell_type": "code",
   "execution_count": 4,
   "metadata": {},
   "outputs": [
    {
     "data": {
      "text/html": [
       "<style>#sk-container-id-1 {\n",
       "  /* Definition of color scheme common for light and dark mode */\n",
       "  --sklearn-color-text: black;\n",
       "  --sklearn-color-line: gray;\n",
       "  /* Definition of color scheme for unfitted estimators */\n",
       "  --sklearn-color-unfitted-level-0: #fff5e6;\n",
       "  --sklearn-color-unfitted-level-1: #f6e4d2;\n",
       "  --sklearn-color-unfitted-level-2: #ffe0b3;\n",
       "  --sklearn-color-unfitted-level-3: chocolate;\n",
       "  /* Definition of color scheme for fitted estimators */\n",
       "  --sklearn-color-fitted-level-0: #f0f8ff;\n",
       "  --sklearn-color-fitted-level-1: #d4ebff;\n",
       "  --sklearn-color-fitted-level-2: #b3dbfd;\n",
       "  --sklearn-color-fitted-level-3: cornflowerblue;\n",
       "\n",
       "  /* Specific color for light theme */\n",
       "  --sklearn-color-text-on-default-background: var(--sg-text-color, var(--theme-code-foreground, var(--jp-content-font-color1, black)));\n",
       "  --sklearn-color-background: var(--sg-background-color, var(--theme-background, var(--jp-layout-color0, white)));\n",
       "  --sklearn-color-border-box: var(--sg-text-color, var(--theme-code-foreground, var(--jp-content-font-color1, black)));\n",
       "  --sklearn-color-icon: #696969;\n",
       "\n",
       "  @media (prefers-color-scheme: dark) {\n",
       "    /* Redefinition of color scheme for dark theme */\n",
       "    --sklearn-color-text-on-default-background: var(--sg-text-color, var(--theme-code-foreground, var(--jp-content-font-color1, white)));\n",
       "    --sklearn-color-background: var(--sg-background-color, var(--theme-background, var(--jp-layout-color0, #111)));\n",
       "    --sklearn-color-border-box: var(--sg-text-color, var(--theme-code-foreground, var(--jp-content-font-color1, white)));\n",
       "    --sklearn-color-icon: #878787;\n",
       "  }\n",
       "}\n",
       "\n",
       "#sk-container-id-1 {\n",
       "  color: var(--sklearn-color-text);\n",
       "}\n",
       "\n",
       "#sk-container-id-1 pre {\n",
       "  padding: 0;\n",
       "}\n",
       "\n",
       "#sk-container-id-1 input.sk-hidden--visually {\n",
       "  border: 0;\n",
       "  clip: rect(1px 1px 1px 1px);\n",
       "  clip: rect(1px, 1px, 1px, 1px);\n",
       "  height: 1px;\n",
       "  margin: -1px;\n",
       "  overflow: hidden;\n",
       "  padding: 0;\n",
       "  position: absolute;\n",
       "  width: 1px;\n",
       "}\n",
       "\n",
       "#sk-container-id-1 div.sk-dashed-wrapped {\n",
       "  border: 1px dashed var(--sklearn-color-line);\n",
       "  margin: 0 0.4em 0.5em 0.4em;\n",
       "  box-sizing: border-box;\n",
       "  padding-bottom: 0.4em;\n",
       "  background-color: var(--sklearn-color-background);\n",
       "}\n",
       "\n",
       "#sk-container-id-1 div.sk-container {\n",
       "  /* jupyter's `normalize.less` sets `[hidden] { display: none; }`\n",
       "     but bootstrap.min.css set `[hidden] { display: none !important; }`\n",
       "     so we also need the `!important` here to be able to override the\n",
       "     default hidden behavior on the sphinx rendered scikit-learn.org.\n",
       "     See: https://github.com/scikit-learn/scikit-learn/issues/21755 */\n",
       "  display: inline-block !important;\n",
       "  position: relative;\n",
       "}\n",
       "\n",
       "#sk-container-id-1 div.sk-text-repr-fallback {\n",
       "  display: none;\n",
       "}\n",
       "\n",
       "div.sk-parallel-item,\n",
       "div.sk-serial,\n",
       "div.sk-item {\n",
       "  /* draw centered vertical line to link estimators */\n",
       "  background-image: linear-gradient(var(--sklearn-color-text-on-default-background), var(--sklearn-color-text-on-default-background));\n",
       "  background-size: 2px 100%;\n",
       "  background-repeat: no-repeat;\n",
       "  background-position: center center;\n",
       "}\n",
       "\n",
       "/* Parallel-specific style estimator block */\n",
       "\n",
       "#sk-container-id-1 div.sk-parallel-item::after {\n",
       "  content: \"\";\n",
       "  width: 100%;\n",
       "  border-bottom: 2px solid var(--sklearn-color-text-on-default-background);\n",
       "  flex-grow: 1;\n",
       "}\n",
       "\n",
       "#sk-container-id-1 div.sk-parallel {\n",
       "  display: flex;\n",
       "  align-items: stretch;\n",
       "  justify-content: center;\n",
       "  background-color: var(--sklearn-color-background);\n",
       "  position: relative;\n",
       "}\n",
       "\n",
       "#sk-container-id-1 div.sk-parallel-item {\n",
       "  display: flex;\n",
       "  flex-direction: column;\n",
       "}\n",
       "\n",
       "#sk-container-id-1 div.sk-parallel-item:first-child::after {\n",
       "  align-self: flex-end;\n",
       "  width: 50%;\n",
       "}\n",
       "\n",
       "#sk-container-id-1 div.sk-parallel-item:last-child::after {\n",
       "  align-self: flex-start;\n",
       "  width: 50%;\n",
       "}\n",
       "\n",
       "#sk-container-id-1 div.sk-parallel-item:only-child::after {\n",
       "  width: 0;\n",
       "}\n",
       "\n",
       "/* Serial-specific style estimator block */\n",
       "\n",
       "#sk-container-id-1 div.sk-serial {\n",
       "  display: flex;\n",
       "  flex-direction: column;\n",
       "  align-items: center;\n",
       "  background-color: var(--sklearn-color-background);\n",
       "  padding-right: 1em;\n",
       "  padding-left: 1em;\n",
       "}\n",
       "\n",
       "\n",
       "/* Toggleable style: style used for estimator/Pipeline/ColumnTransformer box that is\n",
       "clickable and can be expanded/collapsed.\n",
       "- Pipeline and ColumnTransformer use this feature and define the default style\n",
       "- Estimators will overwrite some part of the style using the `sk-estimator` class\n",
       "*/\n",
       "\n",
       "/* Pipeline and ColumnTransformer style (default) */\n",
       "\n",
       "#sk-container-id-1 div.sk-toggleable {\n",
       "  /* Default theme specific background. It is overwritten whether we have a\n",
       "  specific estimator or a Pipeline/ColumnTransformer */\n",
       "  background-color: var(--sklearn-color-background);\n",
       "}\n",
       "\n",
       "/* Toggleable label */\n",
       "#sk-container-id-1 label.sk-toggleable__label {\n",
       "  cursor: pointer;\n",
       "  display: block;\n",
       "  width: 100%;\n",
       "  margin-bottom: 0;\n",
       "  padding: 0.5em;\n",
       "  box-sizing: border-box;\n",
       "  text-align: center;\n",
       "}\n",
       "\n",
       "#sk-container-id-1 label.sk-toggleable__label-arrow:before {\n",
       "  /* Arrow on the left of the label */\n",
       "  content: \"▸\";\n",
       "  float: left;\n",
       "  margin-right: 0.25em;\n",
       "  color: var(--sklearn-color-icon);\n",
       "}\n",
       "\n",
       "#sk-container-id-1 label.sk-toggleable__label-arrow:hover:before {\n",
       "  color: var(--sklearn-color-text);\n",
       "}\n",
       "\n",
       "/* Toggleable content - dropdown */\n",
       "\n",
       "#sk-container-id-1 div.sk-toggleable__content {\n",
       "  max-height: 0;\n",
       "  max-width: 0;\n",
       "  overflow: hidden;\n",
       "  text-align: left;\n",
       "  /* unfitted */\n",
       "  background-color: var(--sklearn-color-unfitted-level-0);\n",
       "}\n",
       "\n",
       "#sk-container-id-1 div.sk-toggleable__content.fitted {\n",
       "  /* fitted */\n",
       "  background-color: var(--sklearn-color-fitted-level-0);\n",
       "}\n",
       "\n",
       "#sk-container-id-1 div.sk-toggleable__content pre {\n",
       "  margin: 0.2em;\n",
       "  border-radius: 0.25em;\n",
       "  color: var(--sklearn-color-text);\n",
       "  /* unfitted */\n",
       "  background-color: var(--sklearn-color-unfitted-level-0);\n",
       "}\n",
       "\n",
       "#sk-container-id-1 div.sk-toggleable__content.fitted pre {\n",
       "  /* unfitted */\n",
       "  background-color: var(--sklearn-color-fitted-level-0);\n",
       "}\n",
       "\n",
       "#sk-container-id-1 input.sk-toggleable__control:checked~div.sk-toggleable__content {\n",
       "  /* Expand drop-down */\n",
       "  max-height: 200px;\n",
       "  max-width: 100%;\n",
       "  overflow: auto;\n",
       "}\n",
       "\n",
       "#sk-container-id-1 input.sk-toggleable__control:checked~label.sk-toggleable__label-arrow:before {\n",
       "  content: \"▾\";\n",
       "}\n",
       "\n",
       "/* Pipeline/ColumnTransformer-specific style */\n",
       "\n",
       "#sk-container-id-1 div.sk-label input.sk-toggleable__control:checked~label.sk-toggleable__label {\n",
       "  color: var(--sklearn-color-text);\n",
       "  background-color: var(--sklearn-color-unfitted-level-2);\n",
       "}\n",
       "\n",
       "#sk-container-id-1 div.sk-label.fitted input.sk-toggleable__control:checked~label.sk-toggleable__label {\n",
       "  background-color: var(--sklearn-color-fitted-level-2);\n",
       "}\n",
       "\n",
       "/* Estimator-specific style */\n",
       "\n",
       "/* Colorize estimator box */\n",
       "#sk-container-id-1 div.sk-estimator input.sk-toggleable__control:checked~label.sk-toggleable__label {\n",
       "  /* unfitted */\n",
       "  background-color: var(--sklearn-color-unfitted-level-2);\n",
       "}\n",
       "\n",
       "#sk-container-id-1 div.sk-estimator.fitted input.sk-toggleable__control:checked~label.sk-toggleable__label {\n",
       "  /* fitted */\n",
       "  background-color: var(--sklearn-color-fitted-level-2);\n",
       "}\n",
       "\n",
       "#sk-container-id-1 div.sk-label label.sk-toggleable__label,\n",
       "#sk-container-id-1 div.sk-label label {\n",
       "  /* The background is the default theme color */\n",
       "  color: var(--sklearn-color-text-on-default-background);\n",
       "}\n",
       "\n",
       "/* On hover, darken the color of the background */\n",
       "#sk-container-id-1 div.sk-label:hover label.sk-toggleable__label {\n",
       "  color: var(--sklearn-color-text);\n",
       "  background-color: var(--sklearn-color-unfitted-level-2);\n",
       "}\n",
       "\n",
       "/* Label box, darken color on hover, fitted */\n",
       "#sk-container-id-1 div.sk-label.fitted:hover label.sk-toggleable__label.fitted {\n",
       "  color: var(--sklearn-color-text);\n",
       "  background-color: var(--sklearn-color-fitted-level-2);\n",
       "}\n",
       "\n",
       "/* Estimator label */\n",
       "\n",
       "#sk-container-id-1 div.sk-label label {\n",
       "  font-family: monospace;\n",
       "  font-weight: bold;\n",
       "  display: inline-block;\n",
       "  line-height: 1.2em;\n",
       "}\n",
       "\n",
       "#sk-container-id-1 div.sk-label-container {\n",
       "  text-align: center;\n",
       "}\n",
       "\n",
       "/* Estimator-specific */\n",
       "#sk-container-id-1 div.sk-estimator {\n",
       "  font-family: monospace;\n",
       "  border: 1px dotted var(--sklearn-color-border-box);\n",
       "  border-radius: 0.25em;\n",
       "  box-sizing: border-box;\n",
       "  margin-bottom: 0.5em;\n",
       "  /* unfitted */\n",
       "  background-color: var(--sklearn-color-unfitted-level-0);\n",
       "}\n",
       "\n",
       "#sk-container-id-1 div.sk-estimator.fitted {\n",
       "  /* fitted */\n",
       "  background-color: var(--sklearn-color-fitted-level-0);\n",
       "}\n",
       "\n",
       "/* on hover */\n",
       "#sk-container-id-1 div.sk-estimator:hover {\n",
       "  /* unfitted */\n",
       "  background-color: var(--sklearn-color-unfitted-level-2);\n",
       "}\n",
       "\n",
       "#sk-container-id-1 div.sk-estimator.fitted:hover {\n",
       "  /* fitted */\n",
       "  background-color: var(--sklearn-color-fitted-level-2);\n",
       "}\n",
       "\n",
       "/* Specification for estimator info (e.g. \"i\" and \"?\") */\n",
       "\n",
       "/* Common style for \"i\" and \"?\" */\n",
       "\n",
       ".sk-estimator-doc-link,\n",
       "a:link.sk-estimator-doc-link,\n",
       "a:visited.sk-estimator-doc-link {\n",
       "  float: right;\n",
       "  font-size: smaller;\n",
       "  line-height: 1em;\n",
       "  font-family: monospace;\n",
       "  background-color: var(--sklearn-color-background);\n",
       "  border-radius: 1em;\n",
       "  height: 1em;\n",
       "  width: 1em;\n",
       "  text-decoration: none !important;\n",
       "  margin-left: 1ex;\n",
       "  /* unfitted */\n",
       "  border: var(--sklearn-color-unfitted-level-1) 1pt solid;\n",
       "  color: var(--sklearn-color-unfitted-level-1);\n",
       "}\n",
       "\n",
       ".sk-estimator-doc-link.fitted,\n",
       "a:link.sk-estimator-doc-link.fitted,\n",
       "a:visited.sk-estimator-doc-link.fitted {\n",
       "  /* fitted */\n",
       "  border: var(--sklearn-color-fitted-level-1) 1pt solid;\n",
       "  color: var(--sklearn-color-fitted-level-1);\n",
       "}\n",
       "\n",
       "/* On hover */\n",
       "div.sk-estimator:hover .sk-estimator-doc-link:hover,\n",
       ".sk-estimator-doc-link:hover,\n",
       "div.sk-label-container:hover .sk-estimator-doc-link:hover,\n",
       ".sk-estimator-doc-link:hover {\n",
       "  /* unfitted */\n",
       "  background-color: var(--sklearn-color-unfitted-level-3);\n",
       "  color: var(--sklearn-color-background);\n",
       "  text-decoration: none;\n",
       "}\n",
       "\n",
       "div.sk-estimator.fitted:hover .sk-estimator-doc-link.fitted:hover,\n",
       ".sk-estimator-doc-link.fitted:hover,\n",
       "div.sk-label-container:hover .sk-estimator-doc-link.fitted:hover,\n",
       ".sk-estimator-doc-link.fitted:hover {\n",
       "  /* fitted */\n",
       "  background-color: var(--sklearn-color-fitted-level-3);\n",
       "  color: var(--sklearn-color-background);\n",
       "  text-decoration: none;\n",
       "}\n",
       "\n",
       "/* Span, style for the box shown on hovering the info icon */\n",
       ".sk-estimator-doc-link span {\n",
       "  display: none;\n",
       "  z-index: 9999;\n",
       "  position: relative;\n",
       "  font-weight: normal;\n",
       "  right: .2ex;\n",
       "  padding: .5ex;\n",
       "  margin: .5ex;\n",
       "  width: min-content;\n",
       "  min-width: 20ex;\n",
       "  max-width: 50ex;\n",
       "  color: var(--sklearn-color-text);\n",
       "  box-shadow: 2pt 2pt 4pt #999;\n",
       "  /* unfitted */\n",
       "  background: var(--sklearn-color-unfitted-level-0);\n",
       "  border: .5pt solid var(--sklearn-color-unfitted-level-3);\n",
       "}\n",
       "\n",
       ".sk-estimator-doc-link.fitted span {\n",
       "  /* fitted */\n",
       "  background: var(--sklearn-color-fitted-level-0);\n",
       "  border: var(--sklearn-color-fitted-level-3);\n",
       "}\n",
       "\n",
       ".sk-estimator-doc-link:hover span {\n",
       "  display: block;\n",
       "}\n",
       "\n",
       "/* \"?\"-specific style due to the `<a>` HTML tag */\n",
       "\n",
       "#sk-container-id-1 a.estimator_doc_link {\n",
       "  float: right;\n",
       "  font-size: 1rem;\n",
       "  line-height: 1em;\n",
       "  font-family: monospace;\n",
       "  background-color: var(--sklearn-color-background);\n",
       "  border-radius: 1rem;\n",
       "  height: 1rem;\n",
       "  width: 1rem;\n",
       "  text-decoration: none;\n",
       "  /* unfitted */\n",
       "  color: var(--sklearn-color-unfitted-level-1);\n",
       "  border: var(--sklearn-color-unfitted-level-1) 1pt solid;\n",
       "}\n",
       "\n",
       "#sk-container-id-1 a.estimator_doc_link.fitted {\n",
       "  /* fitted */\n",
       "  border: var(--sklearn-color-fitted-level-1) 1pt solid;\n",
       "  color: var(--sklearn-color-fitted-level-1);\n",
       "}\n",
       "\n",
       "/* On hover */\n",
       "#sk-container-id-1 a.estimator_doc_link:hover {\n",
       "  /* unfitted */\n",
       "  background-color: var(--sklearn-color-unfitted-level-3);\n",
       "  color: var(--sklearn-color-background);\n",
       "  text-decoration: none;\n",
       "}\n",
       "\n",
       "#sk-container-id-1 a.estimator_doc_link.fitted:hover {\n",
       "  /* fitted */\n",
       "  background-color: var(--sklearn-color-fitted-level-3);\n",
       "}\n",
       "</style><div id=\"sk-container-id-1\" class=\"sk-top-container\"><div class=\"sk-text-repr-fallback\"><pre>LogisticRegression()</pre><b>In a Jupyter environment, please rerun this cell to show the HTML representation or trust the notebook. <br />On GitHub, the HTML representation is unable to render, please try loading this page with nbviewer.org.</b></div><div class=\"sk-container\" hidden><div class=\"sk-item\"><div class=\"sk-estimator fitted sk-toggleable\"><input class=\"sk-toggleable__control sk-hidden--visually\" id=\"sk-estimator-id-1\" type=\"checkbox\" checked><label for=\"sk-estimator-id-1\" class=\"sk-toggleable__label fitted sk-toggleable__label-arrow fitted\">&nbsp;&nbsp;LogisticRegression<a class=\"sk-estimator-doc-link fitted\" rel=\"noreferrer\" target=\"_blank\" href=\"https://scikit-learn.org/1.5/modules/generated/sklearn.linear_model.LogisticRegression.html\">?<span>Documentation for LogisticRegression</span></a><span class=\"sk-estimator-doc-link fitted\">i<span>Fitted</span></span></label><div class=\"sk-toggleable__content fitted\"><pre>LogisticRegression()</pre></div> </div></div></div></div>"
      ],
      "text/plain": [
       "LogisticRegression()"
      ]
     },
     "execution_count": 4,
     "metadata": {},
     "output_type": "execute_result"
    }
   ],
   "source": [
    "# Estymacja \n",
    "model_1.fit(train_x,train_y)"
   ]
  },
  {
   "cell_type": "markdown",
   "metadata": {},
   "source": [
    "## Ocena jakości\n",
    "### Metryki bazujące na klasie"
   ]
  },
  {
   "cell_type": "code",
   "execution_count": 5,
   "metadata": {},
   "outputs": [],
   "source": [
    "from sklearn.metrics import (f1_score,\n",
    "                             accuracy_score, \n",
    "                             confusion_matrix, \n",
    "                             precision_score, \n",
    "                             recall_score,\n",
    "                             classification_report)\n"
   ]
  },
  {
   "cell_type": "code",
   "execution_count": 6,
   "metadata": {},
   "outputs": [],
   "source": [
    "# predykcje\n",
    "train_pred  = model_1.predict(train_x)\n",
    "test_pred  = model_1.predict(test_x)"
   ]
  },
  {
   "cell_type": "code",
   "execution_count": 7,
   "metadata": {},
   "outputs": [
    {
     "name": "stdout",
     "output_type": "stream",
     "text": [
      "Accuracy train: 0.943 \n",
      " Accuracy test: 0.961\n"
     ]
    }
   ],
   "source": [
    "# accuracy \n",
    "acc_train  = round(accuracy_score(train_y, train_pred),3)\n",
    "acc_test = round(accuracy_score(test_y, test_pred),3)\n",
    "print(f'Accuracy train: {acc_train} \\n Accuracy test: {acc_test}')\n"
   ]
  },
  {
   "cell_type": "code",
   "execution_count": 8,
   "metadata": {},
   "outputs": [
    {
     "data": {
      "text/plain": [
       "target\n",
       "0    254\n",
       "1     98\n",
       "Name: count, dtype: int64"
      ]
     },
     "execution_count": 8,
     "metadata": {},
     "output_type": "execute_result"
    }
   ],
   "source": [
    "train_y.value_counts()"
   ]
  },
  {
   "cell_type": "code",
   "execution_count": 9,
   "metadata": {},
   "outputs": [
    {
     "data": {
      "text/plain": [
       "target\n",
       "0    0.721591\n",
       "1    0.278409\n",
       "Name: count, dtype: float64"
      ]
     },
     "execution_count": 9,
     "metadata": {},
     "output_type": "execute_result"
    }
   ],
   "source": [
    "train_y.value_counts() / len(train_y)"
   ]
  },
  {
   "cell_type": "code",
   "execution_count": 10,
   "metadata": {},
   "outputs": [
    {
     "name": "stdout",
     "output_type": "stream",
     "text": [
      "Precision train: 0.924 \n",
      " Precision test: 0.946\n"
     ]
    }
   ],
   "source": [
    "# precision\n",
    "pr_train = round(precision_score(train_y, train_pred),3)\n",
    "pr_test = round(precision_score(test_y, test_pred),3)\n",
    "print(f'Precision train: {pr_train} \\n Precision test: {pr_test}')"
   ]
  },
  {
   "cell_type": "code",
   "execution_count": 11,
   "metadata": {},
   "outputs": [
    {
     "name": "stdout",
     "output_type": "stream",
     "text": [
      "Recall train: 0.867 \n",
      "Recall test: 0.946\n"
     ]
    }
   ],
   "source": [
    "# recall\n",
    "re_train = round(recall_score(train_y,train_pred),3)\n",
    "re_test = round(recall_score(test_y, test_pred),3)\n",
    "print(f'Recall train: {re_train} \\nRecall test: {re_test}')"
   ]
  },
  {
   "cell_type": "code",
   "execution_count": 12,
   "metadata": {},
   "outputs": [
    {
     "name": "stdout",
     "output_type": "stream",
     "text": [
      "F1 train: 0.895 \n",
      "F1 test: 0.946\n"
     ]
    }
   ],
   "source": [
    "# f1 score\n",
    "f1_train = round(f1_score(train_y, train_pred),3)\n",
    "f1_test = round(f1_score(test_y, test_pred),3)\n",
    "print(f'F1 train: {f1_train} \\nF1 test: {f1_test}')"
   ]
  },
  {
   "cell_type": "code",
   "execution_count": 13,
   "metadata": {},
   "outputs": [
    {
     "name": "stdout",
     "output_type": "stream",
     "text": [
      "              precision    recall  f1-score   support\n",
      "\n",
      "           0       0.95      0.97      0.96       254\n",
      "           1       0.92      0.87      0.89        98\n",
      "\n",
      "    accuracy                           0.94       352\n",
      "   macro avg       0.94      0.92      0.93       352\n",
      "weighted avg       0.94      0.94      0.94       352\n",
      "\n"
     ]
    }
   ],
   "source": [
    "# classification_report train\n",
    "print(classification_report(train_y, train_pred))"
   ]
  },
  {
   "cell_type": "code",
   "execution_count": 14,
   "metadata": {},
   "outputs": [
    {
     "name": "stdout",
     "output_type": "stream",
     "text": [
      "              precision    recall  f1-score   support\n",
      "\n",
      "           0       0.97      0.97      0.97        96\n",
      "           1       0.95      0.95      0.95        56\n",
      "\n",
      "    accuracy                           0.96       152\n",
      "   macro avg       0.96      0.96      0.96       152\n",
      "weighted avg       0.96      0.96      0.96       152\n",
      "\n"
     ]
    }
   ],
   "source": [
    "# classification_report test\n",
    "print(classification_report(test_y,test_pred))"
   ]
  },
  {
   "cell_type": "markdown",
   "metadata": {},
   "source": [
    "### Metryki bazujące na prawdopodobieństwie"
   ]
  },
  {
   "cell_type": "code",
   "execution_count": 15,
   "metadata": {},
   "outputs": [],
   "source": [
    "from sklearn.metrics import roc_auc_score, roc_curve"
   ]
  },
  {
   "cell_type": "code",
   "execution_count": 21,
   "metadata": {},
   "outputs": [
    {
     "data": {
      "text/plain": [
       "array([8.83014878e-01, 9.65428039e-03, 4.66999291e-02, 2.43964991e-03,\n",
       "       2.15332602e-02, 2.97663557e-01, 1.98833900e-02, 4.85322069e-01,\n",
       "       1.00491415e-02, 6.37523831e-02, 4.63453904e-04, 2.12242561e-03,\n",
       "       4.63227650e-05, 7.30025251e-02, 2.83069398e-02, 6.38177169e-01,\n",
       "       1.01180957e-03, 1.10486916e-02, 3.05072698e-01, 5.98384514e-02,\n",
       "       9.99973695e-01, 3.64088129e-03, 9.57068417e-01, 1.31037066e-02,\n",
       "       9.94404458e-01, 2.84269390e-02, 1.19781648e-02, 6.80477510e-03,\n",
       "       1.04960967e-03, 2.23395489e-05, 1.03913472e-02, 5.12733955e-03,\n",
       "       2.27222756e-02, 5.48634510e-03, 4.75944970e-03, 5.93449770e-04,\n",
       "       9.87951099e-01, 2.61238976e-03, 9.99999669e-01, 7.23597670e-01,\n",
       "       4.97738786e-02, 9.66926055e-02, 4.02194956e-05, 9.97815052e-02,\n",
       "       2.71815701e-02, 9.92475349e-01, 5.58391751e-01, 1.01779622e-03,\n",
       "       4.88916632e-02, 3.49512079e-01, 9.54215931e-02, 2.04057223e-02,\n",
       "       7.47037095e-01, 7.45460335e-04, 1.38884019e-02, 1.03515037e-02,\n",
       "       6.13591598e-02, 2.55431437e-01, 9.99943476e-01, 3.18751580e-01,\n",
       "       9.99929281e-01, 8.05672471e-01, 1.57796790e-03, 9.99888170e-01,\n",
       "       1.09306859e-03, 7.16221456e-02, 2.78775271e-01, 1.78325454e-03,\n",
       "       7.44406757e-04, 2.93004474e-01, 1.36408238e-01, 3.06183676e-01,\n",
       "       2.43978705e-03, 9.14559753e-01, 9.22687410e-01, 9.04261356e-01,\n",
       "       9.73479505e-01, 1.04551936e-01, 5.77271862e-04, 3.53409774e-05,\n",
       "       7.84730500e-04, 2.76244959e-03, 3.53496418e-04, 1.13630634e-02,\n",
       "       6.68594158e-01, 8.13547433e-02, 1.09438403e-04, 4.05467754e-01,\n",
       "       1.87509271e-03, 2.27970667e-04, 2.16693407e-04, 1.48846935e-01,\n",
       "       9.99634283e-01, 1.35170454e-02, 9.99898979e-01, 3.16518977e-02,\n",
       "       6.31757613e-04, 1.35559822e-01, 4.32590057e-04, 7.93545160e-03,\n",
       "       3.09826662e-01, 7.94061858e-02, 9.99188381e-01, 1.23558420e-01,\n",
       "       2.37894079e-02, 7.59238490e-06, 9.53362503e-04, 9.99986383e-01,\n",
       "       4.21709424e-04, 8.53064952e-03, 9.97669352e-01, 2.76458609e-02,\n",
       "       1.34868800e-01, 7.80144269e-04, 9.49584365e-01, 9.98776416e-01,\n",
       "       9.99975569e-01, 9.99987668e-01, 2.03345576e-02, 2.40850853e-04,\n",
       "       2.50640243e-03, 4.92439442e-04, 1.15479692e-03, 9.99891112e-01,\n",
       "       8.32145277e-01, 9.99359193e-02, 9.79123023e-01, 9.99383486e-01,\n",
       "       7.10775623e-02, 3.78699731e-03, 8.83999786e-01, 8.72423614e-04,\n",
       "       4.58562875e-03, 6.41751243e-01, 3.05330839e-01, 1.09741920e-03,\n",
       "       9.62991181e-01, 9.99995844e-01, 1.51159797e-03, 8.32805608e-01,\n",
       "       1.63021362e-01, 9.61283431e-01, 3.71145558e-01, 9.41144868e-05,\n",
       "       7.91208517e-03, 6.13483469e-04, 5.48878666e-01, 9.93302101e-01,\n",
       "       9.69724231e-02, 1.07199519e-03, 1.71697509e-03, 9.21319319e-01,\n",
       "       9.92151163e-01, 6.53090592e-04, 8.48015261e-02, 9.97828549e-01,\n",
       "       9.99813551e-01, 1.88989957e-03, 4.56421559e-03, 1.50392155e-02,\n",
       "       6.14580424e-03, 1.36430976e-03, 2.84383289e-04, 1.15424274e-01,\n",
       "       2.18410750e-04, 1.20439586e-03, 2.71290966e-04, 4.88041425e-02,\n",
       "       1.52793094e-02, 8.92642726e-01, 8.11297818e-04, 2.69156925e-01,\n",
       "       1.40839916e-02, 9.50473679e-01, 1.39679287e-02, 8.04649964e-02,\n",
       "       1.57746697e-02, 7.54854639e-02, 1.69700145e-01, 3.54316459e-01,\n",
       "       2.50583967e-02, 2.11530401e-02, 9.99852115e-01, 8.40738782e-03,\n",
       "       1.00500411e-03, 3.34529348e-04, 6.24485471e-03, 1.97781822e-04,\n",
       "       1.34375795e-03, 3.48779053e-03, 8.57282447e-04, 8.50113312e-02,\n",
       "       1.86622967e-03, 2.14036368e-04, 9.97102034e-01, 4.86046863e-02,\n",
       "       8.36643559e-01, 9.95158133e-01, 8.93815228e-01, 1.74952242e-05,\n",
       "       3.96428772e-03, 1.78183071e-04, 2.49910889e-02, 2.54497751e-02,\n",
       "       2.32643282e-02, 1.90650663e-01, 1.49362871e-03, 3.23058421e-04,\n",
       "       1.18775237e-02, 9.99923846e-01, 5.64923510e-05, 2.40308878e-02,\n",
       "       9.68313729e-03, 4.66919380e-02, 2.65375403e-02, 2.21262255e-01,\n",
       "       2.06086431e-01, 8.10384560e-04, 1.25979809e-02, 7.98536104e-02,\n",
       "       7.68897503e-03, 1.01699736e-03, 6.97081619e-02, 7.60209885e-01,\n",
       "       2.30947716e-02, 8.17546923e-01, 9.38109734e-04, 4.89783018e-02,\n",
       "       1.51160066e-02, 1.17585144e-01, 9.92451012e-01, 2.61990223e-02,\n",
       "       1.31034847e-02, 3.01871753e-01, 2.72790263e-03, 9.99992609e-01,\n",
       "       5.63985151e-01, 9.97743334e-01, 1.82237099e-02, 6.24823051e-04,\n",
       "       5.03963346e-03, 7.03451508e-03, 7.67120856e-01, 9.48101323e-01,\n",
       "       3.76228275e-04, 1.23768844e-02, 3.73836651e-03, 3.35641030e-02,\n",
       "       9.97524665e-01, 6.53051440e-01, 1.94073507e-02, 1.00008338e-02,\n",
       "       1.78594669e-01, 4.37296561e-02, 1.82154555e-03, 1.32145015e-03,\n",
       "       1.07584329e-04, 2.37782313e-02, 5.68735873e-05, 9.99533358e-01,\n",
       "       9.96227329e-01, 3.57836267e-03, 2.00929501e-03, 1.22379960e-03,\n",
       "       9.92412362e-01, 1.25696406e-01, 6.95025658e-02, 3.12178773e-01,\n",
       "       1.81422544e-03, 2.99946920e-02, 4.43191804e-04, 7.65219492e-03,\n",
       "       4.60694744e-03, 2.00553285e-05, 1.87171768e-02, 6.42242621e-01,\n",
       "       9.54505964e-01, 8.31688425e-04, 1.85063438e-04, 9.99807643e-01,\n",
       "       9.96396446e-01, 4.23191573e-04, 1.47858680e-04, 3.74190367e-02,\n",
       "       1.36655296e-03, 1.15458456e-01, 9.99900254e-01, 1.09426279e-02,\n",
       "       9.99992167e-01, 6.18685336e-02, 8.22693430e-03, 3.31365848e-02,\n",
       "       2.78122973e-02, 2.16072356e-01, 1.66905483e-04, 1.08296081e-02,\n",
       "       8.91313307e-01, 6.92502926e-02, 1.03376327e-02, 9.99090210e-01,\n",
       "       8.88080269e-03, 1.21296805e-03, 1.84853362e-02, 3.13650444e-01,\n",
       "       3.21528726e-03, 1.55581534e-04, 3.24236532e-03, 8.35336201e-01,\n",
       "       9.69446811e-01, 8.85102576e-01, 9.82772271e-01, 9.99998796e-01,\n",
       "       7.47401213e-05, 3.78044708e-04, 3.48535802e-06, 9.99976505e-01,\n",
       "       2.77372381e-02, 9.99994141e-01, 9.95431476e-01, 6.89287163e-04,\n",
       "       4.08645958e-05, 8.16318472e-01, 9.99587744e-01, 1.44165395e-03,\n",
       "       3.62814224e-03, 5.23788380e-02, 4.64937461e-03, 3.15771444e-03,\n",
       "       9.98691229e-01, 1.37840585e-01, 4.46767918e-03, 9.83612982e-01,\n",
       "       3.91485442e-03, 4.87673289e-01, 2.83406739e-01, 7.27338563e-06,\n",
       "       4.10523024e-02, 9.90632659e-01, 5.10207053e-05, 8.71038887e-01,\n",
       "       7.67424997e-02, 9.99958262e-01, 2.91171541e-02, 6.02253162e-02,\n",
       "       8.22708759e-01, 9.99998416e-01, 1.66868029e-03, 2.55382590e-05,\n",
       "       4.62926083e-02, 9.98336830e-01, 4.93993332e-02, 4.92235269e-03])"
      ]
     },
     "execution_count": 21,
     "metadata": {},
     "output_type": "execute_result"
    }
   ],
   "source": [
    "# Predykcje\n",
    "train_pred_p =model_1.predict_proba(train_x)[:,1]\n",
    "train_pred_p"
   ]
  },
  {
   "cell_type": "code",
   "execution_count": 22,
   "metadata": {},
   "outputs": [],
   "source": [
    "test_pred_p = model_1.predict_proba(test_x)[:,1]"
   ]
  },
  {
   "cell_type": "code",
   "execution_count": 23,
   "metadata": {},
   "outputs": [],
   "source": [
    "# Pole pod krzywą roc\n",
    "auc_train = round(roc_auc_score(train_y, train_pred_p),3)\n",
    "auc_test  = round(roc_auc_score(test_y, test_pred_p),3)"
   ]
  },
  {
   "cell_type": "code",
   "execution_count": 24,
   "metadata": {},
   "outputs": [],
   "source": [
    "# Przygotwanie danych do wykresu\n",
    "fpr_train, tpr_train,thresholds_train = roc_curve(train_y, train_pred_p)\n",
    "fpr_test, tpr_test, thresholds_test = roc_curve(test_y, test_pred_p)\n"
   ]
  },
  {
   "cell_type": "code",
   "execution_count": 25,
   "metadata": {},
   "outputs": [
    {
     "data": {
      "text/plain": [
       "array([0.        , 0.        , 0.        , 0.01041667, 0.01041667,\n",
       "       0.02083333, 0.02083333, 0.03125   , 0.03125   , 0.05208333,\n",
       "       0.05208333, 0.08333333, 0.08333333, 0.09375   , 0.09375   ,\n",
       "       1.        ])"
      ]
     },
     "execution_count": 25,
     "metadata": {},
     "output_type": "execute_result"
    }
   ],
   "source": [
    "fpr_test"
   ]
  },
  {
   "cell_type": "code",
   "execution_count": 26,
   "metadata": {},
   "outputs": [
    {
     "data": {
      "text/plain": [
       "array([0.        , 0.01785714, 0.78571429, 0.78571429, 0.91071429,\n",
       "       0.91071429, 0.92857143, 0.92857143, 0.94642857, 0.94642857,\n",
       "       0.96428571, 0.96428571, 0.98214286, 0.98214286, 1.        ,\n",
       "       1.        ])"
      ]
     },
     "execution_count": 26,
     "metadata": {},
     "output_type": "execute_result"
    }
   ],
   "source": [
    "tpr_test"
   ]
  },
  {
   "cell_type": "code",
   "execution_count": 27,
   "metadata": {},
   "outputs": [
    {
     "data": {
      "text/plain": [
       "array([           inf, 9.99999013e-01, 8.92603780e-01, 8.73560958e-01,\n",
       "       6.97057987e-01, 6.89940103e-01, 6.53789741e-01, 6.26925647e-01,\n",
       "       6.09449317e-01, 4.26777936e-01, 3.89364255e-01, 2.31381336e-01,\n",
       "       2.29523437e-01, 2.29404008e-01, 2.09611944e-01, 1.66812737e-05])"
      ]
     },
     "execution_count": 27,
     "metadata": {},
     "output_type": "execute_result"
    }
   ],
   "source": [
    "thresholds_test"
   ]
  },
  {
   "cell_type": "code",
   "execution_count": 28,
   "metadata": {},
   "outputs": [
    {
     "data": {
      "image/png": "[encoded data removed]",
      "text/plain": [
       "<Figure size 640x480 with 1 Axes>"
      ]
     },
     "metadata": {},
     "output_type": "display_data"
    }
   ],
   "source": [
    "# Wykres\n",
    "plt.plot(fpr_train, tpr_train, label='train')\n",
    "plt.plot(fpr_test,tpr_test, label='test')\n",
    "plt.plot(np.arange(0,1,0.01),np.arange(0,1,0.01),'--')\n",
    "plt.legend()\n",
    "plt.annotate(f'AUC train: {auc_train}',xy=[0.2,0.8])\n",
    "plt.annotate(f'AUC test: {auc_test}',xy=[0.2,0.75])\n",
    "plt.title('Krzywa ROC')\n",
    "plt.show()"
   ]
  }
 ],
 "metadata": {
  "kernelspec": {
   "display_name": "Python 3",
   "language": "python",
   "name": "python3"
  },
  "language_info": {
   "codemirror_mode": {
    "name": "ipython",
    "version": 3
   },
   "file_extension": ".py",
   "mimetype": "text/x-python",
   "name": "python",
   "nbconvert_exporter": "python",
   "pygments_lexer": "ipython3",
   "version": "3.12.5"
  }
 },
 "nbformat": 4,
 "nbformat_minor": 2
}
