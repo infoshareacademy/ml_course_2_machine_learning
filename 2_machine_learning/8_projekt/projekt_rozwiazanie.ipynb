{
 "cells": [
  {
   "cell_type": "markdown",
   "metadata": {},
   "source": [
    "# Projekt - podstawy Machine Learning\n",
    "\n",
    "Nadszedł czas na podsumownaie pracy w tym module.\n",
    "\n",
    "Do rozwiązania mamy problem regresyjny. Mamy zaprognozować kwotę sprzedaży mieszkania. Taki model pozwoli na lepsze oszacowanie potencjalnej kwoty sprzedaży, szybszą finalizację transakcji i może być wsparciem dla agentów nieruchomości oraz dla sprzedawców i nabywców.\n",
    "\n",
    "Link do zbioru danych: https://www.kaggle.com/datasets/mohammedaltet/egypt-houses-price\n",
    "\n",
    "Kolumny w zbiorze:\n",
    "- Type: the type of property\n",
    "- Price: the price of property\n",
    "- Bedrooms: number of bedrooms\n",
    "- Bathrooms: number of bathrooms\n",
    "- Area: the Area of the property by m^2\n",
    "- Furnished: is the property Furnished or not\n",
    "- Level: In what floor the property is ?\n",
    "- Compound: ** In what Compound the property is ?**\n",
    "- Payment_Option\n",
    "- Delivery_Date\n",
    "- City\n",
    "\n",
    "Zadanie polega na eksploracji danych\n",
    "oraz napisaniu funkcji, która wytrenuje i porówna przynajmniej dwa różne algorytmy oraz wybierze najlepsze rozwiązanie. "
   ]
  },
  {
   "cell_type": "code",
   "execution_count": 1,
   "metadata": {},
   "outputs": [],
   "source": [
    "import pandas as pd\n",
    "import os\n",
    "import numpy as np"
   ]
  },
  {
   "cell_type": "code",
   "execution_count": 2,
   "metadata": {},
   "outputs": [],
   "source": [
    "# Wczytanie danych\n",
    "os.chdir('../')\n",
    "df = pd.read_csv(\"data/Egypt_Houses_Price.csv\")\n"
   ]
  },
  {
   "cell_type": "code",
   "execution_count": 3,
   "metadata": {},
   "outputs": [
    {
     "data": {
      "text/html": [
       "<div>\n",
       "<style scoped>\n",
       "    .dataframe tbody tr th:only-of-type {\n",
       "        vertical-align: middle;\n",
       "    }\n",
       "\n",
       "    .dataframe tbody tr th {\n",
       "        vertical-align: top;\n",
       "    }\n",
       "\n",
       "    .dataframe thead th {\n",
       "        text-align: right;\n",
       "    }\n",
       "</style>\n",
       "<table border=\"1\" class=\"dataframe\">\n",
       "  <thead>\n",
       "    <tr style=\"text-align: right;\">\n",
       "      <th></th>\n",
       "      <th>Type</th>\n",
       "      <th>Price</th>\n",
       "      <th>Bedrooms</th>\n",
       "      <th>Bathrooms</th>\n",
       "      <th>Area</th>\n",
       "      <th>Furnished</th>\n",
       "      <th>Level</th>\n",
       "      <th>Compound</th>\n",
       "      <th>Payment_Option</th>\n",
       "      <th>Delivery_Date</th>\n",
       "      <th>Delivery_Term</th>\n",
       "      <th>City</th>\n",
       "    </tr>\n",
       "  </thead>\n",
       "  <tbody>\n",
       "    <tr>\n",
       "      <th>0</th>\n",
       "      <td>Duplex</td>\n",
       "      <td>4000000</td>\n",
       "      <td>3.0</td>\n",
       "      <td>3.0</td>\n",
       "      <td>400.0</td>\n",
       "      <td>No</td>\n",
       "      <td>7</td>\n",
       "      <td>Unknown</td>\n",
       "      <td>Cash</td>\n",
       "      <td>Ready to move</td>\n",
       "      <td>Finished</td>\n",
       "      <td>Nasr City</td>\n",
       "    </tr>\n",
       "    <tr>\n",
       "      <th>1</th>\n",
       "      <td>Apartment</td>\n",
       "      <td>4000000</td>\n",
       "      <td>3.0</td>\n",
       "      <td>3.0</td>\n",
       "      <td>160.0</td>\n",
       "      <td>No</td>\n",
       "      <td>10+</td>\n",
       "      <td>Unknown</td>\n",
       "      <td>Cash</td>\n",
       "      <td>Ready to move</td>\n",
       "      <td>Finished</td>\n",
       "      <td>Camp Caesar</td>\n",
       "    </tr>\n",
       "    <tr>\n",
       "      <th>2</th>\n",
       "      <td>Apartment</td>\n",
       "      <td>2250000</td>\n",
       "      <td>3.0</td>\n",
       "      <td>2.0</td>\n",
       "      <td>165.0</td>\n",
       "      <td>No</td>\n",
       "      <td>1</td>\n",
       "      <td>Unknown</td>\n",
       "      <td>Cash</td>\n",
       "      <td>Ready to move</td>\n",
       "      <td>Finished</td>\n",
       "      <td>Smoha</td>\n",
       "    </tr>\n",
       "    <tr>\n",
       "      <th>3</th>\n",
       "      <td>Apartment</td>\n",
       "      <td>1900000</td>\n",
       "      <td>3.0</td>\n",
       "      <td>2.0</td>\n",
       "      <td>230.0</td>\n",
       "      <td>No</td>\n",
       "      <td>10</td>\n",
       "      <td>Unknown</td>\n",
       "      <td>Cash</td>\n",
       "      <td>Ready to move</td>\n",
       "      <td>Finished</td>\n",
       "      <td>Nasr City</td>\n",
       "    </tr>\n",
       "    <tr>\n",
       "      <th>4</th>\n",
       "      <td>Apartment</td>\n",
       "      <td>5800000</td>\n",
       "      <td>2.0</td>\n",
       "      <td>3.0</td>\n",
       "      <td>160.0</td>\n",
       "      <td>No</td>\n",
       "      <td>Ground</td>\n",
       "      <td>Eastown</td>\n",
       "      <td>Cash</td>\n",
       "      <td>Ready to move</td>\n",
       "      <td>Semi Finished</td>\n",
       "      <td>New Cairo - El Tagamoa</td>\n",
       "    </tr>\n",
       "  </tbody>\n",
       "</table>\n",
       "</div>"
      ],
      "text/plain": [
       "        Type    Price Bedrooms Bathrooms   Area Furnished   Level Compound  \\\n",
       "0     Duplex  4000000      3.0       3.0  400.0        No       7  Unknown   \n",
       "1  Apartment  4000000      3.0       3.0  160.0        No     10+  Unknown   \n",
       "2  Apartment  2250000      3.0       2.0  165.0        No       1  Unknown   \n",
       "3  Apartment  1900000      3.0       2.0  230.0        No      10  Unknown   \n",
       "4  Apartment  5800000      2.0       3.0  160.0        No  Ground  Eastown   \n",
       "\n",
       "  Payment_Option  Delivery_Date  Delivery_Term                    City  \n",
       "0           Cash  Ready to move       Finished               Nasr City  \n",
       "1           Cash  Ready to move       Finished             Camp Caesar  \n",
       "2           Cash  Ready to move       Finished                   Smoha  \n",
       "3           Cash  Ready to move       Finished               Nasr City  \n",
       "4           Cash  Ready to move  Semi Finished  New Cairo - El Tagamoa  "
      ]
     },
     "execution_count": 3,
     "metadata": {},
     "output_type": "execute_result"
    }
   ],
   "source": [
    "df.head()"
   ]
  },
  {
   "cell_type": "code",
   "execution_count": 4,
   "metadata": {},
   "outputs": [
    {
     "data": {
      "text/html": [
       "<div>\n",
       "<style scoped>\n",
       "    .dataframe tbody tr th:only-of-type {\n",
       "        vertical-align: middle;\n",
       "    }\n",
       "\n",
       "    .dataframe tbody tr th {\n",
       "        vertical-align: top;\n",
       "    }\n",
       "\n",
       "    .dataframe thead th {\n",
       "        text-align: right;\n",
       "    }\n",
       "</style>\n",
       "<table border=\"1\" class=\"dataframe\">\n",
       "  <thead>\n",
       "    <tr style=\"text-align: right;\">\n",
       "      <th></th>\n",
       "      <th>Type</th>\n",
       "      <th>Price</th>\n",
       "      <th>Bedrooms</th>\n",
       "      <th>Bathrooms</th>\n",
       "      <th>Area</th>\n",
       "      <th>Furnished</th>\n",
       "      <th>Level</th>\n",
       "      <th>Compound</th>\n",
       "      <th>Payment_Option</th>\n",
       "      <th>Delivery_Date</th>\n",
       "      <th>Delivery_Term</th>\n",
       "      <th>City</th>\n",
       "    </tr>\n",
       "  </thead>\n",
       "  <tbody>\n",
       "    <tr>\n",
       "      <th>count</th>\n",
       "      <td>27361</td>\n",
       "      <td>27359</td>\n",
       "      <td>27158</td>\n",
       "      <td>27190</td>\n",
       "      <td>26890</td>\n",
       "      <td>27361</td>\n",
       "      <td>27361</td>\n",
       "      <td>27361</td>\n",
       "      <td>27361</td>\n",
       "      <td>27361</td>\n",
       "      <td>27361</td>\n",
       "      <td>27361</td>\n",
       "    </tr>\n",
       "    <tr>\n",
       "      <th>unique</th>\n",
       "      <td>11</td>\n",
       "      <td>4182</td>\n",
       "      <td>22</td>\n",
       "      <td>22</td>\n",
       "      <td>1073</td>\n",
       "      <td>3</td>\n",
       "      <td>14</td>\n",
       "      <td>560</td>\n",
       "      <td>4</td>\n",
       "      <td>10</td>\n",
       "      <td>5</td>\n",
       "      <td>183</td>\n",
       "    </tr>\n",
       "    <tr>\n",
       "      <th>top</th>\n",
       "      <td>Apartment</td>\n",
       "      <td>3000000</td>\n",
       "      <td>3</td>\n",
       "      <td>2</td>\n",
       "      <td>120.0</td>\n",
       "      <td>No</td>\n",
       "      <td>Unknown</td>\n",
       "      <td>Unknown</td>\n",
       "      <td>Cash or Installment</td>\n",
       "      <td>Ready to move</td>\n",
       "      <td>Finished</td>\n",
       "      <td>New Cairo - El Tagamoa</td>\n",
       "    </tr>\n",
       "    <tr>\n",
       "      <th>freq</th>\n",
       "      <td>8506</td>\n",
       "      <td>311</td>\n",
       "      <td>9784</td>\n",
       "      <td>7753</td>\n",
       "      <td>663</td>\n",
       "      <td>16500</td>\n",
       "      <td>10439</td>\n",
       "      <td>11068</td>\n",
       "      <td>10842</td>\n",
       "      <td>12142</td>\n",
       "      <td>14375</td>\n",
       "      <td>6789</td>\n",
       "    </tr>\n",
       "  </tbody>\n",
       "</table>\n",
       "</div>"
      ],
      "text/plain": [
       "             Type    Price Bedrooms Bathrooms   Area Furnished    Level  \\\n",
       "count       27361    27359    27158     27190  26890     27361    27361   \n",
       "unique         11     4182       22        22   1073         3       14   \n",
       "top     Apartment  3000000        3         2  120.0        No  Unknown   \n",
       "freq         8506      311     9784      7753    663     16500    10439   \n",
       "\n",
       "       Compound       Payment_Option  Delivery_Date Delivery_Term  \\\n",
       "count     27361                27361          27361         27361   \n",
       "unique      560                    4             10             5   \n",
       "top     Unknown  Cash or Installment  Ready to move      Finished   \n",
       "freq      11068                10842          12142         14375   \n",
       "\n",
       "                          City  \n",
       "count                    27361  \n",
       "unique                     183  \n",
       "top     New Cairo - El Tagamoa  \n",
       "freq                      6789  "
      ]
     },
     "execution_count": 4,
     "metadata": {},
     "output_type": "execute_result"
    }
   ],
   "source": [
    "df.describe()"
   ]
  },
  {
   "cell_type": "code",
   "execution_count": 5,
   "metadata": {},
   "outputs": [
    {
     "data": {
      "text/plain": [
       "Level\n",
       "Unknown    10439\n",
       "Ground      4821\n",
       "2           3727\n",
       "1           3592\n",
       "3           2097\n",
       "4            898\n",
       "5            577\n",
       "10+          257\n",
       "6            223\n",
       "7            216\n",
       "Highest      178\n",
       "8            129\n",
       "10           104\n",
       "9            103\n",
       "Name: count, dtype: int64"
      ]
     },
     "execution_count": 5,
     "metadata": {},
     "output_type": "execute_result"
    }
   ],
   "source": [
    "df['Level'].value_counts()"
   ]
  },
  {
   "cell_type": "code",
   "execution_count": 5,
   "metadata": {},
   "outputs": [],
   "source": [
    "cols_to_numeric = ['Price','Bedrooms','Bathrooms','Area','Level']"
   ]
  },
  {
   "cell_type": "code",
   "execution_count": 6,
   "metadata": {},
   "outputs": [],
   "source": [
    "# zmiany wartosci unknown na puste\n",
    "df[cols_to_numeric] = df[cols_to_numeric].replace('Unknown',np.nan)"
   ]
  },
  {
   "cell_type": "code",
   "execution_count": 7,
   "metadata": {},
   "outputs": [],
   "source": [
    "# Posprzątanie zmiennej level\n",
    "df.loc[df['Level']=='Ground','Level'] = 0"
   ]
  },
  {
   "cell_type": "code",
   "execution_count": 9,
   "metadata": {},
   "outputs": [],
   "source": [
    "df.loc[df['Level'].isin(['10+','Highest']),'Level'] = 11"
   ]
  },
  {
   "cell_type": "code",
   "execution_count": 10,
   "metadata": {},
   "outputs": [
    {
     "data": {
      "text/plain": [
       "Level\n",
       "0     4821\n",
       "2     3727\n",
       "1     3592\n",
       "3     2097\n",
       "4      898\n",
       "5      577\n",
       "11     435\n",
       "6      223\n",
       "7      216\n",
       "8      129\n",
       "10     104\n",
       "9      103\n",
       "Name: count, dtype: int64"
      ]
     },
     "execution_count": 10,
     "metadata": {},
     "output_type": "execute_result"
    }
   ],
   "source": [
    "# wartości zmiennej level\n",
    "df['Level'].value_counts()"
   ]
  },
  {
   "cell_type": "code",
   "execution_count": 12,
   "metadata": {},
   "outputs": [
    {
     "data": {
      "text/plain": [
       "Bedrooms\n",
       "3       9784\n",
       "2       4763\n",
       "4       4219\n",
       "3.0     2019\n",
       "5       1883\n",
       "4.0      978\n",
       "1        889\n",
       "2.0      777\n",
       "6        630\n",
       "5.0      457\n",
       "7        193\n",
       "1.0      163\n",
       "6.0      137\n",
       "8         71\n",
       "7.0       47\n",
       "10        45\n",
       "9         38\n",
       "8.0       10\n",
       "9.0       10\n",
       "10.0       8\n",
       "10+        1\n",
       "Name: count, dtype: int64"
      ]
     },
     "execution_count": 12,
     "metadata": {},
     "output_type": "execute_result"
    }
   ],
   "source": [
    "# wartości zmiennej bedrooms\n",
    "df['Bedrooms'].value_counts()"
   ]
  },
  {
   "cell_type": "code",
   "execution_count": 13,
   "metadata": {},
   "outputs": [
    {
     "data": {
      "text/plain": [
       "Bathrooms\n",
       "2       7753\n",
       "3       6119\n",
       "4       3219\n",
       "1       3153\n",
       "5       1444\n",
       "2.0     1433\n",
       "3.0     1383\n",
       "4.0      706\n",
       "1.0      533\n",
       "6        485\n",
       "5.0      365\n",
       "7        222\n",
       "6.0      114\n",
       "8         78\n",
       "7.0       46\n",
       "10        38\n",
       "9         33\n",
       "8.0       16\n",
       "10.0       7\n",
       "9.0        6\n",
       "10+        1\n",
       "Name: count, dtype: int64"
      ]
     },
     "execution_count": 13,
     "metadata": {},
     "output_type": "execute_result"
    }
   ],
   "source": [
    "# wartości zmiennej bathrooms\n",
    "df['Bathrooms'].value_counts()"
   ]
  },
  {
   "cell_type": "code",
   "execution_count": 14,
   "metadata": {},
   "outputs": [],
   "source": [
    "# usunięcie błędnych danych\n",
    "df = df[df['Bathrooms']!='10+'].reset_index(drop=True)"
   ]
  },
  {
   "cell_type": "code",
   "execution_count": 15,
   "metadata": {},
   "outputs": [],
   "source": [
    "# konwersja na kolumny\n",
    "df[cols_to_numeric] = df[cols_to_numeric].astype('float')"
   ]
  },
  {
   "cell_type": "code",
   "execution_count": 16,
   "metadata": {},
   "outputs": [
    {
     "data": {
      "text/plain": [
       "Type                  0\n",
       "Price                39\n",
       "Bedrooms            239\n",
       "Bathrooms           207\n",
       "Area                507\n",
       "Furnished             0\n",
       "Level             10439\n",
       "Compound              0\n",
       "Payment_Option        0\n",
       "Delivery_Date         0\n",
       "Delivery_Term         0\n",
       "City                  0\n",
       "dtype: int64"
      ]
     },
     "execution_count": 16,
     "metadata": {},
     "output_type": "execute_result"
    }
   ],
   "source": [
    "# sprawdzenie braków danych\n",
    "df.isna().sum()"
   ]
  },
  {
   "cell_type": "code",
   "execution_count": 17,
   "metadata": {},
   "outputs": [],
   "source": [
    "# uzupelnienie braków danych \n",
    "df['Bedrooms'] = df['Bedrooms'].fillna(df['Bedrooms'].median())\n",
    "df['Bathrooms'] = df['Bathrooms'].fillna(df['Bathrooms'].median())\n",
    "df['Area'] = df['Area'].fillna(df['Area'].median())"
   ]
  },
  {
   "cell_type": "code",
   "execution_count": 39,
   "metadata": {},
   "outputs": [],
   "source": [
    "#usuniecie rekordów bez ceny mieszkania\n",
    "df = df[~(df['Price'].isna())].reset_index(drop=True)"
   ]
  },
  {
   "cell_type": "code",
   "execution_count": 19,
   "metadata": {},
   "outputs": [],
   "source": [
    "# znalezienie nazw kolumn kategorycznych\n",
    "cat_features = list(df.select_dtypes(include= 'object').columns)"
   ]
  },
  {
   "cell_type": "code",
   "execution_count": 20,
   "metadata": {},
   "outputs": [
    {
     "data": {
      "text/plain": [
       "['Type',\n",
       " 'Furnished',\n",
       " 'Compound',\n",
       " 'Payment_Option',\n",
       " 'Delivery_Date',\n",
       " 'Delivery_Term',\n",
       " 'City']"
      ]
     },
     "execution_count": 20,
     "metadata": {},
     "output_type": "execute_result"
    }
   ],
   "source": [
    "cat_features"
   ]
  },
  {
   "cell_type": "code",
   "execution_count": 21,
   "metadata": {},
   "outputs": [],
   "source": [
    "del cat_features[cat_features.index('Compound')]\n",
    "del cat_features[cat_features.index('City')]"
   ]
  },
  {
   "cell_type": "code",
   "execution_count": 22,
   "metadata": {},
   "outputs": [],
   "source": [
    "# One-hot encoding\n",
    "df = pd.get_dummies(data=df,columns=cat_features, drop_first=True)"
   ]
  },
  {
   "cell_type": "code",
   "execution_count": 23,
   "metadata": {},
   "outputs": [
    {
     "data": {
      "text/html": [
       "<div>\n",
       "<style scoped>\n",
       "    .dataframe tbody tr th:only-of-type {\n",
       "        vertical-align: middle;\n",
       "    }\n",
       "\n",
       "    .dataframe tbody tr th {\n",
       "        vertical-align: top;\n",
       "    }\n",
       "\n",
       "    .dataframe thead th {\n",
       "        text-align: right;\n",
       "    }\n",
       "</style>\n",
       "<table border=\"1\" class=\"dataframe\">\n",
       "  <thead>\n",
       "    <tr style=\"text-align: right;\">\n",
       "      <th></th>\n",
       "      <th>Price</th>\n",
       "      <th>Bedrooms</th>\n",
       "      <th>Bathrooms</th>\n",
       "      <th>Area</th>\n",
       "      <th>Level</th>\n",
       "      <th>Compound</th>\n",
       "      <th>City</th>\n",
       "      <th>Type_Chalet</th>\n",
       "      <th>Type_Duplex</th>\n",
       "      <th>Type_Penthouse</th>\n",
       "      <th>...</th>\n",
       "      <th>Delivery_Date_2026</th>\n",
       "      <th>Delivery_Date_2027</th>\n",
       "      <th>Delivery_Date_Ready to move</th>\n",
       "      <th>Delivery_Date_Unknown</th>\n",
       "      <th>Delivery_Date_soon</th>\n",
       "      <th>Delivery_Date_within 6 months</th>\n",
       "      <th>Delivery_Term_Finished</th>\n",
       "      <th>Delivery_Term_Not Finished</th>\n",
       "      <th>Delivery_Term_Semi Finished</th>\n",
       "      <th>Delivery_Term_Unknown</th>\n",
       "    </tr>\n",
       "  </thead>\n",
       "  <tbody>\n",
       "    <tr>\n",
       "      <th>0</th>\n",
       "      <td>4000000.0</td>\n",
       "      <td>3.0</td>\n",
       "      <td>3.0</td>\n",
       "      <td>400.0</td>\n",
       "      <td>7.0</td>\n",
       "      <td>Unknown</td>\n",
       "      <td>Nasr City</td>\n",
       "      <td>False</td>\n",
       "      <td>True</td>\n",
       "      <td>False</td>\n",
       "      <td>...</td>\n",
       "      <td>False</td>\n",
       "      <td>False</td>\n",
       "      <td>True</td>\n",
       "      <td>False</td>\n",
       "      <td>False</td>\n",
       "      <td>False</td>\n",
       "      <td>True</td>\n",
       "      <td>False</td>\n",
       "      <td>False</td>\n",
       "      <td>False</td>\n",
       "    </tr>\n",
       "    <tr>\n",
       "      <th>1</th>\n",
       "      <td>4000000.0</td>\n",
       "      <td>3.0</td>\n",
       "      <td>3.0</td>\n",
       "      <td>160.0</td>\n",
       "      <td>11.0</td>\n",
       "      <td>Unknown</td>\n",
       "      <td>Camp Caesar</td>\n",
       "      <td>False</td>\n",
       "      <td>False</td>\n",
       "      <td>False</td>\n",
       "      <td>...</td>\n",
       "      <td>False</td>\n",
       "      <td>False</td>\n",
       "      <td>True</td>\n",
       "      <td>False</td>\n",
       "      <td>False</td>\n",
       "      <td>False</td>\n",
       "      <td>True</td>\n",
       "      <td>False</td>\n",
       "      <td>False</td>\n",
       "      <td>False</td>\n",
       "    </tr>\n",
       "    <tr>\n",
       "      <th>2</th>\n",
       "      <td>2250000.0</td>\n",
       "      <td>3.0</td>\n",
       "      <td>2.0</td>\n",
       "      <td>165.0</td>\n",
       "      <td>1.0</td>\n",
       "      <td>Unknown</td>\n",
       "      <td>Smoha</td>\n",
       "      <td>False</td>\n",
       "      <td>False</td>\n",
       "      <td>False</td>\n",
       "      <td>...</td>\n",
       "      <td>False</td>\n",
       "      <td>False</td>\n",
       "      <td>True</td>\n",
       "      <td>False</td>\n",
       "      <td>False</td>\n",
       "      <td>False</td>\n",
       "      <td>True</td>\n",
       "      <td>False</td>\n",
       "      <td>False</td>\n",
       "      <td>False</td>\n",
       "    </tr>\n",
       "    <tr>\n",
       "      <th>3</th>\n",
       "      <td>1900000.0</td>\n",
       "      <td>3.0</td>\n",
       "      <td>2.0</td>\n",
       "      <td>230.0</td>\n",
       "      <td>10.0</td>\n",
       "      <td>Unknown</td>\n",
       "      <td>Nasr City</td>\n",
       "      <td>False</td>\n",
       "      <td>False</td>\n",
       "      <td>False</td>\n",
       "      <td>...</td>\n",
       "      <td>False</td>\n",
       "      <td>False</td>\n",
       "      <td>True</td>\n",
       "      <td>False</td>\n",
       "      <td>False</td>\n",
       "      <td>False</td>\n",
       "      <td>True</td>\n",
       "      <td>False</td>\n",
       "      <td>False</td>\n",
       "      <td>False</td>\n",
       "    </tr>\n",
       "    <tr>\n",
       "      <th>4</th>\n",
       "      <td>5800000.0</td>\n",
       "      <td>2.0</td>\n",
       "      <td>3.0</td>\n",
       "      <td>160.0</td>\n",
       "      <td>0.0</td>\n",
       "      <td>Eastown</td>\n",
       "      <td>New Cairo - El Tagamoa</td>\n",
       "      <td>False</td>\n",
       "      <td>False</td>\n",
       "      <td>False</td>\n",
       "      <td>...</td>\n",
       "      <td>False</td>\n",
       "      <td>False</td>\n",
       "      <td>True</td>\n",
       "      <td>False</td>\n",
       "      <td>False</td>\n",
       "      <td>False</td>\n",
       "      <td>False</td>\n",
       "      <td>False</td>\n",
       "      <td>True</td>\n",
       "      <td>False</td>\n",
       "    </tr>\n",
       "  </tbody>\n",
       "</table>\n",
       "<p>5 rows × 34 columns</p>\n",
       "</div>"
      ],
      "text/plain": [
       "       Price  Bedrooms  Bathrooms   Area  Level Compound  \\\n",
       "0  4000000.0       3.0        3.0  400.0    7.0  Unknown   \n",
       "1  4000000.0       3.0        3.0  160.0   11.0  Unknown   \n",
       "2  2250000.0       3.0        2.0  165.0    1.0  Unknown   \n",
       "3  1900000.0       3.0        2.0  230.0   10.0  Unknown   \n",
       "4  5800000.0       2.0        3.0  160.0    0.0  Eastown   \n",
       "\n",
       "                     City  Type_Chalet  Type_Duplex  Type_Penthouse  ...  \\\n",
       "0               Nasr City        False         True           False  ...   \n",
       "1             Camp Caesar        False        False           False  ...   \n",
       "2                   Smoha        False        False           False  ...   \n",
       "3               Nasr City        False        False           False  ...   \n",
       "4  New Cairo - El Tagamoa        False        False           False  ...   \n",
       "\n",
       "   Delivery_Date_2026  Delivery_Date_2027  Delivery_Date_Ready to move  \\\n",
       "0               False               False                         True   \n",
       "1               False               False                         True   \n",
       "2               False               False                         True   \n",
       "3               False               False                         True   \n",
       "4               False               False                         True   \n",
       "\n",
       "   Delivery_Date_Unknown  Delivery_Date_soon  Delivery_Date_within 6 months  \\\n",
       "0                  False               False                          False   \n",
       "1                  False               False                          False   \n",
       "2                  False               False                          False   \n",
       "3                  False               False                          False   \n",
       "4                  False               False                          False   \n",
       "\n",
       "   Delivery_Term_Finished  Delivery_Term_Not Finished  \\\n",
       "0                    True                       False   \n",
       "1                    True                       False   \n",
       "2                    True                       False   \n",
       "3                    True                       False   \n",
       "4                   False                       False   \n",
       "\n",
       "   Delivery_Term_Semi Finished  Delivery_Term_Unknown   \n",
       "0                        False                   False  \n",
       "1                        False                   False  \n",
       "2                        False                   False  \n",
       "3                        False                   False  \n",
       "4                         True                   False  \n",
       "\n",
       "[5 rows x 34 columns]"
      ]
     },
     "execution_count": 23,
     "metadata": {},
     "output_type": "execute_result"
    }
   ],
   "source": [
    "df.head()"
   ]
  },
  {
   "cell_type": "code",
   "execution_count": 24,
   "metadata": {},
   "outputs": [],
   "source": [
    "from sklearn.model_selection import train_test_split"
   ]
  },
  {
   "cell_type": "code",
   "execution_count": 27,
   "metadata": {},
   "outputs": [],
   "source": [
    "# podzielenie zbioru na train/test\n",
    "train_x, test_x, train_y, test_y = train_test_split(df.drop(['Price', 'Compound','City'], axis=1), df['Price'], test_size = 0.2, random_state=123)"
   ]
  },
  {
   "cell_type": "code",
   "execution_count": 28,
   "metadata": {},
   "outputs": [],
   "source": [
    "#wydzielenie zbioru walidacyjnego\n",
    "train_x, valid_x, train_y, valid_y = train_test_split(train_x, train_y, test_size = 0.2, random_state=123)"
   ]
  },
  {
   "cell_type": "code",
   "execution_count": 29,
   "metadata": {},
   "outputs": [],
   "source": [
    "from sklearn.tree import DecisionTreeRegressor\n",
    "from sklearn.ensemble import RandomForestRegressor"
   ]
  },
  {
   "cell_type": "code",
   "execution_count": 31,
   "metadata": {},
   "outputs": [],
   "source": [
    "from sklearn.metrics import mean_absolute_error"
   ]
  },
  {
   "cell_type": "code",
   "execution_count": 30,
   "metadata": {},
   "outputs": [],
   "source": [
    "# lista modeli\n",
    "models = [DecisionTreeRegressor(min_weight_fraction_leaf=0.002,max_depth=20),\n",
    "          RandomForestRegressor(max_depth=10,min_weight_fraction_leaf=0.002,oob_score=True, max_leaf_nodes=20)]"
   ]
  },
  {
   "cell_type": "code",
   "execution_count": 32,
   "metadata": {},
   "outputs": [],
   "source": [
    "# funkcja do wyboru modeli\n",
    "def opt_fun(train_x: pd.DataFrame,\n",
    "            test_x: pd.DataFrame, \n",
    "            train_y: pd.DataFrame| pd.Series,\n",
    "            test_y: pd.DataFrame| pd.Series, \n",
    "            models: list) -> tuple:\n",
    "    \"\"\"\n",
    "    This function estimates models predefined in models list and chooses the best one\n",
    "    train_x: pd.DataFrame - Data frame containing train X\n",
    "    test_x: pd.DataFrame  - Data frame containing test X, \n",
    "    train_y: pd.DataFrame| pd.Series  - Data frame or Series containing train y,\n",
    "    test_y: pd.DataFrame| pd.Series - Data frame or Series containing test y, \n",
    "    models: list - list of models It should defined model object compatible with scikit-learn\n",
    "    \"\"\"\n",
    "    best_model = None\n",
    "    best_metric = None \n",
    "\n",
    "    for m in models:\n",
    "        model = m.fit(train_x,train_y)\n",
    "        test_pred = model.predict(test_x)\n",
    "        metric = mean_absolute_error(test_y,test_pred)\n",
    "        if best_metric is None or best_metric<metric:\n",
    "            best_model = model \n",
    "            best_metric = metric\n",
    "    return best_model, best_metric"
   ]
  },
  {
   "cell_type": "code",
   "execution_count": 33,
   "metadata": {},
   "outputs": [],
   "source": [
    "model , score = opt_fun(train_x, test_x, train_y, test_y, models)"
   ]
  },
  {
   "cell_type": "code",
   "execution_count": 34,
   "metadata": {},
   "outputs": [
    {
     "data": {
      "text/plain": [
       "np.float64(2410721.4444414335)"
      ]
     },
     "execution_count": 34,
     "metadata": {},
     "output_type": "execute_result"
    }
   ],
   "source": [
    "score"
   ]
  },
  {
   "cell_type": "code",
   "execution_count": 35,
   "metadata": {},
   "outputs": [
    {
     "data": {
      "text/plain": [
       "np.float64(2560673.02611078)"
      ]
     },
     "execution_count": 35,
     "metadata": {},
     "output_type": "execute_result"
    }
   ],
   "source": [
    "pred_valid = model.predict(valid_x)\n",
    "mean_absolute_error(valid_y, pred_valid)"
   ]
  },
  {
   "cell_type": "code",
   "execution_count": 36,
   "metadata": {},
   "outputs": [
    {
     "data": {
      "text/plain": [
       "count    2.732100e+04\n",
       "mean     4.761923e+06\n",
       "std      6.766756e+06\n",
       "min      3.000000e+04\n",
       "25%      1.150000e+06\n",
       "50%      2.731000e+06\n",
       "75%      5.990000e+06\n",
       "max      2.400000e+08\n",
       "Name: Price, dtype: float64"
      ]
     },
     "execution_count": 36,
     "metadata": {},
     "output_type": "execute_result"
    }
   ],
   "source": [
    "df['Price'].describe()"
   ]
  }
 ],
 "metadata": {
  "kernelspec": {
   "display_name": "Python 3",
   "language": "python",
   "name": "python3"
  },
  "language_info": {
   "codemirror_mode": {
    "name": "ipython",
    "version": 3
   },
   "file_extension": ".py",
   "mimetype": "text/x-python",
   "name": "python",
   "nbconvert_exporter": "python",
   "pygments_lexer": "ipython3",
   "version": "3.12.5"
  }
 },
 "nbformat": 4,
 "nbformat_minor": 2
}
