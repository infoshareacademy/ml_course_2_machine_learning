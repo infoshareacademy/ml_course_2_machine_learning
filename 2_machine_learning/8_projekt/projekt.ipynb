{
 "cells": [
  {
   "cell_type": "markdown",
   "metadata": {},
   "source": [
    "# Projekt - podstawy Machine Learning\n",
    "\n",
    "Nadszedł czas na podsumownaie pracy w tym module.\n",
    "\n",
    "Do rozwiązania mamy problem regresyjny. Mamy zaprognozować kwotę sprzedaży mieszkania. Taki model pozwoli na lepsze oszacowanie potencjalnej kwoty sprzedaży, szybszą finalizację transakcji i może być wsparciem dla agentów nieruchomości oraz dla sprzedawców i nabywców.\n",
    "\n",
    "Link do zbioru danych: https://www.kaggle.com/datasets/mohammedaltet/egypt-houses-price\n",
    "\n",
    "Kolumny w zbiorze:\n",
    "- Type: the type of property\n",
    "- Price: the price of property\n",
    "- Bedrooms: number of bedrooms\n",
    "- Bathrooms: number of bathrooms\n",
    "- Area: the Area of the property by m^2\n",
    "- Furnished: is the property Furnished or not\n",
    "- Level: In what floor the property is ?\n",
    "- Compound: ** In what Compound the property is ?**\n",
    "- Payment_Option\n",
    "- Delivery_Date\n",
    "- City\n",
    "\n",
    "Zadanie polega na eksploracji danych\n",
    "oraz napisaniu funkcji, która wytrenuje i porówna przynajmniej dwa różne algorytmy oraz wybierze najlepsze rozwiązanie. "
   ]
  },
  {
   "cell_type": "markdown",
   "metadata": {},
   "source": [
    "## UWAGA \n",
    "\n",
    "- Zwróć uwagę na typy zmiennych (dane wymagają wyczyszczenia) - jeżeli napotkasz problemy, obejrzyj początek nagrania z rozwiązaniem.\n",
    "- na dole znajdziesz szkielet funkcji optymalizacyjnej, ale nie musisz z niej korzystać."
   ]
  },
  {
   "cell_type": "code",
   "execution_count": 1,
   "metadata": {},
   "outputs": [],
   "source": [
    "import pandas as pd\n",
    "import os\n",
    "import numpy as np"
   ]
  },
  {
   "cell_type": "code",
   "execution_count": 2,
   "metadata": {},
   "outputs": [],
   "source": [
    "# Wczytanie danych\n",
    "os.chdir('../')\n",
    "df = pd.read_csv(\"data/Egypt_Houses_Price.csv\")\n"
   ]
  },
  {
   "cell_type": "code",
   "execution_count": 32,
   "metadata": {},
   "outputs": [],
   "source": [
    "# funkcja do wyboru modeli\n",
    "def opt_fun(train_x: pd.DataFrame,\n",
    "            test_x: pd.DataFrame, \n",
    "            train_y: pd.DataFrame| pd.Series,\n",
    "            test_y: pd.DataFrame| pd.Series, \n",
    "            models: list) -> tuple:\n",
    "    \"\"\"\n",
    "    This function estimates models predefined in models list and chooses the best one\n",
    "    train_x: pd.DataFrame - Data frame containing train X\n",
    "    test_x: pd.DataFrame  - Data frame containing test X, \n",
    "    train_y: pd.DataFrame| pd.Series  - Data frame or Series containing train y,\n",
    "    test_y: pd.DataFrame| pd.Series - Data frame or Series containing test y, \n",
    "    models: list - list of models It should defined model object compatible with scikit-learn\n",
    "    \"\"\""
   ]
  }
 ],
 "metadata": {
  "kernelspec": {
   "display_name": "Python 3",
   "language": "python",
   "name": "python3"
  },
  "language_info": {
   "codemirror_mode": {
    "name": "ipython",
    "version": 3
   },
   "file_extension": ".py",
   "mimetype": "text/x-python",
   "name": "python",
   "nbconvert_exporter": "python",
   "pygments_lexer": "ipython3",
   "version": "3.12.5"
  }
 },
 "nbformat": 4,
 "nbformat_minor": 2
}
